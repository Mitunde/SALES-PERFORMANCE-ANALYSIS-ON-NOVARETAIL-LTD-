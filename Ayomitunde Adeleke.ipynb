{
 "cells": [
  {
   "cell_type": "code",
   "execution_count": 7,
   "id": "3e6c230e-31bb-434a-8efe-8f984c762f7f",
   "metadata": {},
   "outputs": [],
   "source": [
    "import pandas as pd\n",
    "invent=pd.read_csv(\"Desktop/Jupyter/sales_transactions.csv\")"
   ]
  },
  {
   "cell_type": "code",
   "execution_count": 8,
   "id": "60f2ccfb-e467-4e3f-a1c9-6be65daa60de",
   "metadata": {},
   "outputs": [
    {
     "data": {
      "text/html": [
       "<div>\n",
       "<style scoped>\n",
       "    .dataframe tbody tr th:only-of-type {\n",
       "        vertical-align: middle;\n",
       "    }\n",
       "\n",
       "    .dataframe tbody tr th {\n",
       "        vertical-align: top;\n",
       "    }\n",
       "\n",
       "    .dataframe thead th {\n",
       "        text-align: right;\n",
       "    }\n",
       "</style>\n",
       "<table border=\"1\" class=\"dataframe\">\n",
       "  <thead>\n",
       "    <tr style=\"text-align: right;\">\n",
       "      <th></th>\n",
       "      <th>TransactionID</th>\n",
       "      <th>Date</th>\n",
       "      <th>City</th>\n",
       "      <th>CustomerID</th>\n",
       "      <th>CustomerType</th>\n",
       "      <th>Category</th>\n",
       "      <th>UnitsSold</th>\n",
       "      <th>UnitPrice</th>\n",
       "      <th>Revenue</th>\n",
       "      <th>Discount</th>\n",
       "      <th>SalesRep</th>\n",
       "    </tr>\n",
       "  </thead>\n",
       "  <tbody>\n",
       "    <tr>\n",
       "      <th>0</th>\n",
       "      <td>T001</td>\n",
       "      <td>2024-01-15</td>\n",
       "      <td>Lagos</td>\n",
       "      <td>C001</td>\n",
       "      <td>New</td>\n",
       "      <td>Electronics</td>\n",
       "      <td>2</td>\n",
       "      <td>150000</td>\n",
       "      <td>300000</td>\n",
       "      <td>5000</td>\n",
       "      <td>Chuka Obasi</td>\n",
       "    </tr>\n",
       "    <tr>\n",
       "      <th>1</th>\n",
       "      <td>T002</td>\n",
       "      <td>2024-01-18</td>\n",
       "      <td>Abuja</td>\n",
       "      <td>C002</td>\n",
       "      <td>Returning</td>\n",
       "      <td>Appliances</td>\n",
       "      <td>1</td>\n",
       "      <td>85000</td>\n",
       "      <td>85000</td>\n",
       "      <td>0</td>\n",
       "      <td>Mary Felix</td>\n",
       "    </tr>\n",
       "    <tr>\n",
       "      <th>2</th>\n",
       "      <td>T003</td>\n",
       "      <td>2024-01-20</td>\n",
       "      <td>Port Harcourt</td>\n",
       "      <td>C003</td>\n",
       "      <td>New</td>\n",
       "      <td>Accessories</td>\n",
       "      <td>4</td>\n",
       "      <td>5000</td>\n",
       "      <td>20000</td>\n",
       "      <td>200</td>\n",
       "      <td>Abdul Salim</td>\n",
       "    </tr>\n",
       "    <tr>\n",
       "      <th>3</th>\n",
       "      <td>T004</td>\n",
       "      <td>2024-01-21</td>\n",
       "      <td>Lagos</td>\n",
       "      <td>C004</td>\n",
       "      <td>Returning</td>\n",
       "      <td>Electronics</td>\n",
       "      <td>1</td>\n",
       "      <td>160000</td>\n",
       "      <td>160000</td>\n",
       "      <td>3000</td>\n",
       "      <td>Chuka Obasi</td>\n",
       "    </tr>\n",
       "    <tr>\n",
       "      <th>4</th>\n",
       "      <td>T005</td>\n",
       "      <td>2024-02-01</td>\n",
       "      <td>Kano</td>\n",
       "      <td>C005</td>\n",
       "      <td>New</td>\n",
       "      <td>Appliances</td>\n",
       "      <td>2</td>\n",
       "      <td>90000</td>\n",
       "      <td>180000</td>\n",
       "      <td>4000</td>\n",
       "      <td>Mary Felix</td>\n",
       "    </tr>\n",
       "    <tr>\n",
       "      <th>...</th>\n",
       "      <td>...</td>\n",
       "      <td>...</td>\n",
       "      <td>...</td>\n",
       "      <td>...</td>\n",
       "      <td>...</td>\n",
       "      <td>...</td>\n",
       "      <td>...</td>\n",
       "      <td>...</td>\n",
       "      <td>...</td>\n",
       "      <td>...</td>\n",
       "      <td>...</td>\n",
       "    </tr>\n",
       "    <tr>\n",
       "      <th>105</th>\n",
       "      <td>T106</td>\n",
       "      <td>2024-03-05</td>\n",
       "      <td>Lagos</td>\n",
       "      <td>C046</td>\n",
       "      <td>New</td>\n",
       "      <td>Electronics</td>\n",
       "      <td>2</td>\n",
       "      <td>155000</td>\n",
       "      <td>310000</td>\n",
       "      <td>500</td>\n",
       "      <td>Abdul Salim</td>\n",
       "    </tr>\n",
       "    <tr>\n",
       "      <th>106</th>\n",
       "      <td>T107</td>\n",
       "      <td>2024-10-23</td>\n",
       "      <td>Port Harcourt</td>\n",
       "      <td>C061</td>\n",
       "      <td>Returning</td>\n",
       "      <td>Electronics</td>\n",
       "      <td>2</td>\n",
       "      <td>155000</td>\n",
       "      <td>310000</td>\n",
       "      <td>4000</td>\n",
       "      <td>Mary Felix</td>\n",
       "    </tr>\n",
       "    <tr>\n",
       "      <th>107</th>\n",
       "      <td>T108</td>\n",
       "      <td>2024-09-08</td>\n",
       "      <td>Port Harcourt</td>\n",
       "      <td>C070</td>\n",
       "      <td>New</td>\n",
       "      <td>Accessories</td>\n",
       "      <td>1</td>\n",
       "      <td>5500</td>\n",
       "      <td>5500</td>\n",
       "      <td>500</td>\n",
       "      <td>Mary Felix</td>\n",
       "    </tr>\n",
       "    <tr>\n",
       "      <th>108</th>\n",
       "      <td>T109</td>\n",
       "      <td>2024-02-10</td>\n",
       "      <td>Kano</td>\n",
       "      <td>C135</td>\n",
       "      <td>New</td>\n",
       "      <td>Electronics</td>\n",
       "      <td>2</td>\n",
       "      <td>150000</td>\n",
       "      <td>300000</td>\n",
       "      <td>200</td>\n",
       "      <td>Chuka Obasi</td>\n",
       "    </tr>\n",
       "    <tr>\n",
       "      <th>109</th>\n",
       "      <td>T110</td>\n",
       "      <td>2024-11-08</td>\n",
       "      <td>Lagos</td>\n",
       "      <td>C113</td>\n",
       "      <td>New</td>\n",
       "      <td>Electronics</td>\n",
       "      <td>2</td>\n",
       "      <td>162000</td>\n",
       "      <td>324000</td>\n",
       "      <td>7000</td>\n",
       "      <td>Mary Felix</td>\n",
       "    </tr>\n",
       "  </tbody>\n",
       "</table>\n",
       "<p>110 rows × 11 columns</p>\n",
       "</div>"
      ],
      "text/plain": [
       "    TransactionID        Date           City CustomerID CustomerType  \\\n",
       "0            T001  2024-01-15          Lagos       C001          New   \n",
       "1            T002  2024-01-18          Abuja       C002    Returning   \n",
       "2            T003  2024-01-20  Port Harcourt       C003          New   \n",
       "3            T004  2024-01-21          Lagos       C004    Returning   \n",
       "4            T005  2024-02-01           Kano       C005          New   \n",
       "..            ...         ...            ...        ...          ...   \n",
       "105          T106  2024-03-05          Lagos       C046          New   \n",
       "106          T107  2024-10-23  Port Harcourt       C061    Returning   \n",
       "107          T108  2024-09-08  Port Harcourt       C070          New   \n",
       "108          T109  2024-02-10           Kano       C135          New   \n",
       "109          T110  2024-11-08          Lagos       C113          New   \n",
       "\n",
       "        Category  UnitsSold  UnitPrice  Revenue  Discount     SalesRep  \n",
       "0    Electronics          2     150000   300000      5000  Chuka Obasi  \n",
       "1     Appliances          1      85000    85000         0   Mary Felix  \n",
       "2    Accessories          4       5000    20000       200  Abdul Salim  \n",
       "3    Electronics          1     160000   160000      3000  Chuka Obasi  \n",
       "4     Appliances          2      90000   180000      4000   Mary Felix  \n",
       "..           ...        ...        ...      ...       ...          ...  \n",
       "105  Electronics          2     155000   310000       500  Abdul Salim  \n",
       "106  Electronics          2     155000   310000      4000   Mary Felix  \n",
       "107  Accessories          1       5500     5500       500   Mary Felix  \n",
       "108  Electronics          2     150000   300000       200  Chuka Obasi  \n",
       "109  Electronics          2     162000   324000      7000   Mary Felix  \n",
       "\n",
       "[110 rows x 11 columns]"
      ]
     },
     "execution_count": 8,
     "metadata": {},
     "output_type": "execute_result"
    }
   ],
   "source": [
    "invent"
   ]
  },
  {
   "cell_type": "code",
   "execution_count": 45,
   "id": "01094abe-4ce1-46d1-bf6c-5b2c31e657f6",
   "metadata": {},
   "outputs": [
    {
     "data": {
      "text/plain": [
       "0     2024-01-15\n",
       "1     2024-01-18\n",
       "2     2024-01-20\n",
       "3     2024-01-21\n",
       "4     2024-02-01\n",
       "         ...    \n",
       "105   2024-03-05\n",
       "106   2024-10-23\n",
       "107   2024-09-08\n",
       "108   2024-02-10\n",
       "109   2024-11-08\n",
       "Name: Date, Length: 110, dtype: datetime64[ns]"
      ]
     },
     "execution_count": 45,
     "metadata": {},
     "output_type": "execute_result"
    }
   ],
   "source": [
    "invent[\"Date\"].astype(\"datetime64[ns]\")"
   ]
  },
  {
   "cell_type": "code",
   "execution_count": 46,
   "id": "e0dde4dd-f06d-4adb-a2b1-3dcd9d12441d",
   "metadata": {},
   "outputs": [],
   "source": [
    "invent.dropna(inplace=True)     \n",
    "invent.dropna(axis=1, inplace=True) \n"
   ]
  },
  {
   "cell_type": "code",
   "execution_count": 47,
   "id": "4757fa8e-d654-476e-9fb8-aba29d9bc5d3",
   "metadata": {},
   "outputs": [],
   "source": [
    "invent.drop_duplicates(inplace=True)\n"
   ]
  },
  {
   "cell_type": "code",
   "execution_count": 48,
   "id": "92e45e6d-1b64-499e-9e7d-71fc624ecf2b",
   "metadata": {},
   "outputs": [
    {
     "name": "stdout",
     "output_type": "stream",
     "text": [
      "1. Total revenue generated: ₦29,521,000.00\n"
     ]
    }
   ],
   "source": [
    "#1. What is the total revenue generated in the dataset?\n",
    "total_revenue = invent['Revenue'].sum()\n",
    "print(f\"1. Total revenue generated: ₦{total_revenue:,.2f}\")\n"
   ]
  },
  {
   "cell_type": "code",
   "execution_count": 49,
   "id": "c06c8ad6-b679-48ed-85be-443e7d5def42",
   "metadata": {},
   "outputs": [
    {
     "name": "stdout",
     "output_type": "stream",
     "text": [
      "2. total transaction recorded: 110\n"
     ]
    }
   ],
   "source": [
    "#2. How many total transactions were recorded?\n",
    "total_transaction= invent[\"TransactionID\"].count()\n",
    "print(\"2. total transaction recorded:\", total_transaction)"
   ]
  },
  {
   "cell_type": "code",
   "execution_count": 50,
   "id": "f0da113f-2658-47eb-abbc-fa603fc07715",
   "metadata": {},
   "outputs": [
    {
     "name": "stdout",
     "output_type": "stream",
     "text": [
      "3. Distinct customer: 77\n"
     ]
    }
   ],
   "source": [
    " #3 How many distinct customers made purchases?\n",
    "Distinct_customer= invent[\"CustomerID\"].nunique()\n",
    "print(\"3. Distinct customer:\", Distinct_customer)\n"
   ]
  },
  {
   "cell_type": "code",
   "execution_count": 51,
   "id": "b265e319-5cd5-45fc-b153-3e680a4cfe8e",
   "metadata": {},
   "outputs": [
    {
     "name": "stdout",
     "output_type": "stream",
     "text": [
      "4. total revenue from Lagos: ₦9,285,500.00\n"
     ]
    }
   ],
   "source": [
    "#4. What is the total revenue generated from Lagos alone?\n",
    "total_lagos_revenue = invent.loc[invent['City'] == 'Lagos', 'Revenue'].sum()\n",
    "total_lagos_revenue\n",
    "print(f\"4. total revenue from Lagos: ₦{total_lagos_revenue:,.2f}\")\n"
   ]
  },
  {
   "cell_type": "code",
   "execution_count": 10,
   "id": "8b26d86e-3596-44d9-8e80-54c252b2ff54",
   "metadata": {},
   "outputs": [
    {
     "name": "stdout",
     "output_type": "stream",
     "text": [
      "5. Units of Accessories sold in Abuja: 22\n"
     ]
    }
   ],
   "source": [
    "\n",
    "# --- 5. Units of \"Accessories\" sold in Abuja ---\n",
    "accessories_units_abuja = invent.loc[\n",
    "    (invent[\"City\"].str.lower() == \"abuja\") & (invent[\"Category\"].str.lower() == \"accessories\"),\n",
    "    \"UnitsSold\"\n",
    "].sum()\n",
    "print(\"5. Units of Accessories sold in Abuja:\", accessories_units_abuja)"
   ]
  },
  {
   "cell_type": "code",
   "execution_count": 53,
   "id": "abf9f9d4-f4f8-4244-ad60-67761537debb",
   "metadata": {},
   "outputs": [
    {
     "name": "stdout",
     "output_type": "stream",
     "text": [
      "6. Average discount offered:₦3,248.18\n"
     ]
    }
   ],
   "source": [
    "# 6. Average discount offered ---\n",
    "avg_discount = invent[\"Discount\"].mean()\n",
    "avg_discount\n",
    "print(f\"6. Average discount offered:₦{avg_discount:,.2f}\")"
   ]
  },
  {
   "cell_type": "code",
   "execution_count": 54,
   "id": "a0f23d3a-dda6-4eee-9ec1-dc91f4cbfb12",
   "metadata": {},
   "outputs": [
    {
     "name": "stdout",
     "output_type": "stream",
     "text": [
      "7. Revenue for February 2024:₦3,855,000.00\n"
     ]
    }
   ],
   "source": [
    "#7What was the revenue for February 2024?\n",
    "invent[\"Date\"] = pd.to_datetime(invent[\"Date\"])\n",
    "\n",
    "feb_2024_revenue = invent[(invent[\"Date\"].dt.month == 2) & (invent[\"Date\"].dt.year == 2024)][\"Revenue\"].sum()\n",
    "feb_2024_revenue\n",
    "print(f\"7. Revenue for February 2024:₦{feb_2024_revenue:,.2f}\")"
   ]
  },
  {
   "cell_type": "code",
   "execution_count": 55,
   "id": "ee07c5b9-18f2-4d2a-8f15-dfc3cb0e87d8",
   "metadata": {},
   "outputs": [
    {
     "name": "stdout",
     "output_type": "stream",
     "text": [
      "The month with the highest revenue is 2024-09 with total revenue of ₦4,744,500.00\n"
     ]
    }
   ],
   "source": [
    "#8 Which month had the highest sales revenue?\n",
    "monthly_revenue = invent.groupby(invent[\"Date\"].dt.to_period(\"M\"))[\"Revenue\"].sum()\n",
    "\n",
    "highest_month = monthly_revenue.idxmax()\n",
    "highest_value = monthly_revenue.max()\n",
    "\n",
    "print(f\"The month with the highest revenue is {highest_month} with total revenue of ₦{highest_value:,.2f}\")\n"
   ]
  },
  {
   "cell_type": "code",
   "execution_count": 81,
   "id": "a81e8d76-8a03-46d0-a707-1b3ba434bb1b",
   "metadata": {},
   "outputs": [
    {
     "name": "stdout",
     "output_type": "stream",
     "text": [
      "| index   | YearMonth   | Revenue   |\n",
      "|:--------|:------------|:----------|\n",
      "| 0       | 2024-01     | 2943000   |\n",
      "| 1       | 2024-02     | 3855000   |\n",
      "| 2       | 2024-03     | 2184500   |\n",
      "| 3       | 2024-04     | 1559500   |\n",
      "| 4       | 2024-05     | 2484500   |\n",
      "| 5       | 2024-06     | 1083000   |\n",
      "| 6       | 2024-07     | 1340000   |\n",
      "| 7       | 2024-08     | 552500    |\n",
      "| 8       | 2024-09     | 4744500   |\n",
      "| 9       | 2024-10     | 2739000   |\n",
      "| 10      | 2024-11     | 2009500   |\n",
      "| 11      | 2024-12     | 3889000   |\n",
      "| 12      | 2025-01     | 137000    |\n"
     ]
    }
   ],
   "source": [
    "9.#Create a measure to calculate monthly revenue trend\n",
    "monthly_revenue_trend=monthly_revenue.reset_index()\n",
    "monthly_revenue_trend['YearMonth']=monthly_revenue_trend['YearMonth'].astype(str)\n",
    "print(monthly_revenue_trend.to_markdown(index=False, numalign=\"left\", stralign=\"left\"))"
   ]
  },
  {
   "cell_type": "code",
   "execution_count": null,
   "id": "5dea6232-87d3-4feb-89df-d2481c2a5cff",
   "metadata": {},
   "outputs": [],
   "source": [
    "invent"
   ]
  },
  {
   "cell_type": "code",
   "execution_count": 11,
   "id": "84d18e75-11e2-4003-8f9d-e1978701d5ee",
   "metadata": {},
   "outputs": [
    {
     "name": "stdout",
     "output_type": "stream",
     "text": [
      "\n",
      "10. Revenue split between New and Returning customers:\n",
      "   CustomerType   Revenue\n",
      "0          New  12027000\n",
      "1    Returning  17494000\n"
     ]
    }
   ],
   "source": [
    "# 10 What is the revenue split between New and Returning customers?\n",
    "revenue_split = invent.groupby(\"CustomerType\")[\"Revenue\"].sum().reset_index()\n",
    "revenue_split\n",
    "print(\"\\n10. Revenue split between New and Returning customers:\\n\", revenue_split)"
   ]
  },
  {
   "cell_type": "code",
   "execution_count": 79,
   "id": "b05bd117-6db1-4270-a05e-2993a56ccba3",
   "metadata": {},
   "outputs": [
    {
     "name": "stdout",
     "output_type": "stream",
     "text": [
      "11. Average revenue per customer:₦383,389.61\n"
     ]
    }
   ],
   "source": [
    "#11. What is the average revenue per customer?\n",
    "avg_revenue_per_customer = invent.groupby(\"CustomerID\")[\"Revenue\"].sum().mean()\n",
    "avg_revenue_per_customer\n",
    "print(f\"11. Average revenue per customer:₦{avg_revenue_per_customer:,.2f}\")"
   ]
  },
  {
   "cell_type": "code",
   "execution_count": 80,
   "id": "c39754c2-1402-4b6a-9fe3-a8ed00a3cae0",
   "metadata": {},
   "outputs": [
    {
     "name": "stdout",
     "output_type": "stream",
     "text": [
      "12. Customers who bought more than once: 23\n"
     ]
    }
   ],
   "source": [
    "## --- 12. Customers who bought more than once ---\n",
    "customer_counts = invent[\"CustomerID\"].value_counts()\n",
    "customers_more_than_once = (customer_counts > 1).sum()\n",
    "customers_more_than_once\n",
    "print(\"12. Customers who bought more than once:\", customers_more_than_once)"
   ]
  },
  {
   "cell_type": "code",
   "execution_count": 88,
   "id": "956b29bf-d63e-4c88-8b90-afbb5c70bf26",
   "metadata": {},
   "outputs": [
    {
     "name": "stdout",
     "output_type": "stream",
     "text": [
      "13. Category with highest revenue: Category    Electronics\n",
      "Revenue        19149000\n",
      "Name: 2, dtype: object => ('Electronics', np.int64(19149000))\n"
     ]
    }
   ],
   "source": [
    "# --- 13. Product category that generated the most revenue ---\n",
    "category_revenue = invent.groupby(\"Category\")[\"Revenue\"].sum().reset_index()\n",
    "top_category_row = category_revenue.loc[category_revenue[\"Revenue\"].idxmax()]\n",
    "\n",
    "top_category_revenue = top_category_row[\"Category\"], top_category_row[\"Revenue\"]\n",
    "top_category_revenue \n",
    "print(\"13. Category with highest revenue:\", top_category_row, \"=>\", top_category_revenue)"
   ]
  },
  {
   "cell_type": "code",
   "execution_count": 13,
   "id": "8bdcc214-1560-4bc7-a658-6218ef88d96b",
   "metadata": {},
   "outputs": [
    {
     "name": "stdout",
     "output_type": "stream",
     "text": [
      "14. Average revenue per unit (Electronics):₦156,959.02\n"
     ]
    }
   ],
   "source": [
    "# --- 14. Average revenue per unit for Electronics ---\n",
    "electronics_sales = invent[invent[\"Category\"].str.lower() == \"electronics\"]\n",
    "avg_revenue_per_unit_electronics = electronics_sales[\"Revenue\"].sum() / electronics_sales[\"UnitsSold\"].sum()\n",
    "avg_revenue_per_unit_electronics \n",
    "print(f\"14. Average revenue per unit (Electronics):₦{avg_revenue_per_unit_electronics:,.2f}\")"
   ]
  },
  {
   "cell_type": "code",
   "execution_count": 14,
   "id": "00197c51-7de8-4925-a63a-ac0a1817dd2d",
   "metadata": {},
   "outputs": [
    {
     "name": "stdout",
     "output_type": "stream",
     "text": [
      "15. Top sales rep: Abdul Salim => ₦10,587,500\n"
     ]
    }
   ],
   "source": [
    "# --- 15. Sales rep with the highest total revenue ---\n",
    "salesrep_revenue = invent.groupby(\"SalesRep\")[\"Revenue\"].sum().reset_index()\n",
    "top_salesrep_row = salesrep_revenue.loc[salesrep_revenue[\"Revenue\"].idxmax()]\n",
    "top_salesrep, top_salesrep_revenue = top_salesrep_row[\"SalesRep\"], top_salesrep_row[\"Revenue\"]\n",
    "top_salesrep\n",
    "print(f\"15. Top sales rep: {top_salesrep} => ₦{top_salesrep_revenue:,}\")"
   ]
  },
  {
   "cell_type": "code",
   "execution_count": 75,
   "id": "53b6b949-351a-44cc-aa0d-4e50a8068b87",
   "metadata": {},
   "outputs": [
    {
     "data": {
      "text/html": [
       "<div>\n",
       "<style scoped>\n",
       "    .dataframe tbody tr th:only-of-type {\n",
       "        vertical-align: middle;\n",
       "    }\n",
       "\n",
       "    .dataframe tbody tr th {\n",
       "        vertical-align: top;\n",
       "    }\n",
       "\n",
       "    .dataframe thead th {\n",
       "        text-align: right;\n",
       "    }\n",
       "</style>\n",
       "<table border=\"1\" class=\"dataframe\">\n",
       "  <thead>\n",
       "    <tr style=\"text-align: right;\">\n",
       "      <th></th>\n",
       "      <th>SalesRep</th>\n",
       "      <th>UnitsSold</th>\n",
       "    </tr>\n",
       "  </thead>\n",
       "  <tbody>\n",
       "    <tr>\n",
       "      <th>0</th>\n",
       "      <td>Abdul Salim</td>\n",
       "      <td>134</td>\n",
       "    </tr>\n",
       "    <tr>\n",
       "      <th>1</th>\n",
       "      <td>Chuka Obasi</td>\n",
       "      <td>110</td>\n",
       "    </tr>\n",
       "    <tr>\n",
       "      <th>2</th>\n",
       "      <td>Mary Felix</td>\n",
       "      <td>113</td>\n",
       "    </tr>\n",
       "  </tbody>\n",
       "</table>\n",
       "</div>"
      ],
      "text/plain": [
       "      SalesRep  UnitsSold\n",
       "0  Abdul Salim        134\n",
       "1  Chuka Obasi        110\n",
       "2   Mary Felix        113"
      ]
     },
     "execution_count": 75,
     "metadata": {},
     "output_type": "execute_result"
    }
   ],
   "source": [
    "# --- 16. Total units sold by each sales rep ---\n",
    "salesrep_units = invent.groupby(\"SalesRep\")[\"UnitsSold\"].sum().reset_index()\n",
    "salesrep_units"
   ]
  },
  {
   "cell_type": "code",
   "execution_count": 74,
   "id": "b09e157e-022a-457f-961d-7378ff89c29a",
   "metadata": {},
   "outputs": [
    {
     "name": "stdout",
     "output_type": "stream",
     "text": [
      "17. Revenue from Lagos (New customers only):₦2,563,000.00\n"
     ]
    }
   ],
   "source": [
    "# --- 17. Revenue from Lagos only if the customer is New ---\n",
    "revenue_lagos_new_customers = invent.loc[\n",
    "    (invent[\"City\"].str.lower() == \"lagos\") & (invent[\"CustomerType\"].str.lower() == \"new\"),\n",
    "    \"Revenue\"].sum()\n",
    "revenue_lagos_new_customers\n",
    "print(f\"17. Revenue from Lagos (New customers only):₦{revenue_lagos_new_customers:,.2f}\")\n"
   ]
  },
  {
   "cell_type": "code",
   "execution_count": 73,
   "id": "fb05eeaf-7b9d-4c15-8e6c-57e6c97c4c92",
   "metadata": {},
   "outputs": [
    {
     "name": "stdout",
     "output_type": "stream",
     "text": [
      "18. Total revenue excluding Port Harcourt:₦22,559,000.00\n"
     ]
    }
   ],
   "source": [
    "# --- 18. Total revenue excluding transactions from Port Harcourt ---\n",
    "revenue_excl_portharcourt = invent.loc[\n",
    "    invent[\"City\"].str.lower() != \"port harcourt\", \"Revenue\"].sum()\n",
    "revenue_excl_portharcourt\n",
    "print(f\"18. Total revenue excluding Port Harcourt:₦{revenue_excl_portharcourt:,.2f}\")"
   ]
  },
  {
   "cell_type": "code",
   "execution_count": 72,
   "id": "12f6ed99-8917-459f-9bf0-eef800ab7fd2",
   "metadata": {},
   "outputs": [
    {
     "name": "stdout",
     "output_type": "stream",
     "text": [
      "19. Average units sold per transaction:₦3.25\n"
     ]
    }
   ],
   "source": [
    "# --- 19. Average units sold per transaction ---\n",
    "avg_units_per_transaction = invent[\"UnitsSold\"].mean()\n",
    "avg_units_per_transaction\n",
    "print(f\"19. Average units sold per transaction:₦{avg_units_per_transaction:,.2f}\")"
   ]
  },
  {
   "cell_type": "code",
   "execution_count": 71,
   "id": "8db955c8-deba-4fcb-aaa4-761ffc38932f",
   "metadata": {},
   "outputs": [
    {
     "name": "stdout",
     "output_type": "stream",
     "text": [
      "20. Total discount value:₦357,300.00\n"
     ]
    }
   ],
   "source": [
    "# --- 20. Total discount value across all sales ---\n",
    "total_discount_value = invent[\"Discount\"].sum()\n",
    "print(f\"20. Total discount value:₦{total_discount_value:,.2f}\")"
   ]
  },
  {
   "cell_type": "code",
   "execution_count": null,
   "id": "bb33b447-5249-41fd-988b-49c1de9d61f7",
   "metadata": {},
   "outputs": [],
   "source": [
    "#  Data Visualization\n",
    "#This section explains our revenue charts."
   ]
  },
  {
   "cell_type": "code",
   "execution_count": 67,
   "id": "79376274-147f-4c4a-b4a2-46e664d24277",
   "metadata": {},
   "outputs": [
    {
     "data": {
      "text/html": [
       "<div>\n",
       "<style scoped>\n",
       "    .dataframe tbody tr th:only-of-type {\n",
       "        vertical-align: middle;\n",
       "    }\n",
       "\n",
       "    .dataframe tbody tr th {\n",
       "        vertical-align: top;\n",
       "    }\n",
       "\n",
       "    .dataframe thead th {\n",
       "        text-align: right;\n",
       "    }\n",
       "</style>\n",
       "<table border=\"1\" class=\"dataframe\">\n",
       "  <thead>\n",
       "    <tr style=\"text-align: right;\">\n",
       "      <th></th>\n",
       "      <th>TransactionID</th>\n",
       "      <th>Date</th>\n",
       "      <th>City</th>\n",
       "      <th>CustomerID</th>\n",
       "      <th>CustomerType</th>\n",
       "      <th>Category</th>\n",
       "      <th>UnitsSold</th>\n",
       "      <th>UnitPrice</th>\n",
       "      <th>Revenue</th>\n",
       "      <th>Discount</th>\n",
       "      <th>SalesRep</th>\n",
       "      <th>YearMonth</th>\n",
       "    </tr>\n",
       "  </thead>\n",
       "  <tbody>\n",
       "    <tr>\n",
       "      <th>0</th>\n",
       "      <td>T001</td>\n",
       "      <td>2024-01-15</td>\n",
       "      <td>Lagos</td>\n",
       "      <td>C001</td>\n",
       "      <td>New</td>\n",
       "      <td>Electronics</td>\n",
       "      <td>2</td>\n",
       "      <td>150000</td>\n",
       "      <td>300000</td>\n",
       "      <td>5000</td>\n",
       "      <td>Chuka Obasi</td>\n",
       "      <td>2024-01</td>\n",
       "    </tr>\n",
       "    <tr>\n",
       "      <th>1</th>\n",
       "      <td>T002</td>\n",
       "      <td>2024-01-18</td>\n",
       "      <td>Abuja</td>\n",
       "      <td>C002</td>\n",
       "      <td>Returning</td>\n",
       "      <td>Appliances</td>\n",
       "      <td>1</td>\n",
       "      <td>85000</td>\n",
       "      <td>85000</td>\n",
       "      <td>0</td>\n",
       "      <td>Mary Felix</td>\n",
       "      <td>2024-01</td>\n",
       "    </tr>\n",
       "    <tr>\n",
       "      <th>2</th>\n",
       "      <td>T003</td>\n",
       "      <td>2024-01-20</td>\n",
       "      <td>Port Harcourt</td>\n",
       "      <td>C003</td>\n",
       "      <td>New</td>\n",
       "      <td>Accessories</td>\n",
       "      <td>4</td>\n",
       "      <td>5000</td>\n",
       "      <td>20000</td>\n",
       "      <td>200</td>\n",
       "      <td>Abdul Salim</td>\n",
       "      <td>2024-01</td>\n",
       "    </tr>\n",
       "    <tr>\n",
       "      <th>3</th>\n",
       "      <td>T004</td>\n",
       "      <td>2024-01-21</td>\n",
       "      <td>Lagos</td>\n",
       "      <td>C004</td>\n",
       "      <td>Returning</td>\n",
       "      <td>Electronics</td>\n",
       "      <td>1</td>\n",
       "      <td>160000</td>\n",
       "      <td>160000</td>\n",
       "      <td>3000</td>\n",
       "      <td>Chuka Obasi</td>\n",
       "      <td>2024-01</td>\n",
       "    </tr>\n",
       "    <tr>\n",
       "      <th>4</th>\n",
       "      <td>T005</td>\n",
       "      <td>2024-02-01</td>\n",
       "      <td>Kano</td>\n",
       "      <td>C005</td>\n",
       "      <td>New</td>\n",
       "      <td>Appliances</td>\n",
       "      <td>2</td>\n",
       "      <td>90000</td>\n",
       "      <td>180000</td>\n",
       "      <td>4000</td>\n",
       "      <td>Mary Felix</td>\n",
       "      <td>2024-02</td>\n",
       "    </tr>\n",
       "    <tr>\n",
       "      <th>...</th>\n",
       "      <td>...</td>\n",
       "      <td>...</td>\n",
       "      <td>...</td>\n",
       "      <td>...</td>\n",
       "      <td>...</td>\n",
       "      <td>...</td>\n",
       "      <td>...</td>\n",
       "      <td>...</td>\n",
       "      <td>...</td>\n",
       "      <td>...</td>\n",
       "      <td>...</td>\n",
       "      <td>...</td>\n",
       "    </tr>\n",
       "    <tr>\n",
       "      <th>105</th>\n",
       "      <td>T106</td>\n",
       "      <td>2024-03-05</td>\n",
       "      <td>Lagos</td>\n",
       "      <td>C046</td>\n",
       "      <td>New</td>\n",
       "      <td>Electronics</td>\n",
       "      <td>2</td>\n",
       "      <td>155000</td>\n",
       "      <td>310000</td>\n",
       "      <td>500</td>\n",
       "      <td>Abdul Salim</td>\n",
       "      <td>2024-03</td>\n",
       "    </tr>\n",
       "    <tr>\n",
       "      <th>106</th>\n",
       "      <td>T107</td>\n",
       "      <td>2024-10-23</td>\n",
       "      <td>Port Harcourt</td>\n",
       "      <td>C061</td>\n",
       "      <td>Returning</td>\n",
       "      <td>Electronics</td>\n",
       "      <td>2</td>\n",
       "      <td>155000</td>\n",
       "      <td>310000</td>\n",
       "      <td>4000</td>\n",
       "      <td>Mary Felix</td>\n",
       "      <td>2024-10</td>\n",
       "    </tr>\n",
       "    <tr>\n",
       "      <th>107</th>\n",
       "      <td>T108</td>\n",
       "      <td>2024-09-08</td>\n",
       "      <td>Port Harcourt</td>\n",
       "      <td>C070</td>\n",
       "      <td>New</td>\n",
       "      <td>Accessories</td>\n",
       "      <td>1</td>\n",
       "      <td>5500</td>\n",
       "      <td>5500</td>\n",
       "      <td>500</td>\n",
       "      <td>Mary Felix</td>\n",
       "      <td>2024-09</td>\n",
       "    </tr>\n",
       "    <tr>\n",
       "      <th>108</th>\n",
       "      <td>T109</td>\n",
       "      <td>2024-02-10</td>\n",
       "      <td>Kano</td>\n",
       "      <td>C135</td>\n",
       "      <td>New</td>\n",
       "      <td>Electronics</td>\n",
       "      <td>2</td>\n",
       "      <td>150000</td>\n",
       "      <td>300000</td>\n",
       "      <td>200</td>\n",
       "      <td>Chuka Obasi</td>\n",
       "      <td>2024-02</td>\n",
       "    </tr>\n",
       "    <tr>\n",
       "      <th>109</th>\n",
       "      <td>T110</td>\n",
       "      <td>2024-11-08</td>\n",
       "      <td>Lagos</td>\n",
       "      <td>C113</td>\n",
       "      <td>New</td>\n",
       "      <td>Electronics</td>\n",
       "      <td>2</td>\n",
       "      <td>162000</td>\n",
       "      <td>324000</td>\n",
       "      <td>7000</td>\n",
       "      <td>Mary Felix</td>\n",
       "      <td>2024-11</td>\n",
       "    </tr>\n",
       "  </tbody>\n",
       "</table>\n",
       "<p>110 rows × 12 columns</p>\n",
       "</div>"
      ],
      "text/plain": [
       "    TransactionID       Date           City CustomerID CustomerType  \\\n",
       "0            T001 2024-01-15          Lagos       C001          New   \n",
       "1            T002 2024-01-18          Abuja       C002    Returning   \n",
       "2            T003 2024-01-20  Port Harcourt       C003          New   \n",
       "3            T004 2024-01-21          Lagos       C004    Returning   \n",
       "4            T005 2024-02-01           Kano       C005          New   \n",
       "..            ...        ...            ...        ...          ...   \n",
       "105          T106 2024-03-05          Lagos       C046          New   \n",
       "106          T107 2024-10-23  Port Harcourt       C061    Returning   \n",
       "107          T108 2024-09-08  Port Harcourt       C070          New   \n",
       "108          T109 2024-02-10           Kano       C135          New   \n",
       "109          T110 2024-11-08          Lagos       C113          New   \n",
       "\n",
       "        Category  UnitsSold  UnitPrice  Revenue  Discount     SalesRep  \\\n",
       "0    Electronics          2     150000   300000      5000  Chuka Obasi   \n",
       "1     Appliances          1      85000    85000         0   Mary Felix   \n",
       "2    Accessories          4       5000    20000       200  Abdul Salim   \n",
       "3    Electronics          1     160000   160000      3000  Chuka Obasi   \n",
       "4     Appliances          2      90000   180000      4000   Mary Felix   \n",
       "..           ...        ...        ...      ...       ...          ...   \n",
       "105  Electronics          2     155000   310000       500  Abdul Salim   \n",
       "106  Electronics          2     155000   310000      4000   Mary Felix   \n",
       "107  Accessories          1       5500     5500       500   Mary Felix   \n",
       "108  Electronics          2     150000   300000       200  Chuka Obasi   \n",
       "109  Electronics          2     162000   324000      7000   Mary Felix   \n",
       "\n",
       "    YearMonth  \n",
       "0     2024-01  \n",
       "1     2024-01  \n",
       "2     2024-01  \n",
       "3     2024-01  \n",
       "4     2024-02  \n",
       "..        ...  \n",
       "105   2024-03  \n",
       "106   2024-10  \n",
       "107   2024-09  \n",
       "108   2024-02  \n",
       "109   2024-11  \n",
       "\n",
       "[110 rows x 12 columns]"
      ]
     },
     "execution_count": 67,
     "metadata": {},
     "output_type": "execute_result"
    }
   ],
   "source": [
    "invent['Date'] = pd.to_datetime(invent['Date'], errors='coerce')\n",
    "invent['YearMonth'] = invent['Date'].dt.to_period('M').astype(str)\n",
    "invent"
   ]
  },
  {
   "cell_type": "code",
   "execution_count": 25,
   "id": "94e36b7e-e62d-4e2d-89aa-1ad3dd872450",
   "metadata": {},
   "outputs": [
    {
     "data": {
      "text/html": [
       "<div>\n",
       "<style scoped>\n",
       "    .dataframe tbody tr th:only-of-type {\n",
       "        vertical-align: middle;\n",
       "    }\n",
       "\n",
       "    .dataframe tbody tr th {\n",
       "        vertical-align: top;\n",
       "    }\n",
       "\n",
       "    .dataframe thead th {\n",
       "        text-align: right;\n",
       "    }\n",
       "</style>\n",
       "<table border=\"1\" class=\"dataframe\">\n",
       "  <thead>\n",
       "    <tr style=\"text-align: right;\">\n",
       "      <th></th>\n",
       "      <th>TransactionID</th>\n",
       "      <th>Date</th>\n",
       "      <th>City</th>\n",
       "      <th>CustomerID</th>\n",
       "      <th>CustomerType</th>\n",
       "      <th>Category</th>\n",
       "      <th>UnitsSold</th>\n",
       "      <th>UnitPrice</th>\n",
       "      <th>Revenue</th>\n",
       "      <th>Discount</th>\n",
       "      <th>SalesRep</th>\n",
       "      <th>YearMonth</th>\n",
       "    </tr>\n",
       "  </thead>\n",
       "  <tbody>\n",
       "    <tr>\n",
       "      <th>0</th>\n",
       "      <td>T001</td>\n",
       "      <td>2024-01-15</td>\n",
       "      <td>Lagos</td>\n",
       "      <td>C001</td>\n",
       "      <td>New</td>\n",
       "      <td>Electronics</td>\n",
       "      <td>2</td>\n",
       "      <td>150000</td>\n",
       "      <td>300000</td>\n",
       "      <td>5000</td>\n",
       "      <td>Chuka Obasi</td>\n",
       "      <td>2024-01</td>\n",
       "    </tr>\n",
       "    <tr>\n",
       "      <th>1</th>\n",
       "      <td>T002</td>\n",
       "      <td>2024-01-18</td>\n",
       "      <td>Abuja</td>\n",
       "      <td>C002</td>\n",
       "      <td>Returning</td>\n",
       "      <td>Appliances</td>\n",
       "      <td>1</td>\n",
       "      <td>85000</td>\n",
       "      <td>85000</td>\n",
       "      <td>0</td>\n",
       "      <td>Mary Felix</td>\n",
       "      <td>2024-01</td>\n",
       "    </tr>\n",
       "    <tr>\n",
       "      <th>2</th>\n",
       "      <td>T003</td>\n",
       "      <td>2024-01-20</td>\n",
       "      <td>Port Harcourt</td>\n",
       "      <td>C003</td>\n",
       "      <td>New</td>\n",
       "      <td>Accessories</td>\n",
       "      <td>4</td>\n",
       "      <td>5000</td>\n",
       "      <td>20000</td>\n",
       "      <td>200</td>\n",
       "      <td>Abdul Salim</td>\n",
       "      <td>2024-01</td>\n",
       "    </tr>\n",
       "    <tr>\n",
       "      <th>3</th>\n",
       "      <td>T004</td>\n",
       "      <td>2024-01-21</td>\n",
       "      <td>Lagos</td>\n",
       "      <td>C004</td>\n",
       "      <td>Returning</td>\n",
       "      <td>Electronics</td>\n",
       "      <td>1</td>\n",
       "      <td>160000</td>\n",
       "      <td>160000</td>\n",
       "      <td>3000</td>\n",
       "      <td>Chuka Obasi</td>\n",
       "      <td>2024-01</td>\n",
       "    </tr>\n",
       "    <tr>\n",
       "      <th>4</th>\n",
       "      <td>T005</td>\n",
       "      <td>2024-02-01</td>\n",
       "      <td>Kano</td>\n",
       "      <td>C005</td>\n",
       "      <td>New</td>\n",
       "      <td>Appliances</td>\n",
       "      <td>2</td>\n",
       "      <td>90000</td>\n",
       "      <td>180000</td>\n",
       "      <td>4000</td>\n",
       "      <td>Mary Felix</td>\n",
       "      <td>2024-02</td>\n",
       "    </tr>\n",
       "    <tr>\n",
       "      <th>...</th>\n",
       "      <td>...</td>\n",
       "      <td>...</td>\n",
       "      <td>...</td>\n",
       "      <td>...</td>\n",
       "      <td>...</td>\n",
       "      <td>...</td>\n",
       "      <td>...</td>\n",
       "      <td>...</td>\n",
       "      <td>...</td>\n",
       "      <td>...</td>\n",
       "      <td>...</td>\n",
       "      <td>...</td>\n",
       "    </tr>\n",
       "    <tr>\n",
       "      <th>105</th>\n",
       "      <td>T106</td>\n",
       "      <td>2024-03-05</td>\n",
       "      <td>Lagos</td>\n",
       "      <td>C046</td>\n",
       "      <td>New</td>\n",
       "      <td>Electronics</td>\n",
       "      <td>2</td>\n",
       "      <td>155000</td>\n",
       "      <td>310000</td>\n",
       "      <td>500</td>\n",
       "      <td>Abdul Salim</td>\n",
       "      <td>2024-03</td>\n",
       "    </tr>\n",
       "    <tr>\n",
       "      <th>106</th>\n",
       "      <td>T107</td>\n",
       "      <td>2024-10-23</td>\n",
       "      <td>Port Harcourt</td>\n",
       "      <td>C061</td>\n",
       "      <td>Returning</td>\n",
       "      <td>Electronics</td>\n",
       "      <td>2</td>\n",
       "      <td>155000</td>\n",
       "      <td>310000</td>\n",
       "      <td>4000</td>\n",
       "      <td>Mary Felix</td>\n",
       "      <td>2024-10</td>\n",
       "    </tr>\n",
       "    <tr>\n",
       "      <th>107</th>\n",
       "      <td>T108</td>\n",
       "      <td>2024-09-08</td>\n",
       "      <td>Port Harcourt</td>\n",
       "      <td>C070</td>\n",
       "      <td>New</td>\n",
       "      <td>Accessories</td>\n",
       "      <td>1</td>\n",
       "      <td>5500</td>\n",
       "      <td>5500</td>\n",
       "      <td>500</td>\n",
       "      <td>Mary Felix</td>\n",
       "      <td>2024-09</td>\n",
       "    </tr>\n",
       "    <tr>\n",
       "      <th>108</th>\n",
       "      <td>T109</td>\n",
       "      <td>2024-02-10</td>\n",
       "      <td>Kano</td>\n",
       "      <td>C135</td>\n",
       "      <td>New</td>\n",
       "      <td>Electronics</td>\n",
       "      <td>2</td>\n",
       "      <td>150000</td>\n",
       "      <td>300000</td>\n",
       "      <td>200</td>\n",
       "      <td>Chuka Obasi</td>\n",
       "      <td>2024-02</td>\n",
       "    </tr>\n",
       "    <tr>\n",
       "      <th>109</th>\n",
       "      <td>T110</td>\n",
       "      <td>2024-11-08</td>\n",
       "      <td>Lagos</td>\n",
       "      <td>C113</td>\n",
       "      <td>New</td>\n",
       "      <td>Electronics</td>\n",
       "      <td>2</td>\n",
       "      <td>162000</td>\n",
       "      <td>324000</td>\n",
       "      <td>7000</td>\n",
       "      <td>Mary Felix</td>\n",
       "      <td>2024-11</td>\n",
       "    </tr>\n",
       "  </tbody>\n",
       "</table>\n",
       "<p>110 rows × 12 columns</p>\n",
       "</div>"
      ],
      "text/plain": [
       "    TransactionID       Date           City CustomerID CustomerType  \\\n",
       "0            T001 2024-01-15          Lagos       C001          New   \n",
       "1            T002 2024-01-18          Abuja       C002    Returning   \n",
       "2            T003 2024-01-20  Port Harcourt       C003          New   \n",
       "3            T004 2024-01-21          Lagos       C004    Returning   \n",
       "4            T005 2024-02-01           Kano       C005          New   \n",
       "..            ...        ...            ...        ...          ...   \n",
       "105          T106 2024-03-05          Lagos       C046          New   \n",
       "106          T107 2024-10-23  Port Harcourt       C061    Returning   \n",
       "107          T108 2024-09-08  Port Harcourt       C070          New   \n",
       "108          T109 2024-02-10           Kano       C135          New   \n",
       "109          T110 2024-11-08          Lagos       C113          New   \n",
       "\n",
       "        Category  UnitsSold  UnitPrice  Revenue  Discount     SalesRep  \\\n",
       "0    Electronics          2     150000   300000      5000  Chuka Obasi   \n",
       "1     Appliances          1      85000    85000         0   Mary Felix   \n",
       "2    Accessories          4       5000    20000       200  Abdul Salim   \n",
       "3    Electronics          1     160000   160000      3000  Chuka Obasi   \n",
       "4     Appliances          2      90000   180000      4000   Mary Felix   \n",
       "..           ...        ...        ...      ...       ...          ...   \n",
       "105  Electronics          2     155000   310000       500  Abdul Salim   \n",
       "106  Electronics          2     155000   310000      4000   Mary Felix   \n",
       "107  Accessories          1       5500     5500       500   Mary Felix   \n",
       "108  Electronics          2     150000   300000       200  Chuka Obasi   \n",
       "109  Electronics          2     162000   324000      7000   Mary Felix   \n",
       "\n",
       "    YearMonth  \n",
       "0     2024-01  \n",
       "1     2024-01  \n",
       "2     2024-01  \n",
       "3     2024-01  \n",
       "4     2024-02  \n",
       "..        ...  \n",
       "105   2024-03  \n",
       "106   2024-10  \n",
       "107   2024-09  \n",
       "108   2024-02  \n",
       "109   2024-11  \n",
       "\n",
       "[110 rows x 12 columns]"
      ]
     },
     "execution_count": 25,
     "metadata": {},
     "output_type": "execute_result"
    }
   ],
   "source": [
    "import pandas as pd\n",
    "import seaborn as sns\n",
    "import matplotlib.pyplot as plt\n",
    "sns.set(style=\"whitegrid\", palette=\"deep\", font_scale=1.1)\n",
    "invent"
   ]
  },
  {
   "cell_type": "code",
   "execution_count": 27,
   "id": "45e500e2-f092-40d4-a6d0-05ffe82218ce",
   "metadata": {},
   "outputs": [
    {
     "data": {
      "text/plain": [
       "YearMonth    2024-09\n",
       "Revenue      4744500\n",
       "Name: 8, dtype: object"
      ]
     },
     "execution_count": 27,
     "metadata": {},
     "output_type": "execute_result"
    }
   ],
   "source": [
    "# --- 8. Month with highest sales revenue ---\n",
    "monthly_revenue = invent.groupby('YearMonth')['Revenue'].sum().reset_index()\n",
    "top_month = monthly_revenue.loc[monthly_revenue['Revenue'].idxmax()]\n",
    "top_month"
   ]
  },
  {
   "cell_type": "code",
   "execution_count": 28,
   "id": "fcf6d3df-c2b4-4d14-abb9-8f3a8467996a",
   "metadata": {},
   "outputs": [
    {
     "data": {
      "image/png": "[encoded data removed]",
      "text/plain": [
       "<Figure size 800x500 with 1 Axes>"
      ]
     },
     "metadata": {},
     "output_type": "display_data"
    }
   ],
   "source": [
    "plt.figure(figsize=(8,5))\n",
    "sns.barplot(data=monthly_revenue, x='YearMonth', y='Revenue', color='skyblue')\n",
    "plt.title(f\"Month with Highest Revenue: {top_month['YearMonth']} (₦{top_month['Revenue']:,.0f})\")\n",
    "plt.xticks(rotation=45)\n",
    "plt.tight_layout()\n",
    "plt.show()"
   ]
  },
  {
   "cell_type": "code",
   "execution_count": 30,
   "id": "4415ede3-2e26-444a-b86f-5c3b165c21e4",
   "metadata": {},
   "outputs": [
    {
     "data": {
      "image/png": "[encoded data removed]",
      "text/plain": [
       "<Figure size 1000x600 with 1 Axes>"
      ]
     },
     "metadata": {},
     "output_type": "display_data"
    }
   ],
   "source": [
    "# --- 9. Monthly revenue trend (line plot) ---\n",
    "plt.figure(figsize=(10,6))\n",
    "sns.lineplot(data=monthly_revenue, x='YearMonth', y='Revenue', marker='o', linewidth=2, color='darkblue')\n",
    "plt.title('Monthly Revenue Trend Over Time')\n",
    "plt.xlabel('Month')\n",
    "plt.ylabel('Revenue')\n",
    "plt.xticks(rotation=45)\n",
    "plt.tight_layout()\n",
    "plt.show()"
   ]
  },
  {
   "cell_type": "code",
   "execution_count": 60,
   "id": "a79b90e5-c845-4be3-9eba-aed511cd8a23",
   "metadata": {},
   "outputs": [
    {
     "data": {
      "text/html": [
       "<div>\n",
       "<style scoped>\n",
       "    .dataframe tbody tr th:only-of-type {\n",
       "        vertical-align: middle;\n",
       "    }\n",
       "\n",
       "    .dataframe tbody tr th {\n",
       "        vertical-align: top;\n",
       "    }\n",
       "\n",
       "    .dataframe thead th {\n",
       "        text-align: right;\n",
       "    }\n",
       "</style>\n",
       "<table border=\"1\" class=\"dataframe\">\n",
       "  <thead>\n",
       "    <tr style=\"text-align: right;\">\n",
       "      <th></th>\n",
       "      <th>CustomerType</th>\n",
       "      <th>Revenue</th>\n",
       "    </tr>\n",
       "  </thead>\n",
       "  <tbody>\n",
       "    <tr>\n",
       "      <th>0</th>\n",
       "      <td>New</td>\n",
       "      <td>12027000</td>\n",
       "    </tr>\n",
       "    <tr>\n",
       "      <th>1</th>\n",
       "      <td>Returning</td>\n",
       "      <td>17494000</td>\n",
       "    </tr>\n",
       "  </tbody>\n",
       "</table>\n",
       "</div>"
      ],
      "text/plain": [
       "  CustomerType   Revenue\n",
       "0          New  12027000\n",
       "1    Returning  17494000"
      ]
     },
     "execution_count": 60,
     "metadata": {},
     "output_type": "execute_result"
    }
   ],
   "source": [
    "# --- 10. Revenue split between New and Returning customers ---\n",
    "rev_split = invent.groupby('CustomerType')['Revenue'].sum().reset_index()\n",
    "rev_split"
   ]
  },
  {
   "cell_type": "code",
   "execution_count": 83,
   "id": "410875d3-1adc-4148-93dc-5085af75ea49",
   "metadata": {},
   "outputs": [
    {
     "name": "stderr",
     "output_type": "stream",
     "text": [
      "C:\\Users\\Admin\\AppData\\Local\\Temp\\ipykernel_42864\\419358149.py:5: FutureWarning:\n",
      "\n",
      "\n",
      "\n",
      "Passing `palette` without assigning `hue` is deprecated and will be removed in v0.14.0. Assign the `x` variable to `hue` and set `legend=False` for the same effect.\n",
      "\n",
      "\n"
     ]
    },
    {
     "data": {
      "image/png": "[encoded data removed]",
      "text/plain": [
       "<Figure size 1000x600 with 1 Axes>"
      ]
     },
     "metadata": {},
     "output_type": "display_data"
    }
   ],
   "source": [
    "# --- 13. Revenue by Product Category ---\n",
    "cat_rev = invent.groupby('Category')['Revenue'].sum().reset_index().sort_values('Revenue', ascending=False)\n",
    "\n",
    "plt.figure(figsize=(10,6))\n",
    "sns.barplot(data=cat_rev, x='Category', y='Revenue', palette='viridis')\n",
    "plt.title('Revenue by Product Category')\n",
    "plt.xticks(rotation=45)\n",
    "plt.tight_layout()\n",
    "plt.show()"
   ]
  },
  {
   "cell_type": "code",
   "execution_count": 61,
   "id": "85fe37ee-14d9-486e-a8ec-74cba574a3c8",
   "metadata": {},
   "outputs": [
    {
     "name": "stderr",
     "output_type": "stream",
     "text": [
      "C:\\Users\\Admin\\AppData\\Local\\Temp\\ipykernel_42864\\3631824425.py:5: FutureWarning:\n",
      "\n",
      "\n",
      "\n",
      "Passing `palette` without assigning `hue` is deprecated and will be removed in v0.14.0. Assign the `x` variable to `hue` and set `legend=False` for the same effect.\n",
      "\n",
      "\n"
     ]
    },
    {
     "data": {
      "image/png": "[encoded data removed]",
      "text/plain": [
       "<Figure size 1000x600 with 1 Axes>"
      ]
     },
     "metadata": {},
     "output_type": "display_data"
    }
   ],
   "source": [
    "# --- 15. Revenue by Sales Rep ---\n",
    "rep_rev = invent.groupby('SalesRep')['Revenue'].sum().reset_index().sort_values('Revenue', ascending=False)\n",
    "\n",
    "plt.figure(figsize=(10,6))\n",
    "sns.barplot(data=rep_rev, x='SalesRep', y='Revenue', palette='mako')\n",
    "plt.title('Revenue by Sales Rep')\n",
    "plt.xticks(rotation=45)\n",
    "plt.tight_layout()\n",
    "plt.show()\n"
   ]
  },
  {
   "cell_type": "code",
   "execution_count": 57,
   "id": "a3debf88-e466-4b53-aca8-72f9b1aa917a",
   "metadata": {},
   "outputs": [
    {
     "name": "stderr",
     "output_type": "stream",
     "text": [
      "C:\\Users\\Admin\\AppData\\Local\\Temp\\ipykernel_42864\\3931805231.py:5: FutureWarning:\n",
      "\n",
      "\n",
      "\n",
      "Passing `palette` without assigning `hue` is deprecated and will be removed in v0.14.0. Assign the `x` variable to `hue` and set `legend=False` for the same effect.\n",
      "\n",
      "\n"
     ]
    },
    {
     "data": {
      "image/png": "[encoded data removed]",
      "text/plain": [
       "<Figure size 1000x600 with 1 Axes>"
      ]
     },
     "metadata": {},
     "output_type": "display_data"
    }
   ],
   "source": [
    "# --- 16. Units sold by each Sales Rep ---\n",
    "rep_units = invent.groupby('SalesRep')['UnitsSold'].sum().reset_index().sort_values('UnitsSold', ascending=False)\n",
    "\n",
    "plt.figure(figsize=(10,6))\n",
    "sns.barplot(data=rep_units, x='SalesRep', y='UnitsSold', palette='cool')\n",
    "plt.title('Units Sold by Each Sales Rep')\n",
    "plt.xticks(rotation=45)\n",
    "plt.tight_layout()\n",
    "plt.show()\n"
   ]
  },
  {
   "cell_type": "code",
   "execution_count": 84,
   "id": "167f5db8-b033-49f7-8de9-4de526dce0cc",
   "metadata": {},
   "outputs": [
    {
     "data": {
      "image/png": "[encoded data removed]",
      "text/plain": [
       "<Figure size 800x500 with 1 Axes>"
      ]
     },
     "metadata": {},
     "output_type": "display_data"
    }
   ],
   "source": [
    "# --- 19. Distribution of Units per Transaction ---\n",
    "units_per_trans = invent.groupby('TransactionID')['UnitsSold'].sum().reset_index()\n",
    "\n",
    "plt.figure(figsize=(8,5))\n",
    "sns.histplot(units_per_trans['UnitsSold'], bins=20, kde=True, color='orange')\n",
    "plt.title('Distribution: Units per Transaction')\n",
    "plt.xlabel('Units per Transaction')\n",
    "plt.ylabel('Frequency')\n",
    "plt.tight_layout()\n",
    "plt.show()"
   ]
  },
  {
   "cell_type": "code",
   "execution_count": 32,
   "id": "60ebe0e1-6e39-4d98-8277-7aaa6c93e8ee",
   "metadata": {},
   "outputs": [
    {
     "data": {
      "image/png": "[encoded data removed]",
      "text/plain": [
       "<Figure size 1000x600 with 1 Axes>"
      ]
     },
     "metadata": {},
     "output_type": "display_data"
    }
   ],
   "source": [
    "import seaborn as sns\n",
    "\n",
    "# Set the style\n",
    "sns.set_style(\"whitegrid\")\n",
    "\n",
    "# 1. Total Revenue by City\n",
    "city_revenue = invent.groupby(\"City\")[\"Revenue\"].sum().reset_index()\n",
    "plt.figure(figsize=(10,6))\n",
    "sns.barplot(x=\"City\", y=\"Revenue\", color=\"purple\", data=city_revenue)\n",
    "plt.title(\"Total Revenue by City\")\n",
    "plt.show()"
   ]
  },
  {
   "cell_type": "code",
   "execution_count": 85,
   "id": "724d218c-544a-4fc0-ba23-93644b406650",
   "metadata": {},
   "outputs": [
    {
     "name": "stdout",
     "output_type": "stream",
     "text": [
      "Defaulting to user installation because normal site-packages is not writeable\n",
      "Requirement already satisfied: dash in c:\\users\\admin\\appdata\\roaming\\python\\python313\\site-packages (3.2.0)\n",
      "Requirement already satisfied: Flask<3.2,>=1.0.4 in c:\\programdata\\anaconda3\\lib\\site-packages (from dash) (3.1.0)\n",
      "Requirement already satisfied: Werkzeug<3.2 in c:\\programdata\\anaconda3\\lib\\site-packages (from dash) (3.1.3)\n",
      "Requirement already satisfied: plotly>=5.0.0 in c:\\programdata\\anaconda3\\lib\\site-packages (from dash) (5.24.1)\n",
      "Requirement already satisfied: importlib-metadata in c:\\programdata\\anaconda3\\lib\\site-packages (from dash) (8.5.0)\n",
      "Requirement already satisfied: typing-extensions>=4.1.1 in c:\\programdata\\anaconda3\\lib\\site-packages (from dash) (4.12.2)\n",
      "Requirement already satisfied: requests in c:\\programdata\\anaconda3\\lib\\site-packages (from dash) (2.32.3)\n",
      "Requirement already satisfied: retrying in c:\\users\\admin\\appdata\\roaming\\python\\python313\\site-packages (from dash) (1.4.2)\n",
      "Requirement already satisfied: nest-asyncio in c:\\programdata\\anaconda3\\lib\\site-packages (from dash) (1.6.0)\n",
      "Requirement already satisfied: setuptools in c:\\programdata\\anaconda3\\lib\\site-packages (from dash) (72.1.0)\n",
      "Requirement already satisfied: Jinja2>=3.1.2 in c:\\programdata\\anaconda3\\lib\\site-packages (from Flask<3.2,>=1.0.4->dash) (3.1.6)\n",
      "Requirement already satisfied: itsdangerous>=2.2 in c:\\programdata\\anaconda3\\lib\\site-packages (from Flask<3.2,>=1.0.4->dash) (2.2.0)\n",
      "Requirement already satisfied: click>=8.1.3 in c:\\programdata\\anaconda3\\lib\\site-packages (from Flask<3.2,>=1.0.4->dash) (8.1.8)\n",
      "Requirement already satisfied: blinker>=1.9 in c:\\programdata\\anaconda3\\lib\\site-packages (from Flask<3.2,>=1.0.4->dash) (1.9.0)\n",
      "Requirement already satisfied: MarkupSafe>=2.1.1 in c:\\programdata\\anaconda3\\lib\\site-packages (from Werkzeug<3.2->dash) (3.0.2)\n",
      "Requirement already satisfied: colorama in c:\\programdata\\anaconda3\\lib\\site-packages (from click>=8.1.3->Flask<3.2,>=1.0.4->dash) (0.4.6)\n",
      "Requirement already satisfied: tenacity>=6.2.0 in c:\\programdata\\anaconda3\\lib\\site-packages (from plotly>=5.0.0->dash) (9.0.0)\n",
      "Requirement already satisfied: packaging in c:\\programdata\\anaconda3\\lib\\site-packages (from plotly>=5.0.0->dash) (24.2)\n",
      "Requirement already satisfied: zipp>=3.20 in c:\\programdata\\anaconda3\\lib\\site-packages (from importlib-metadata->dash) (3.21.0)\n",
      "Requirement already satisfied: charset-normalizer<4,>=2 in c:\\programdata\\anaconda3\\lib\\site-packages (from requests->dash) (3.3.2)\n",
      "Requirement already satisfied: idna<4,>=2.5 in c:\\programdata\\anaconda3\\lib\\site-packages (from requests->dash) (3.7)\n",
      "Requirement already satisfied: urllib3<3,>=1.21.1 in c:\\programdata\\anaconda3\\lib\\site-packages (from requests->dash) (2.3.0)\n",
      "Requirement already satisfied: certifi>=2017.4.17 in c:\\programdata\\anaconda3\\lib\\site-packages (from requests->dash) (2025.4.26)\n",
      "Note: you may need to restart the kernel to use updated packages.\n"
     ]
    }
   ],
   "source": [
    "pip install dash\n"
   ]
  },
  {
   "cell_type": "code",
   "execution_count": 86,
   "id": "bc5e3810-1da4-4b3e-b790-ae37ab13fe23",
   "metadata": {},
   "outputs": [
    {
     "name": "stdout",
     "output_type": "stream",
     "text": [
      "Defaulting to user installation because normal site-packages is not writeable\n",
      "Requirement already satisfied: plotly in c:\\programdata\\anaconda3\\lib\\site-packages (5.24.1)\n",
      "Requirement already satisfied: tenacity>=6.2.0 in c:\\programdata\\anaconda3\\lib\\site-packages (from plotly) (9.0.0)\n",
      "Requirement already satisfied: packaging in c:\\programdata\\anaconda3\\lib\\site-packages (from plotly) (24.2)\n",
      "Note: you may need to restart the kernel to use updated packages.\n"
     ]
    }
   ],
   "source": [
    "pip install plotly\n"
   ]
  },
  {
   "cell_type": "code",
   "execution_count": 87,
   "id": "099b32cb-dcfa-4b84-80ef-528ab7c22e40",
   "metadata": {},
   "outputs": [
    {
     "name": "stdout",
     "output_type": "stream",
     "text": [
      "Name: dash\n",
      "Version: 3.2.0\n",
      "Summary: A Python framework for building reactive web-apps. Developed by Plotly.\n",
      "Home-page: https://plotly.com/dash\n",
      "Author: Chris Parmer\n",
      "Author-email: chris@plotly.com\n",
      "License: MIT\n",
      "Location: C:\\Users\\Admin\\AppData\\Roaming\\Python\\Python313\\site-packages\n",
      "Requires: Flask, importlib-metadata, nest-asyncio, plotly, requests, retrying, setuptools, typing-extensions, Werkzeug\n",
      "Required-by: \n",
      "Note: you may need to restart the kernel to use updated packages.\n"
     ]
    }
   ],
   "source": [
    "pip show dash"
   ]
  },
  {
   "cell_type": "code",
   "execution_count": null,
   "id": "3dd3fc52-05ec-4f98-9750-c017afb2f1b1",
   "metadata": {},
   "outputs": [],
   "source": [
    "import dash\n",
    "from dash import html\n",
    "\n",
    "app = dash.Dash(__name__)\n",
    "app.layout = html.Div(children=[html.H1('Hello Dash!')])\n",
    "\n",
    "if __name__ == '__main__':\n",
    "    app.run_server(debug=True)\n"
   ]
  },
  {
   "cell_type": "code",
   "execution_count": 17,
   "id": "bf520faf-30be-441d-8fd5-4808f0171833",
   "metadata": {},
   "outputs": [
    {
     "name": "stdout",
     "output_type": "stream",
     "text": [
      "Defaulting to user installation because normal site-packages is not writeableNote: you may need to restart the kernel to use updated packages.\n",
      "\n",
      "Collecting dash-bootstrap-components\n",
      "  Downloading dash_bootstrap_components-2.0.4-py3-none-any.whl.metadata (18 kB)\n",
      "Requirement already satisfied: dash>=3.0.4 in c:\\users\\admin\\appdata\\roaming\\python\\python313\\site-packages (from dash-bootstrap-components) (3.2.0)\n",
      "Requirement already satisfied: Flask<3.2,>=1.0.4 in c:\\programdata\\anaconda3\\lib\\site-packages (from dash>=3.0.4->dash-bootstrap-components) (3.1.0)\n",
      "Requirement already satisfied: Werkzeug<3.2 in c:\\programdata\\anaconda3\\lib\\site-packages (from dash>=3.0.4->dash-bootstrap-components) (3.1.3)\n",
      "Requirement already satisfied: plotly>=5.0.0 in c:\\programdata\\anaconda3\\lib\\site-packages (from dash>=3.0.4->dash-bootstrap-components) (5.24.1)\n",
      "Requirement already satisfied: importlib-metadata in c:\\programdata\\anaconda3\\lib\\site-packages (from dash>=3.0.4->dash-bootstrap-components) (8.5.0)\n",
      "Requirement already satisfied: typing-extensions>=4.1.1 in c:\\programdata\\anaconda3\\lib\\site-packages (from dash>=3.0.4->dash-bootstrap-components) (4.12.2)\n",
      "Requirement already satisfied: requests in c:\\programdata\\anaconda3\\lib\\site-packages (from dash>=3.0.4->dash-bootstrap-components) (2.32.3)\n",
      "Requirement already satisfied: retrying in c:\\users\\admin\\appdata\\roaming\\python\\python313\\site-packages (from dash>=3.0.4->dash-bootstrap-components) (1.4.2)\n",
      "Requirement already satisfied: nest-asyncio in c:\\programdata\\anaconda3\\lib\\site-packages (from dash>=3.0.4->dash-bootstrap-components) (1.6.0)\n",
      "Requirement already satisfied: setuptools in c:\\programdata\\anaconda3\\lib\\site-packages (from dash>=3.0.4->dash-bootstrap-components) (72.1.0)\n",
      "Requirement already satisfied: Jinja2>=3.1.2 in c:\\programdata\\anaconda3\\lib\\site-packages (from Flask<3.2,>=1.0.4->dash>=3.0.4->dash-bootstrap-components) (3.1.6)\n",
      "Requirement already satisfied: itsdangerous>=2.2 in c:\\programdata\\anaconda3\\lib\\site-packages (from Flask<3.2,>=1.0.4->dash>=3.0.4->dash-bootstrap-components) (2.2.0)\n",
      "Requirement already satisfied: click>=8.1.3 in c:\\programdata\\anaconda3\\lib\\site-packages (from Flask<3.2,>=1.0.4->dash>=3.0.4->dash-bootstrap-components) (8.1.8)\n",
      "Requirement already satisfied: blinker>=1.9 in c:\\programdata\\anaconda3\\lib\\site-packages (from Flask<3.2,>=1.0.4->dash>=3.0.4->dash-bootstrap-components) (1.9.0)\n",
      "Requirement already satisfied: MarkupSafe>=2.1.1 in c:\\programdata\\anaconda3\\lib\\site-packages (from Werkzeug<3.2->dash>=3.0.4->dash-bootstrap-components) (3.0.2)\n",
      "Requirement already satisfied: colorama in c:\\programdata\\anaconda3\\lib\\site-packages (from click>=8.1.3->Flask<3.2,>=1.0.4->dash>=3.0.4->dash-bootstrap-components) (0.4.6)\n",
      "Requirement already satisfied: tenacity>=6.2.0 in c:\\programdata\\anaconda3\\lib\\site-packages (from plotly>=5.0.0->dash>=3.0.4->dash-bootstrap-components) (9.0.0)\n",
      "Requirement already satisfied: packaging in c:\\programdata\\anaconda3\\lib\\site-packages (from plotly>=5.0.0->dash>=3.0.4->dash-bootstrap-components) (24.2)\n",
      "Requirement already satisfied: zipp>=3.20 in c:\\programdata\\anaconda3\\lib\\site-packages (from importlib-metadata->dash>=3.0.4->dash-bootstrap-components) (3.21.0)\n",
      "Requirement already satisfied: charset-normalizer<4,>=2 in c:\\programdata\\anaconda3\\lib\\site-packages (from requests->dash>=3.0.4->dash-bootstrap-components) (3.3.2)\n",
      "Requirement already satisfied: idna<4,>=2.5 in c:\\programdata\\anaconda3\\lib\\site-packages (from requests->dash>=3.0.4->dash-bootstrap-components) (3.7)\n",
      "Requirement already satisfied: urllib3<3,>=1.21.1 in c:\\programdata\\anaconda3\\lib\\site-packages (from requests->dash>=3.0.4->dash-bootstrap-components) (2.3.0)\n",
      "Requirement already satisfied: certifi>=2017.4.17 in c:\\programdata\\anaconda3\\lib\\site-packages (from requests->dash>=3.0.4->dash-bootstrap-components) (2025.4.26)\n",
      "Downloading dash_bootstrap_components-2.0.4-py3-none-any.whl (204 kB)\n",
      "Installing collected packages: dash-bootstrap-components\n",
      "Successfully installed dash-bootstrap-components-2.0.4\n"
     ]
    }
   ],
   "source": [
    "pip install dash-bootstrap-components"
   ]
  },
  {
   "cell_type": "code",
   "execution_count": 33,
   "id": "7a4b2799-f6b5-4775-a5fc-61cd14e016dc",
   "metadata": {
    "scrolled": true
   },
   "outputs": [],
   "source": [
    "# =====================================================\n",
    "# NovaRetail Interactive Dashboard — Updated Visuals\n",
    "# DataFrame: invent\n",
    "# =====================================================\n",
    "\n",
    "import pandas as pd\n",
    "import plotly.express as px\n",
    "from dash import Dash, dcc, html, Input, Output\n",
    "import dash_bootstrap_components as dbc\n",
    "\n",
    "# -----------------------------\n",
    "# Load & Prepare Data\n",
    "# -----------------------------\n",
    "invent = pd.read_csv(\"Desktop/Jupyter/sales_transactions.csv\")\n",
    "invent[\"Date\"] = pd.to_datetime(invent[\"Date\"])\n",
    "invent[\"YearMonth\"] = invent[\"Date\"].dt.to_period(\"M\").astype(str)\n",
    "\n",
    "# -----------------------------\n",
    "# Initialize Dash App\n",
    "# -----------------------------\n",
    "app = Dash( __name__ , external_stylesheets=[dbc.themes.FLATLY])\n",
    "app.title = \"NovaRetail Sales Dashboard\"\n",
    "\n",
    "# -----------------------------\n",
    "# KPI Card Helper\n",
    "# -----------------------------\n",
    "def kpi_card(title, value_id, color):\n",
    "    return dbc.Card(\n",
    "        dbc.CardBody([\n",
    "            html.H5(title, className=\"card-title text-muted\"),\n",
    "            html.H2(id=value_id, className=\"card-text\", style={\"color\": color, \"fontWeight\": \"bold\"})\n",
    "        ]),\n",
    "        className=\"shadow-sm text-center p-3\"\n",
    "    )\n",
    "\n",
    "# -----------------------------\n",
    "# App Layout\n",
    "# -----------------------------\n",
    "app.layout = dbc.Container([\n",
    "    html.Br(),\n",
    "    html.H2(\"NovaRetail Sales Dashboard\", className=\"text-center mb-4 fw-bold\"),\n",
    "\n",
    "    dbc.Row([\n",
    "        dbc.Col([\n",
    "            html.Label(\"Select City:\", className=\"fw-bold\"),\n",
    "            dcc.Dropdown(\n",
    "                options=[{\"label\": city, \"value\": city} for city in sorted(invent[\"City\"].unique())],\n",
    "                id=\"city_filter\",\n",
    "                placeholder=\"All Cities\",\n",
    "                clearable=True\n",
    "            )\n",
    "        ], md=4),\n",
    "        dbc.Col([\n",
    "            html.Label(\"Select Date Range:\", className=\"fw-bold\"),\n",
    "            dcc.DatePickerRange(\n",
    "                id=\"date_filter\",\n",
    "                start_date=invent[\"Date\"].min(),\n",
    "                end_date=invent[\"Date\"].max(),\n",
    "                display_format=\"YYYY-MM-DD\"\n",
    "            )\n",
    "        ], md=6)\n",
    "    ], justify=\"center\", className=\"mb-4\"),\n",
    "\n",
    "    dbc.Row([\n",
    "        dbc.Col(kpi_card(\"💰 Total Revenue\", \"total_revenue_kpi\", \"#28a745\"), md=4),\n",
    "        dbc.Col(kpi_card(\"🧾 Total Transactions\", \"total_transactions_kpi\", \"#ff8800\"), md=4),\n",
    "        dbc.Col(kpi_card(\"👥 Distinct Customers\", \"distinct_customers_kpi\", \"#007bff\"), md=4),\n",
    "    ], className=\"mb-4 g-3\"),\n",
    "\n",
    "    dbc.Row([\n",
    "        dbc.Col(dcc.Graph(id=\"monthly_revenue_chart\"), md=6),\n",
    "        dbc.Col(dcc.Graph(id=\"customer_split_chart\"), md=6)\n",
    "    ]),\n",
    "    dbc.Row([\n",
    "        dbc.Col(dcc.Graph(id=\"category_revenue_chart\"), md=6),\n",
    "        dbc.Col(dcc.Graph(id=\"rep_revenue_chart\"), md=6)\n",
    "    ]),\n",
    "    dbc.Row([\n",
    "        dbc.Col(dcc.Graph(id=\"rep_units_chart\"), md=6),\n",
    "        dbc.Col(dcc.Graph(id=\"units_dist_chart\"), md=6)\n",
    "    ]),\n",
    "    html.Br()\n",
    "], fluid=True)\n",
    "\n",
    "# -----------------------------\n",
    "# Callback Logic\n",
    "# -----------------------------\n",
    "@app.callback(\n",
    "    [\n",
    "        Output(\"total_revenue_kpi\", \"children\"),\n",
    "        Output(\"total_transactions_kpi\", \"children\"),\n",
    "        Output(\"distinct_customers_kpi\", \"children\"),\n",
    "        Output(\"monthly_revenue_chart\", \"figure\"),\n",
    "        Output(\"customer_split_chart\", \"figure\"),\n",
    "        Output(\"category_revenue_chart\", \"figure\"),\n",
    "        Output(\"rep_revenue_chart\", \"figure\"),\n",
    "        Output(\"rep_units_chart\", \"figure\"),\n",
    "        Output(\"units_dist_chart\", \"figure\")\n",
    "    ],\n",
    "    [\n",
    "        Input(\"city_filter\", \"value\"),\n",
    "        Input(\"date_filter\", \"start_date\"),\n",
    "        Input(\"date_filter\", \"end_date\")\n",
    "    ]\n",
    ")\n",
    "def update_dashboard(selected_city, start_date, end_date):\n",
    "    # Filter dataset by city & date range\n",
    "    filtered_invent = invent.copy()\n",
    "    if selected_city:\n",
    "        filtered_invent = filtered_invent[filtered_invent[\"City\"] == selected_city]\n",
    "    if start_date and end_date:\n",
    "        filtered_invent = filtered_invent[\n",
    "            (filtered_invent[\"Date\"] >= start_date) &\n",
    "            (filtered_invent[\"Date\"] <= end_date)\n",
    "        ]\n",
    "\n",
    "    # ---- KPIs ----\n",
    "    total_revenue = filtered_invent[\"Revenue\"].sum()\n",
    "    total_transactions = filtered_invent[\"TransactionID\"].nunique()\n",
    "    distinct_customers = filtered_invent[\"CustomerID\"].nunique()\n",
    "\n",
    "    kpi1 = f\"₦{total_revenue:,.0f}\"\n",
    "    kpi2 = f\"{total_transactions:,}\"\n",
    "    kpi3 = f\"{distinct_customers:,}\"\n",
    "\n",
    "    # ---- 8 & 9. Monthly Revenue Trend ----\n",
    "    monthly_revenue = filtered_invent.groupby(\"YearMonth\")[\"Revenue\"].sum().reset_index()\n",
    "    fig_monthly = px.line(\n",
    "        monthly_revenue, x=\"YearMonth\", y=\"Revenue\", markers=True,\n",
    "        title=\"📈 Monthly Revenue Trend\", template=\"plotly_white\"\n",
    "    )\n",
    "\n",
    "    # ---- 10. Revenue Split: New vs Returning ----\n",
    "    rev_split = filtered_invent.groupby(\"CustomerType\")[\"Revenue\"].sum().reset_index()\n",
    "    fig_split = px.pie(\n",
    "        rev_split, names=\"CustomerType\", values=\"Revenue\",\n",
    "        title=\"🧩 Revenue Split: New vs Returning Customers\",\n",
    "        color_discrete_sequence=px.colors.qualitative.Vivid\n",
    "    )\n",
    "\n",
    "    # ---- 13. Revenue by Product Category ----\n",
    "    cat_rev = filtered_invent.groupby(\"Category\")[\"Revenue\"].sum().reset_index().sort_values(\"Revenue\", ascending=False)\n",
    "    fig_cat = px.bar(\n",
    "        cat_rev, x=\"Category\", y=\"Revenue\",\n",
    "        title=\"🏷 Revenue by Product Category\",\n",
    "        color=\"Revenue\", color_continuous_scale=\"Viridis\"\n",
    "    )\n",
    "\n",
    "    # ---- 15. Revenue by Sales Rep ----\n",
    "    rep_rev = filtered_invent.groupby(\"SalesRep\")[\"Revenue\"].sum().reset_index().sort_values(\"Revenue\", ascending=False)\n",
    "    fig_rep = px.bar(\n",
    "        rep_rev, x=\"SalesRep\", y=\"Revenue\",\n",
    "        title=\"👔 Revenue by Sales Representative\",\n",
    "        color=\"Revenue\", color_continuous_scale=\"Blues\"\n",
    "    )\n",
    "\n",
    "    # ---- 16. Units Sold by Each Sales Rep ----\n",
    "    rep_units = filtered_invent.groupby(\"SalesRep\")[\"UnitsSold\"].sum().reset_index().sort_values(\"UnitsSold\", ascending=False)\n",
    "    fig_units = px.bar(\n",
    "        rep_units, x=\"SalesRep\", y=\"UnitsSold\",\n",
    "        title=\"📦 Units Sold by Sales Representative\",\n",
    "        color=\"UnitsSold\", color_continuous_scale=\"Tealgrn\"\n",
    "    )\n",
    "\n",
    "    # ---- 19. Distribution of Units per Transaction ----\n",
    "    units_per_trans = filtered_invent.groupby(\"TransactionID\")[\"UnitsSold\"].sum().reset_index()\n",
    "    fig_dist = px.histogram(\n",
    "        units_per_trans, x=\"UnitsSold\", nbins=20,\n",
    "        title=\"📊 Distribution: Units Sold per Transaction\",\n",
    "        color_discrete_sequence=[\"orange\"]\n",
    "    )\n",
    "\n",
    "    return (kpi1, kpi2, kpi3, fig_monthly, fig_split, fig_cat, fig_rep, fig_units, fig_dist)\n",
    "\n",
    "# -----------------------------\n",
    "# Run App\n",
    "# -----------------------------\n",
    "if __name__ == \"_main_\":\n",
    "    app.run(debug=True, port=8050)"
   ]
  },
  {
   "cell_type": "code",
   "execution_count": null,
   "id": "b5f6320b-9e6f-4e99-b172-4b4d9bea631c",
   "metadata": {},
   "outputs": [],
   "source": []
  },
  {
   "cell_type": "code",
   "execution_count": null,
   "id": "742a3819-e17d-4408-8fd7-6605dafe70fd",
   "metadata": {},
   "outputs": [],
   "source": []
  }
 ],
 "metadata": {
  "kernelspec": {
   "display_name": "Python 3 (ipykernel)",
   "language": "python",
   "name": "python3"
  },
  "language_info": {
   "codemirror_mode": {
    "name": "ipython",
    "version": 3
   },
   "file_extension": ".py",
   "mimetype": "text/x-python",
   "name": "python",
   "nbconvert_exporter": "python",
   "pygments_lexer": "ipython3",
   "version": "3.13.5"
  }
 },
 "nbformat": 4,
 "nbformat_minor": 5
}
