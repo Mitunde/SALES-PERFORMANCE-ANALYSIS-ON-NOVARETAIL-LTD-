{
 "cells": [
  {
   "cell_type": "code",
   "execution_count": 4,
   "id": "3e6c230e-31bb-434a-8efe-8f984c762f7f",
   "metadata": {},
   "outputs": [],
   "source": [
    "import pandas as pd\n",
    "invent=pd.read_csv(\"sales_transactions.csv\")"
   ]
  },
  {
   "cell_type": "code",
   "execution_count": 5,
   "id": "60f2ccfb-e467-4e3f-a1c9-6be65daa60de",
   "metadata": {},
   "outputs": [
    {
     "data": {
      "text/html": [
       "<div>\n",
       "<style scoped>\n",
       "    .dataframe tbody tr th:only-of-type {\n",
       "        vertical-align: middle;\n",
       "    }\n",
       "\n",
       "    .dataframe tbody tr th {\n",
       "        vertical-align: top;\n",
       "    }\n",
       "\n",
       "    .dataframe thead th {\n",
       "        text-align: right;\n",
       "    }\n",
       "</style>\n",
       "<table border=\"1\" class=\"dataframe\">\n",
       "  <thead>\n",
       "    <tr style=\"text-align: right;\">\n",
       "      <th></th>\n",
       "      <th>TransactionID</th>\n",
       "      <th>Date</th>\n",
       "      <th>City</th>\n",
       "      <th>CustomerID</th>\n",
       "      <th>CustomerType</th>\n",
       "      <th>Category</th>\n",
       "      <th>UnitsSold</th>\n",
       "      <th>UnitPrice</th>\n",
       "      <th>Revenue</th>\n",
       "      <th>Discount</th>\n",
       "      <th>SalesRep</th>\n",
       "    </tr>\n",
       "  </thead>\n",
       "  <tbody>\n",
       "    <tr>\n",
       "      <th>0</th>\n",
       "      <td>T001</td>\n",
       "      <td>2024-01-15</td>\n",
       "      <td>Lagos</td>\n",
       "      <td>C001</td>\n",
       "      <td>New</td>\n",
       "      <td>Electronics</td>\n",
       "      <td>2</td>\n",
       "      <td>150000</td>\n",
       "      <td>300000</td>\n",
       "      <td>5000</td>\n",
       "      <td>Chuka Obasi</td>\n",
       "    </tr>\n",
       "    <tr>\n",
       "      <th>1</th>\n",
       "      <td>T002</td>\n",
       "      <td>2024-01-18</td>\n",
       "      <td>Abuja</td>\n",
       "      <td>C002</td>\n",
       "      <td>Returning</td>\n",
       "      <td>Appliances</td>\n",
       "      <td>1</td>\n",
       "      <td>85000</td>\n",
       "      <td>85000</td>\n",
       "      <td>0</td>\n",
       "      <td>Mary Felix</td>\n",
       "    </tr>\n",
       "    <tr>\n",
       "      <th>2</th>\n",
       "      <td>T003</td>\n",
       "      <td>2024-01-20</td>\n",
       "      <td>Port Harcourt</td>\n",
       "      <td>C003</td>\n",
       "      <td>New</td>\n",
       "      <td>Accessories</td>\n",
       "      <td>4</td>\n",
       "      <td>5000</td>\n",
       "      <td>20000</td>\n",
       "      <td>200</td>\n",
       "      <td>Abdul Salim</td>\n",
       "    </tr>\n",
       "    <tr>\n",
       "      <th>3</th>\n",
       "      <td>T004</td>\n",
       "      <td>2024-01-21</td>\n",
       "      <td>Lagos</td>\n",
       "      <td>C004</td>\n",
       "      <td>Returning</td>\n",
       "      <td>Electronics</td>\n",
       "      <td>1</td>\n",
       "      <td>160000</td>\n",
       "      <td>160000</td>\n",
       "      <td>3000</td>\n",
       "      <td>Chuka Obasi</td>\n",
       "    </tr>\n",
       "    <tr>\n",
       "      <th>4</th>\n",
       "      <td>T005</td>\n",
       "      <td>2024-02-01</td>\n",
       "      <td>Kano</td>\n",
       "      <td>C005</td>\n",
       "      <td>New</td>\n",
       "      <td>Appliances</td>\n",
       "      <td>2</td>\n",
       "      <td>90000</td>\n",
       "      <td>180000</td>\n",
       "      <td>4000</td>\n",
       "      <td>Mary Felix</td>\n",
       "    </tr>\n",
       "    <tr>\n",
       "      <th>...</th>\n",
       "      <td>...</td>\n",
       "      <td>...</td>\n",
       "      <td>...</td>\n",
       "      <td>...</td>\n",
       "      <td>...</td>\n",
       "      <td>...</td>\n",
       "      <td>...</td>\n",
       "      <td>...</td>\n",
       "      <td>...</td>\n",
       "      <td>...</td>\n",
       "      <td>...</td>\n",
       "    </tr>\n",
       "    <tr>\n",
       "      <th>105</th>\n",
       "      <td>T106</td>\n",
       "      <td>2024-03-05</td>\n",
       "      <td>Lagos</td>\n",
       "      <td>C046</td>\n",
       "      <td>New</td>\n",
       "      <td>Electronics</td>\n",
       "      <td>2</td>\n",
       "      <td>155000</td>\n",
       "      <td>310000</td>\n",
       "      <td>500</td>\n",
       "      <td>Abdul Salim</td>\n",
       "    </tr>\n",
       "    <tr>\n",
       "      <th>106</th>\n",
       "      <td>T107</td>\n",
       "      <td>2024-10-23</td>\n",
       "      <td>Port Harcourt</td>\n",
       "      <td>C061</td>\n",
       "      <td>Returning</td>\n",
       "      <td>Electronics</td>\n",
       "      <td>2</td>\n",
       "      <td>155000</td>\n",
       "      <td>310000</td>\n",
       "      <td>4000</td>\n",
       "      <td>Mary Felix</td>\n",
       "    </tr>\n",
       "    <tr>\n",
       "      <th>107</th>\n",
       "      <td>T108</td>\n",
       "      <td>2024-09-08</td>\n",
       "      <td>Port Harcourt</td>\n",
       "      <td>C070</td>\n",
       "      <td>New</td>\n",
       "      <td>Accessories</td>\n",
       "      <td>1</td>\n",
       "      <td>5500</td>\n",
       "      <td>5500</td>\n",
       "      <td>500</td>\n",
       "      <td>Mary Felix</td>\n",
       "    </tr>\n",
       "    <tr>\n",
       "      <th>108</th>\n",
       "      <td>T109</td>\n",
       "      <td>2024-02-10</td>\n",
       "      <td>Kano</td>\n",
       "      <td>C135</td>\n",
       "      <td>New</td>\n",
       "      <td>Electronics</td>\n",
       "      <td>2</td>\n",
       "      <td>150000</td>\n",
       "      <td>300000</td>\n",
       "      <td>200</td>\n",
       "      <td>Chuka Obasi</td>\n",
       "    </tr>\n",
       "    <tr>\n",
       "      <th>109</th>\n",
       "      <td>T110</td>\n",
       "      <td>2024-11-08</td>\n",
       "      <td>Lagos</td>\n",
       "      <td>C113</td>\n",
       "      <td>New</td>\n",
       "      <td>Electronics</td>\n",
       "      <td>2</td>\n",
       "      <td>162000</td>\n",
       "      <td>324000</td>\n",
       "      <td>7000</td>\n",
       "      <td>Mary Felix</td>\n",
       "    </tr>\n",
       "  </tbody>\n",
       "</table>\n",
       "<p>110 rows × 11 columns</p>\n",
       "</div>"
      ],
      "text/plain": [
       "    TransactionID        Date           City CustomerID CustomerType  \\\n",
       "0            T001  2024-01-15          Lagos       C001          New   \n",
       "1            T002  2024-01-18          Abuja       C002    Returning   \n",
       "2            T003  2024-01-20  Port Harcourt       C003          New   \n",
       "3            T004  2024-01-21          Lagos       C004    Returning   \n",
       "4            T005  2024-02-01           Kano       C005          New   \n",
       "..            ...         ...            ...        ...          ...   \n",
       "105          T106  2024-03-05          Lagos       C046          New   \n",
       "106          T107  2024-10-23  Port Harcourt       C061    Returning   \n",
       "107          T108  2024-09-08  Port Harcourt       C070          New   \n",
       "108          T109  2024-02-10           Kano       C135          New   \n",
       "109          T110  2024-11-08          Lagos       C113          New   \n",
       "\n",
       "        Category  UnitsSold  UnitPrice  Revenue  Discount     SalesRep  \n",
       "0    Electronics          2     150000   300000      5000  Chuka Obasi  \n",
       "1     Appliances          1      85000    85000         0   Mary Felix  \n",
       "2    Accessories          4       5000    20000       200  Abdul Salim  \n",
       "3    Electronics          1     160000   160000      3000  Chuka Obasi  \n",
       "4     Appliances          2      90000   180000      4000   Mary Felix  \n",
       "..           ...        ...        ...      ...       ...          ...  \n",
       "105  Electronics          2     155000   310000       500  Abdul Salim  \n",
       "106  Electronics          2     155000   310000      4000   Mary Felix  \n",
       "107  Accessories          1       5500     5500       500   Mary Felix  \n",
       "108  Electronics          2     150000   300000       200  Chuka Obasi  \n",
       "109  Electronics          2     162000   324000      7000   Mary Felix  \n",
       "\n",
       "[110 rows x 11 columns]"
      ]
     },
     "execution_count": 5,
     "metadata": {},
     "output_type": "execute_result"
    }
   ],
   "source": [
    "invent"
   ]
  },
  {
   "cell_type": "code",
   "execution_count": 45,
   "id": "01094abe-4ce1-46d1-bf6c-5b2c31e657f6",
   "metadata": {},
   "outputs": [
    {
     "data": {
      "text/plain": [
       "0     2024-01-15\n",
       "1     2024-01-18\n",
       "2     2024-01-20\n",
       "3     2024-01-21\n",
       "4     2024-02-01\n",
       "         ...    \n",
       "105   2024-03-05\n",
       "106   2024-10-23\n",
       "107   2024-09-08\n",
       "108   2024-02-10\n",
       "109   2024-11-08\n",
       "Name: Date, Length: 110, dtype: datetime64[ns]"
      ]
     },
     "execution_count": 45,
     "metadata": {},
     "output_type": "execute_result"
    }
   ],
   "source": [
    "invent[\"Date\"].astype(\"datetime64[ns]\")"
   ]
  },
  {
   "cell_type": "code",
   "execution_count": 46,
   "id": "e0dde4dd-f06d-4adb-a2b1-3dcd9d12441d",
   "metadata": {},
   "outputs": [],
   "source": [
    "invent.dropna(inplace=True)     \n",
    "invent.dropna(axis=1, inplace=True) \n"
   ]
  },
  {
   "cell_type": "code",
   "execution_count": 47,
   "id": "4757fa8e-d654-476e-9fb8-aba29d9bc5d3",
   "metadata": {},
   "outputs": [],
   "source": [
    "invent.drop_duplicates(inplace=True)\n"
   ]
  },
  {
   "cell_type": "code",
   "execution_count": 48,
   "id": "92e45e6d-1b64-499e-9e7d-71fc624ecf2b",
   "metadata": {},
   "outputs": [
    {
     "name": "stdout",
     "output_type": "stream",
     "text": [
      "1. Total revenue generated: ₦29,521,000.00\n"
     ]
    }
   ],
   "source": [
    "#1. What is the total revenue generated in the dataset?\n",
    "total_revenue = invent['Revenue'].sum()\n",
    "print(f\"1. Total revenue generated: ₦{total_revenue:,.2f}\")\n"
   ]
  },
  {
   "cell_type": "code",
   "execution_count": 49,
   "id": "c06c8ad6-b679-48ed-85be-443e7d5def42",
   "metadata": {},
   "outputs": [
    {
     "name": "stdout",
     "output_type": "stream",
     "text": [
      "2. total transaction recorded: 110\n"
     ]
    }
   ],
   "source": [
    "#2. How many total transactions were recorded?\n",
    "total_transaction= invent[\"TransactionID\"].count()\n",
    "print(\"2. total transaction recorded:\", total_transaction)"
   ]
  },
  {
   "cell_type": "code",
   "execution_count": 50,
   "id": "f0da113f-2658-47eb-abbc-fa603fc07715",
   "metadata": {},
   "outputs": [
    {
     "name": "stdout",
     "output_type": "stream",
     "text": [
      "3. Distinct customer: 77\n"
     ]
    }
   ],
   "source": [
    " #3 How many distinct customers made purchases?\n",
    "Distinct_customer= invent[\"CustomerID\"].nunique()\n",
    "print(\"3. Distinct customer:\", Distinct_customer)\n"
   ]
  },
  {
   "cell_type": "code",
   "execution_count": 51,
   "id": "b265e319-5cd5-45fc-b153-3e680a4cfe8e",
   "metadata": {},
   "outputs": [
    {
     "name": "stdout",
     "output_type": "stream",
     "text": [
      "4. total revenue from Lagos: ₦9,285,500.00\n"
     ]
    }
   ],
   "source": [
    "#4. What is the total revenue generated from Lagos alone?\n",
    "total_lagos_revenue = invent.loc[invent['City'] == 'Lagos', 'Revenue'].sum()\n",
    "total_lagos_revenue\n",
    "print(f\"4. total revenue from Lagos: ₦{total_lagos_revenue:,.2f}\")\n"
   ]
  },
  {
   "cell_type": "code",
   "execution_count": 10,
   "id": "8b26d86e-3596-44d9-8e80-54c252b2ff54",
   "metadata": {},
   "outputs": [
    {
     "name": "stdout",
     "output_type": "stream",
     "text": [
      "5. Units of Accessories sold in Abuja: 22\n"
     ]
    }
   ],
   "source": [
    "\n",
    "# --- 5. Units of \"Accessories\" sold in Abuja ---\n",
    "accessories_units_abuja = invent.loc[\n",
    "    (invent[\"City\"].str.lower() == \"abuja\") & (invent[\"Category\"].str.lower() == \"accessories\"),\n",
    "    \"UnitsSold\"\n",
    "].sum()\n",
    "print(\"5. Units of Accessories sold in Abuja:\", accessories_units_abuja)"
   ]
  },
  {
   "cell_type": "code",
   "execution_count": 53,
   "id": "abf9f9d4-f4f8-4244-ad60-67761537debb",
   "metadata": {},
   "outputs": [
    {
     "name": "stdout",
     "output_type": "stream",
     "text": [
      "6. Average discount offered:₦3,248.18\n"
     ]
    }
   ],
   "source": [
    "# 6. Average discount offered ---\n",
    "avg_discount = invent[\"Discount\"].mean()\n",
    "avg_discount\n",
    "print(f\"6. Average discount offered:₦{avg_discount:,.2f}\")"
   ]
  },
  {
   "cell_type": "code",
   "execution_count": 54,
   "id": "a0f23d3a-dda6-4eee-9ec1-dc91f4cbfb12",
   "metadata": {},
   "outputs": [
    {
     "name": "stdout",
     "output_type": "stream",
     "text": [
      "7. Revenue for February 2024:₦3,855,000.00\n"
     ]
    }
   ],
   "source": [
    "#7What was the revenue for February 2024?\n",
    "invent[\"Date\"] = pd.to_datetime(invent[\"Date\"])\n",
    "\n",
    "feb_2024_revenue = invent[(invent[\"Date\"].dt.month == 2) & (invent[\"Date\"].dt.year == 2024)][\"Revenue\"].sum()\n",
    "feb_2024_revenue\n",
    "print(f\"7. Revenue for February 2024:₦{feb_2024_revenue:,.2f}\")"
   ]
  },
  {
   "cell_type": "code",
   "execution_count": 55,
   "id": "ee07c5b9-18f2-4d2a-8f15-dfc3cb0e87d8",
   "metadata": {},
   "outputs": [
    {
     "name": "stdout",
     "output_type": "stream",
     "text": [
      "The month with the highest revenue is 2024-09 with total revenue of ₦4,744,500.00\n"
     ]
    }
   ],
   "source": [
    "#8 Which month had the highest sales revenue?\n",
    "monthly_revenue = invent.groupby(invent[\"Date\"].dt.to_period(\"M\"))[\"Revenue\"].sum()\n",
    "\n",
    "highest_month = monthly_revenue.idxmax()\n",
    "highest_value = monthly_revenue.max()\n",
    "\n",
    "print(f\"The month with the highest revenue is {highest_month} with total revenue of ₦{highest_value:,.2f}\")\n"
   ]
  },
  {
   "cell_type": "code",
   "execution_count": 81,
   "id": "a81e8d76-8a03-46d0-a707-1b3ba434bb1b",
   "metadata": {},
   "outputs": [
    {
     "name": "stdout",
     "output_type": "stream",
     "text": [
      "| index   | YearMonth   | Revenue   |\n",
      "|:--------|:------------|:----------|\n",
      "| 0       | 2024-01     | 2943000   |\n",
      "| 1       | 2024-02     | 3855000   |\n",
      "| 2       | 2024-03     | 2184500   |\n",
      "| 3       | 2024-04     | 1559500   |\n",
      "| 4       | 2024-05     | 2484500   |\n",
      "| 5       | 2024-06     | 1083000   |\n",
      "| 6       | 2024-07     | 1340000   |\n",
      "| 7       | 2024-08     | 552500    |\n",
      "| 8       | 2024-09     | 4744500   |\n",
      "| 9       | 2024-10     | 2739000   |\n",
      "| 10      | 2024-11     | 2009500   |\n",
      "| 11      | 2024-12     | 3889000   |\n",
      "| 12      | 2025-01     | 137000    |\n"
     ]
    }
   ],
   "source": [
    "9.#Create a measure to calculate monthly revenue trend\n",
    "monthly_revenue_trend=monthly_revenue.reset_index()\n",
    "monthly_revenue_trend['YearMonth']=monthly_revenue_trend['YearMonth'].astype(str)\n",
    "print(monthly_revenue_trend.to_markdown(index=False, numalign=\"left\", stralign=\"left\"))"
   ]
  },
  {
   "cell_type": "code",
   "execution_count": null,
   "id": "5dea6232-87d3-4feb-89df-d2481c2a5cff",
   "metadata": {},
   "outputs": [],
   "source": [
    "invent"
   ]
  },
  {
   "cell_type": "code",
   "execution_count": 11,
   "id": "84d18e75-11e2-4003-8f9d-e1978701d5ee",
   "metadata": {},
   "outputs": [
    {
     "name": "stdout",
     "output_type": "stream",
     "text": [
      "\n",
      "10. Revenue split between New and Returning customers:\n",
      "   CustomerType   Revenue\n",
      "0          New  12027000\n",
      "1    Returning  17494000\n"
     ]
    }
   ],
   "source": [
    "# 10 What is the revenue split between New and Returning customers?\n",
    "revenue_split = invent.groupby(\"CustomerType\")[\"Revenue\"].sum().reset_index()\n",
    "revenue_split\n",
    "print(\"\\n10. Revenue split between New and Returning customers:\\n\", revenue_split)"
   ]
  },
  {
   "cell_type": "code",
   "execution_count": 79,
   "id": "b05bd117-6db1-4270-a05e-2993a56ccba3",
   "metadata": {},
   "outputs": [
    {
     "name": "stdout",
     "output_type": "stream",
     "text": [
      "11. Average revenue per customer:₦383,389.61\n"
     ]
    }
   ],
   "source": [
    "#11. What is the average revenue per customer?\n",
    "avg_revenue_per_customer = invent.groupby(\"CustomerID\")[\"Revenue\"].sum().mean()\n",
    "avg_revenue_per_customer\n",
    "print(f\"11. Average revenue per customer:₦{avg_revenue_per_customer:,.2f}\")"
   ]
  },
  {
   "cell_type": "code",
   "execution_count": 80,
   "id": "c39754c2-1402-4b6a-9fe3-a8ed00a3cae0",
   "metadata": {},
   "outputs": [
    {
     "name": "stdout",
     "output_type": "stream",
     "text": [
      "12. Customers who bought more than once: 23\n"
     ]
    }
   ],
   "source": [
    "## --- 12. Customers who bought more than once ---\n",
    "customer_counts = invent[\"CustomerID\"].value_counts()\n",
    "customers_more_than_once = (customer_counts > 1).sum()\n",
    "customers_more_than_once\n",
    "print(\"12. Customers who bought more than once:\", customers_more_than_once)"
   ]
  },
  {
   "cell_type": "code",
   "execution_count": 88,
   "id": "956b29bf-d63e-4c88-8b90-afbb5c70bf26",
   "metadata": {},
   "outputs": [
    {
     "name": "stdout",
     "output_type": "stream",
     "text": [
      "13. Category with highest revenue: Category    Electronics\n",
      "Revenue        19149000\n",
      "Name: 2, dtype: object => ('Electronics', np.int64(19149000))\n"
     ]
    }
   ],
   "source": [
    "# --- 13. Product category that generated the most revenue ---\n",
    "category_revenue = invent.groupby(\"Category\")[\"Revenue\"].sum().reset_index()\n",
    "top_category_row = category_revenue.loc[category_revenue[\"Revenue\"].idxmax()]\n",
    "\n",
    "top_category_revenue = top_category_row[\"Category\"], top_category_row[\"Revenue\"]\n",
    "top_category_revenue \n",
    "print(\"13. Category with highest revenue:\", top_category_row, \"=>\", top_category_revenue)"
   ]
  },
  {
   "cell_type": "code",
   "execution_count": 13,
   "id": "8bdcc214-1560-4bc7-a658-6218ef88d96b",
   "metadata": {},
   "outputs": [
    {
     "name": "stdout",
     "output_type": "stream",
     "text": [
      "14. Average revenue per unit (Electronics):₦156,959.02\n"
     ]
    }
   ],
   "source": [
    "# --- 14. Average revenue per unit for Electronics ---\n",
    "electronics_sales = invent[invent[\"Category\"].str.lower() == \"electronics\"]\n",
    "avg_revenue_per_unit_electronics = electronics_sales[\"Revenue\"].sum() / electronics_sales[\"UnitsSold\"].sum()\n",
    "avg_revenue_per_unit_electronics \n",
    "print(f\"14. Average revenue per unit (Electronics):₦{avg_revenue_per_unit_electronics:,.2f}\")"
   ]
  },
  {
   "cell_type": "code",
   "execution_count": 14,
   "id": "00197c51-7de8-4925-a63a-ac0a1817dd2d",
   "metadata": {},
   "outputs": [
    {
     "name": "stdout",
     "output_type": "stream",
     "text": [
      "15. Top sales rep: Abdul Salim => ₦10,587,500\n"
     ]
    }
   ],
   "source": [
    "# --- 15. Sales rep with the highest total revenue ---\n",
    "salesrep_revenue = invent.groupby(\"SalesRep\")[\"Revenue\"].sum().reset_index()\n",
    "top_salesrep_row = salesrep_revenue.loc[salesrep_revenue[\"Revenue\"].idxmax()]\n",
    "top_salesrep, top_salesrep_revenue = top_salesrep_row[\"SalesRep\"], top_salesrep_row[\"Revenue\"]\n",
    "top_salesrep\n",
    "print(f\"15. Top sales rep: {top_salesrep} => ₦{top_salesrep_revenue:,}\")"
   ]
  },
  {
   "cell_type": "code",
   "execution_count": 75,
   "id": "53b6b949-351a-44cc-aa0d-4e50a8068b87",
   "metadata": {},
   "outputs": [
    {
     "data": {
      "text/html": [
       "<div>\n",
       "<style scoped>\n",
       "    .dataframe tbody tr th:only-of-type {\n",
       "        vertical-align: middle;\n",
       "    }\n",
       "\n",
       "    .dataframe tbody tr th {\n",
       "        vertical-align: top;\n",
       "    }\n",
       "\n",
       "    .dataframe thead th {\n",
       "        text-align: right;\n",
       "    }\n",
       "</style>\n",
       "<table border=\"1\" class=\"dataframe\">\n",
       "  <thead>\n",
       "    <tr style=\"text-align: right;\">\n",
       "      <th></th>\n",
       "      <th>SalesRep</th>\n",
       "      <th>UnitsSold</th>\n",
       "    </tr>\n",
       "  </thead>\n",
       "  <tbody>\n",
       "    <tr>\n",
       "      <th>0</th>\n",
       "      <td>Abdul Salim</td>\n",
       "      <td>134</td>\n",
       "    </tr>\n",
       "    <tr>\n",
       "      <th>1</th>\n",
       "      <td>Chuka Obasi</td>\n",
       "      <td>110</td>\n",
       "    </tr>\n",
       "    <tr>\n",
       "      <th>2</th>\n",
       "      <td>Mary Felix</td>\n",
       "      <td>113</td>\n",
       "    </tr>\n",
       "  </tbody>\n",
       "</table>\n",
       "</div>"
      ],
      "text/plain": [
       "      SalesRep  UnitsSold\n",
       "0  Abdul Salim        134\n",
       "1  Chuka Obasi        110\n",
       "2   Mary Felix        113"
      ]
     },
     "execution_count": 75,
     "metadata": {},
     "output_type": "execute_result"
    }
   ],
   "source": [
    "# --- 16. Total units sold by each sales rep ---\n",
    "salesrep_units = invent.groupby(\"SalesRep\")[\"UnitsSold\"].sum().reset_index()\n",
    "salesrep_units"
   ]
  },
  {
   "cell_type": "code",
   "execution_count": 74,
   "id": "b09e157e-022a-457f-961d-7378ff89c29a",
   "metadata": {},
   "outputs": [
    {
     "name": "stdout",
     "output_type": "stream",
     "text": [
      "17. Revenue from Lagos (New customers only):₦2,563,000.00\n"
     ]
    }
   ],
   "source": [
    "# --- 17. Revenue from Lagos only if the customer is New ---\n",
    "revenue_lagos_new_customers = invent.loc[\n",
    "    (invent[\"City\"].str.lower() == \"lagos\") & (invent[\"CustomerType\"].str.lower() == \"new\"),\n",
    "    \"Revenue\"].sum()\n",
    "revenue_lagos_new_customers\n",
    "print(f\"17. Revenue from Lagos (New customers only):₦{revenue_lagos_new_customers:,.2f}\")\n"
   ]
  },
  {
   "cell_type": "code",
   "execution_count": 73,
   "id": "fb05eeaf-7b9d-4c15-8e6c-57e6c97c4c92",
   "metadata": {},
   "outputs": [
    {
     "name": "stdout",
     "output_type": "stream",
     "text": [
      "18. Total revenue excluding Port Harcourt:₦22,559,000.00\n"
     ]
    }
   ],
   "source": [
    "# --- 18. Total revenue excluding transactions from Port Harcourt ---\n",
    "revenue_excl_portharcourt = invent.loc[\n",
    "    invent[\"City\"].str.lower() != \"port harcourt\", \"Revenue\"].sum()\n",
    "revenue_excl_portharcourt\n",
    "print(f\"18. Total revenue excluding Port Harcourt:₦{revenue_excl_portharcourt:,.2f}\")"
   ]
  },
  {
   "cell_type": "code",
   "execution_count": 72,
   "id": "12f6ed99-8917-459f-9bf0-eef800ab7fd2",
   "metadata": {},
   "outputs": [
    {
     "name": "stdout",
     "output_type": "stream",
     "text": [
      "19. Average units sold per transaction:₦3.25\n"
     ]
    }
   ],
   "source": [
    "# --- 19. Average units sold per transaction ---\n",
    "avg_units_per_transaction = invent[\"UnitsSold\"].mean()\n",
    "avg_units_per_transaction\n",
    "print(f\"19. Average units sold per transaction:₦{avg_units_per_transaction:,.2f}\")"
   ]
  },
  {
   "cell_type": "code",
   "execution_count": 71,
   "id": "8db955c8-deba-4fcb-aaa4-761ffc38932f",
   "metadata": {},
   "outputs": [
    {
     "name": "stdout",
     "output_type": "stream",
     "text": [
      "20. Total discount value:₦357,300.00\n"
     ]
    }
   ],
   "source": [
    "# --- 20. Total discount value across all sales ---\n",
    "total_discount_value = invent[\"Discount\"].sum()\n",
    "print(f\"20. Total discount value:₦{total_discount_value:,.2f}\")"
   ]
  },
  {
   "cell_type": "code",
   "execution_count": null,
   "id": "bb33b447-5249-41fd-988b-49c1de9d61f7",
   "metadata": {},
   "outputs": [],
   "source": [
    "#  Data Visualization\n",
    "#This section explains our revenue charts."
   ]
  },
  {
   "cell_type": "code",
   "execution_count": 9,
   "id": "79376274-147f-4c4a-b4a2-46e664d24277",
   "metadata": {},
   "outputs": [
    {
     "data": {
      "text/html": [
       "<div>\n",
       "<style scoped>\n",
       "    .dataframe tbody tr th:only-of-type {\n",
       "        vertical-align: middle;\n",
       "    }\n",
       "\n",
       "    .dataframe tbody tr th {\n",
       "        vertical-align: top;\n",
       "    }\n",
       "\n",
       "    .dataframe thead th {\n",
       "        text-align: right;\n",
       "    }\n",
       "</style>\n",
       "<table border=\"1\" class=\"dataframe\">\n",
       "  <thead>\n",
       "    <tr style=\"text-align: right;\">\n",
       "      <th></th>\n",
       "      <th>TransactionID</th>\n",
       "      <th>Date</th>\n",
       "      <th>City</th>\n",
       "      <th>CustomerID</th>\n",
       "      <th>CustomerType</th>\n",
       "      <th>Category</th>\n",
       "      <th>UnitsSold</th>\n",
       "      <th>UnitPrice</th>\n",
       "      <th>Revenue</th>\n",
       "      <th>Discount</th>\n",
       "      <th>SalesRep</th>\n",
       "      <th>YearMonth</th>\n",
       "    </tr>\n",
       "  </thead>\n",
       "  <tbody>\n",
       "    <tr>\n",
       "      <th>0</th>\n",
       "      <td>T001</td>\n",
       "      <td>2024-01-15</td>\n",
       "      <td>Lagos</td>\n",
       "      <td>C001</td>\n",
       "      <td>New</td>\n",
       "      <td>Electronics</td>\n",
       "      <td>2</td>\n",
       "      <td>150000</td>\n",
       "      <td>300000</td>\n",
       "      <td>5000</td>\n",
       "      <td>Chuka Obasi</td>\n",
       "      <td>2024-01</td>\n",
       "    </tr>\n",
       "    <tr>\n",
       "      <th>1</th>\n",
       "      <td>T002</td>\n",
       "      <td>2024-01-18</td>\n",
       "      <td>Abuja</td>\n",
       "      <td>C002</td>\n",
       "      <td>Returning</td>\n",
       "      <td>Appliances</td>\n",
       "      <td>1</td>\n",
       "      <td>85000</td>\n",
       "      <td>85000</td>\n",
       "      <td>0</td>\n",
       "      <td>Mary Felix</td>\n",
       "      <td>2024-01</td>\n",
       "    </tr>\n",
       "    <tr>\n",
       "      <th>2</th>\n",
       "      <td>T003</td>\n",
       "      <td>2024-01-20</td>\n",
       "      <td>Port Harcourt</td>\n",
       "      <td>C003</td>\n",
       "      <td>New</td>\n",
       "      <td>Accessories</td>\n",
       "      <td>4</td>\n",
       "      <td>5000</td>\n",
       "      <td>20000</td>\n",
       "      <td>200</td>\n",
       "      <td>Abdul Salim</td>\n",
       "      <td>2024-01</td>\n",
       "    </tr>\n",
       "    <tr>\n",
       "      <th>3</th>\n",
       "      <td>T004</td>\n",
       "      <td>2024-01-21</td>\n",
       "      <td>Lagos</td>\n",
       "      <td>C004</td>\n",
       "      <td>Returning</td>\n",
       "      <td>Electronics</td>\n",
       "      <td>1</td>\n",
       "      <td>160000</td>\n",
       "      <td>160000</td>\n",
       "      <td>3000</td>\n",
       "      <td>Chuka Obasi</td>\n",
       "      <td>2024-01</td>\n",
       "    </tr>\n",
       "    <tr>\n",
       "      <th>4</th>\n",
       "      <td>T005</td>\n",
       "      <td>2024-02-01</td>\n",
       "      <td>Kano</td>\n",
       "      <td>C005</td>\n",
       "      <td>New</td>\n",
       "      <td>Appliances</td>\n",
       "      <td>2</td>\n",
       "      <td>90000</td>\n",
       "      <td>180000</td>\n",
       "      <td>4000</td>\n",
       "      <td>Mary Felix</td>\n",
       "      <td>2024-02</td>\n",
       "    </tr>\n",
       "    <tr>\n",
       "      <th>...</th>\n",
       "      <td>...</td>\n",
       "      <td>...</td>\n",
       "      <td>...</td>\n",
       "      <td>...</td>\n",
       "      <td>...</td>\n",
       "      <td>...</td>\n",
       "      <td>...</td>\n",
       "      <td>...</td>\n",
       "      <td>...</td>\n",
       "      <td>...</td>\n",
       "      <td>...</td>\n",
       "      <td>...</td>\n",
       "    </tr>\n",
       "    <tr>\n",
       "      <th>105</th>\n",
       "      <td>T106</td>\n",
       "      <td>2024-03-05</td>\n",
       "      <td>Lagos</td>\n",
       "      <td>C046</td>\n",
       "      <td>New</td>\n",
       "      <td>Electronics</td>\n",
       "      <td>2</td>\n",
       "      <td>155000</td>\n",
       "      <td>310000</td>\n",
       "      <td>500</td>\n",
       "      <td>Abdul Salim</td>\n",
       "      <td>2024-03</td>\n",
       "    </tr>\n",
       "    <tr>\n",
       "      <th>106</th>\n",
       "      <td>T107</td>\n",
       "      <td>2024-10-23</td>\n",
       "      <td>Port Harcourt</td>\n",
       "      <td>C061</td>\n",
       "      <td>Returning</td>\n",
       "      <td>Electronics</td>\n",
       "      <td>2</td>\n",
       "      <td>155000</td>\n",
       "      <td>310000</td>\n",
       "      <td>4000</td>\n",
       "      <td>Mary Felix</td>\n",
       "      <td>2024-10</td>\n",
       "    </tr>\n",
       "    <tr>\n",
       "      <th>107</th>\n",
       "      <td>T108</td>\n",
       "      <td>2024-09-08</td>\n",
       "      <td>Port Harcourt</td>\n",
       "      <td>C070</td>\n",
       "      <td>New</td>\n",
       "      <td>Accessories</td>\n",
       "      <td>1</td>\n",
       "      <td>5500</td>\n",
       "      <td>5500</td>\n",
       "      <td>500</td>\n",
       "      <td>Mary Felix</td>\n",
       "      <td>2024-09</td>\n",
       "    </tr>\n",
       "    <tr>\n",
       "      <th>108</th>\n",
       "      <td>T109</td>\n",
       "      <td>2024-02-10</td>\n",
       "      <td>Kano</td>\n",
       "      <td>C135</td>\n",
       "      <td>New</td>\n",
       "      <td>Electronics</td>\n",
       "      <td>2</td>\n",
       "      <td>150000</td>\n",
       "      <td>300000</td>\n",
       "      <td>200</td>\n",
       "      <td>Chuka Obasi</td>\n",
       "      <td>2024-02</td>\n",
       "    </tr>\n",
       "    <tr>\n",
       "      <th>109</th>\n",
       "      <td>T110</td>\n",
       "      <td>2024-11-08</td>\n",
       "      <td>Lagos</td>\n",
       "      <td>C113</td>\n",
       "      <td>New</td>\n",
       "      <td>Electronics</td>\n",
       "      <td>2</td>\n",
       "      <td>162000</td>\n",
       "      <td>324000</td>\n",
       "      <td>7000</td>\n",
       "      <td>Mary Felix</td>\n",
       "      <td>2024-11</td>\n",
       "    </tr>\n",
       "  </tbody>\n",
       "</table>\n",
       "<p>110 rows × 12 columns</p>\n",
       "</div>"
      ],
      "text/plain": [
       "    TransactionID       Date           City CustomerID CustomerType  \\\n",
       "0            T001 2024-01-15          Lagos       C001          New   \n",
       "1            T002 2024-01-18          Abuja       C002    Returning   \n",
       "2            T003 2024-01-20  Port Harcourt       C003          New   \n",
       "3            T004 2024-01-21          Lagos       C004    Returning   \n",
       "4            T005 2024-02-01           Kano       C005          New   \n",
       "..            ...        ...            ...        ...          ...   \n",
       "105          T106 2024-03-05          Lagos       C046          New   \n",
       "106          T107 2024-10-23  Port Harcourt       C061    Returning   \n",
       "107          T108 2024-09-08  Port Harcourt       C070          New   \n",
       "108          T109 2024-02-10           Kano       C135          New   \n",
       "109          T110 2024-11-08          Lagos       C113          New   \n",
       "\n",
       "        Category  UnitsSold  UnitPrice  Revenue  Discount     SalesRep  \\\n",
       "0    Electronics          2     150000   300000      5000  Chuka Obasi   \n",
       "1     Appliances          1      85000    85000         0   Mary Felix   \n",
       "2    Accessories          4       5000    20000       200  Abdul Salim   \n",
       "3    Electronics          1     160000   160000      3000  Chuka Obasi   \n",
       "4     Appliances          2      90000   180000      4000   Mary Felix   \n",
       "..           ...        ...        ...      ...       ...          ...   \n",
       "105  Electronics          2     155000   310000       500  Abdul Salim   \n",
       "106  Electronics          2     155000   310000      4000   Mary Felix   \n",
       "107  Accessories          1       5500     5500       500   Mary Felix   \n",
       "108  Electronics          2     150000   300000       200  Chuka Obasi   \n",
       "109  Electronics          2     162000   324000      7000   Mary Felix   \n",
       "\n",
       "    YearMonth  \n",
       "0     2024-01  \n",
       "1     2024-01  \n",
       "2     2024-01  \n",
       "3     2024-01  \n",
       "4     2024-02  \n",
       "..        ...  \n",
       "105   2024-03  \n",
       "106   2024-10  \n",
       "107   2024-09  \n",
       "108   2024-02  \n",
       "109   2024-11  \n",
       "\n",
       "[110 rows x 12 columns]"
      ]
     },
     "execution_count": 9,
     "metadata": {},
     "output_type": "execute_result"
    }
   ],
   "source": [
    "invent['Date'] = pd.to_datetime(invent['Date'], errors='coerce')\n",
    "invent['YearMonth'] = invent['Date'].dt.to_period('M').astype(str)\n",
    "invent"
   ]
  },
  {
   "cell_type": "code",
   "execution_count": 6,
   "id": "94e36b7e-e62d-4e2d-89aa-1ad3dd872450",
   "metadata": {},
   "outputs": [
    {
     "data": {
      "text/html": [
       "<div>\n",
       "<style scoped>\n",
       "    .dataframe tbody tr th:only-of-type {\n",
       "        vertical-align: middle;\n",
       "    }\n",
       "\n",
       "    .dataframe tbody tr th {\n",
       "        vertical-align: top;\n",
       "    }\n",
       "\n",
       "    .dataframe thead th {\n",
       "        text-align: right;\n",
       "    }\n",
       "</style>\n",
       "<table border=\"1\" class=\"dataframe\">\n",
       "  <thead>\n",
       "    <tr style=\"text-align: right;\">\n",
       "      <th></th>\n",
       "      <th>TransactionID</th>\n",
       "      <th>Date</th>\n",
       "      <th>City</th>\n",
       "      <th>CustomerID</th>\n",
       "      <th>CustomerType</th>\n",
       "      <th>Category</th>\n",
       "      <th>UnitsSold</th>\n",
       "      <th>UnitPrice</th>\n",
       "      <th>Revenue</th>\n",
       "      <th>Discount</th>\n",
       "      <th>SalesRep</th>\n",
       "    </tr>\n",
       "  </thead>\n",
       "  <tbody>\n",
       "    <tr>\n",
       "      <th>0</th>\n",
       "      <td>T001</td>\n",
       "      <td>2024-01-15</td>\n",
       "      <td>Lagos</td>\n",
       "      <td>C001</td>\n",
       "      <td>New</td>\n",
       "      <td>Electronics</td>\n",
       "      <td>2</td>\n",
       "      <td>150000</td>\n",
       "      <td>300000</td>\n",
       "      <td>5000</td>\n",
       "      <td>Chuka Obasi</td>\n",
       "    </tr>\n",
       "    <tr>\n",
       "      <th>1</th>\n",
       "      <td>T002</td>\n",
       "      <td>2024-01-18</td>\n",
       "      <td>Abuja</td>\n",
       "      <td>C002</td>\n",
       "      <td>Returning</td>\n",
       "      <td>Appliances</td>\n",
       "      <td>1</td>\n",
       "      <td>85000</td>\n",
       "      <td>85000</td>\n",
       "      <td>0</td>\n",
       "      <td>Mary Felix</td>\n",
       "    </tr>\n",
       "    <tr>\n",
       "      <th>2</th>\n",
       "      <td>T003</td>\n",
       "      <td>2024-01-20</td>\n",
       "      <td>Port Harcourt</td>\n",
       "      <td>C003</td>\n",
       "      <td>New</td>\n",
       "      <td>Accessories</td>\n",
       "      <td>4</td>\n",
       "      <td>5000</td>\n",
       "      <td>20000</td>\n",
       "      <td>200</td>\n",
       "      <td>Abdul Salim</td>\n",
       "    </tr>\n",
       "    <tr>\n",
       "      <th>3</th>\n",
       "      <td>T004</td>\n",
       "      <td>2024-01-21</td>\n",
       "      <td>Lagos</td>\n",
       "      <td>C004</td>\n",
       "      <td>Returning</td>\n",
       "      <td>Electronics</td>\n",
       "      <td>1</td>\n",
       "      <td>160000</td>\n",
       "      <td>160000</td>\n",
       "      <td>3000</td>\n",
       "      <td>Chuka Obasi</td>\n",
       "    </tr>\n",
       "    <tr>\n",
       "      <th>4</th>\n",
       "      <td>T005</td>\n",
       "      <td>2024-02-01</td>\n",
       "      <td>Kano</td>\n",
       "      <td>C005</td>\n",
       "      <td>New</td>\n",
       "      <td>Appliances</td>\n",
       "      <td>2</td>\n",
       "      <td>90000</td>\n",
       "      <td>180000</td>\n",
       "      <td>4000</td>\n",
       "      <td>Mary Felix</td>\n",
       "    </tr>\n",
       "    <tr>\n",
       "      <th>...</th>\n",
       "      <td>...</td>\n",
       "      <td>...</td>\n",
       "      <td>...</td>\n",
       "      <td>...</td>\n",
       "      <td>...</td>\n",
       "      <td>...</td>\n",
       "      <td>...</td>\n",
       "      <td>...</td>\n",
       "      <td>...</td>\n",
       "      <td>...</td>\n",
       "      <td>...</td>\n",
       "    </tr>\n",
       "    <tr>\n",
       "      <th>105</th>\n",
       "      <td>T106</td>\n",
       "      <td>2024-03-05</td>\n",
       "      <td>Lagos</td>\n",
       "      <td>C046</td>\n",
       "      <td>New</td>\n",
       "      <td>Electronics</td>\n",
       "      <td>2</td>\n",
       "      <td>155000</td>\n",
       "      <td>310000</td>\n",
       "      <td>500</td>\n",
       "      <td>Abdul Salim</td>\n",
       "    </tr>\n",
       "    <tr>\n",
       "      <th>106</th>\n",
       "      <td>T107</td>\n",
       "      <td>2024-10-23</td>\n",
       "      <td>Port Harcourt</td>\n",
       "      <td>C061</td>\n",
       "      <td>Returning</td>\n",
       "      <td>Electronics</td>\n",
       "      <td>2</td>\n",
       "      <td>155000</td>\n",
       "      <td>310000</td>\n",
       "      <td>4000</td>\n",
       "      <td>Mary Felix</td>\n",
       "    </tr>\n",
       "    <tr>\n",
       "      <th>107</th>\n",
       "      <td>T108</td>\n",
       "      <td>2024-09-08</td>\n",
       "      <td>Port Harcourt</td>\n",
       "      <td>C070</td>\n",
       "      <td>New</td>\n",
       "      <td>Accessories</td>\n",
       "      <td>1</td>\n",
       "      <td>5500</td>\n",
       "      <td>5500</td>\n",
       "      <td>500</td>\n",
       "      <td>Mary Felix</td>\n",
       "    </tr>\n",
       "    <tr>\n",
       "      <th>108</th>\n",
       "      <td>T109</td>\n",
       "      <td>2024-02-10</td>\n",
       "      <td>Kano</td>\n",
       "      <td>C135</td>\n",
       "      <td>New</td>\n",
       "      <td>Electronics</td>\n",
       "      <td>2</td>\n",
       "      <td>150000</td>\n",
       "      <td>300000</td>\n",
       "      <td>200</td>\n",
       "      <td>Chuka Obasi</td>\n",
       "    </tr>\n",
       "    <tr>\n",
       "      <th>109</th>\n",
       "      <td>T110</td>\n",
       "      <td>2024-11-08</td>\n",
       "      <td>Lagos</td>\n",
       "      <td>C113</td>\n",
       "      <td>New</td>\n",
       "      <td>Electronics</td>\n",
       "      <td>2</td>\n",
       "      <td>162000</td>\n",
       "      <td>324000</td>\n",
       "      <td>7000</td>\n",
       "      <td>Mary Felix</td>\n",
       "    </tr>\n",
       "  </tbody>\n",
       "</table>\n",
       "<p>110 rows × 11 columns</p>\n",
       "</div>"
      ],
      "text/plain": [
       "    TransactionID        Date           City CustomerID CustomerType  \\\n",
       "0            T001  2024-01-15          Lagos       C001          New   \n",
       "1            T002  2024-01-18          Abuja       C002    Returning   \n",
       "2            T003  2024-01-20  Port Harcourt       C003          New   \n",
       "3            T004  2024-01-21          Lagos       C004    Returning   \n",
       "4            T005  2024-02-01           Kano       C005          New   \n",
       "..            ...         ...            ...        ...          ...   \n",
       "105          T106  2024-03-05          Lagos       C046          New   \n",
       "106          T107  2024-10-23  Port Harcourt       C061    Returning   \n",
       "107          T108  2024-09-08  Port Harcourt       C070          New   \n",
       "108          T109  2024-02-10           Kano       C135          New   \n",
       "109          T110  2024-11-08          Lagos       C113          New   \n",
       "\n",
       "        Category  UnitsSold  UnitPrice  Revenue  Discount     SalesRep  \n",
       "0    Electronics          2     150000   300000      5000  Chuka Obasi  \n",
       "1     Appliances          1      85000    85000         0   Mary Felix  \n",
       "2    Accessories          4       5000    20000       200  Abdul Salim  \n",
       "3    Electronics          1     160000   160000      3000  Chuka Obasi  \n",
       "4     Appliances          2      90000   180000      4000   Mary Felix  \n",
       "..           ...        ...        ...      ...       ...          ...  \n",
       "105  Electronics          2     155000   310000       500  Abdul Salim  \n",
       "106  Electronics          2     155000   310000      4000   Mary Felix  \n",
       "107  Accessories          1       5500     5500       500   Mary Felix  \n",
       "108  Electronics          2     150000   300000       200  Chuka Obasi  \n",
       "109  Electronics          2     162000   324000      7000   Mary Felix  \n",
       "\n",
       "[110 rows x 11 columns]"
      ]
     },
     "execution_count": 6,
     "metadata": {},
     "output_type": "execute_result"
    }
   ],
   "source": [
    "import pandas as pd\n",
    "import seaborn as sns\n",
    "import matplotlib.pyplot as plt\n",
    "sns.set(style=\"whitegrid\", palette=\"deep\", font_scale=1.1)\n",
    "invent"
   ]
  },
  {
   "cell_type": "code",
   "execution_count": 10,
   "id": "45e500e2-f092-40d4-a6d0-05ffe82218ce",
   "metadata": {},
   "outputs": [
    {
     "data": {
      "text/plain": [
       "YearMonth    2024-09\n",
       "Revenue      4744500\n",
       "Name: 8, dtype: object"
      ]
     },
     "execution_count": 10,
     "metadata": {},
     "output_type": "execute_result"
    }
   ],
   "source": [
    "# --- 8. Month with highest sales revenue ---\n",
    "monthly_revenue = invent.groupby('YearMonth')['Revenue'].sum().reset_index()\n",
    "top_month = monthly_revenue.loc[monthly_revenue['Revenue'].idxmax()]\n",
    "top_month"
   ]
  },
  {
   "cell_type": "code",
   "execution_count": 12,
   "id": "fcf6d3df-c2b4-4d14-abb9-8f3a8467996a",
   "metadata": {},
   "outputs": [
    {
     "data": {
      "image/png": "[encoded data removed]",
      "text/plain": [
       "<Figure size 800x500 with 1 Axes>"
      ]
     },
     "metadata": {},
     "output_type": "display_data"
    }
   ],
   "source": [
    "plt.figure(figsize=(8,5))\n",
    "sns.barplot(data=monthly_revenue, x='YearMonth', y='Revenue', color='skyblue')\n",
    "plt.title(f\"Month with Highest Revenue: {top_month['YearMonth']} (₦{top_month['Revenue']:,.0f})\")\n",
    "plt.xticks(rotation=45)\n",
    "plt.tight_layout()\n",
    "plt.show()"
   ]
  },
  {
   "cell_type": "code",
   "execution_count": 30,
   "id": "4415ede3-2e26-444a-b86f-5c3b165c21e4",
   "metadata": {},
   "outputs": [
    {
     "data": {
      "image/png": "[encoded data removed]",
      "text/plain": [
       "<Figure size 1000x600 with 1 Axes>"
      ]
     },
     "metadata": {},
     "output_type": "display_data"
    }
   ],
   "source": [
    "# --- 9. Monthly revenue trend (line plot) ---\n",
    "plt.figure(figsize=(10,6))\n",
    "sns.lineplot(data=monthly_revenue, x='YearMonth', y='Revenue', marker='o', linewidth=2, color='darkblue')\n",
    "plt.title('Monthly Revenue Trend Over Time')\n",
    "plt.xlabel('Month')\n",
    "plt.ylabel('Revenue')\n",
    "plt.xticks(rotation=45)\n",
    "plt.tight_layout()\n",
    "plt.show()"
   ]
  },
  {
   "cell_type": "code",
   "execution_count": 60,
   "id": "a79b90e5-c845-4be3-9eba-aed511cd8a23",
   "metadata": {},
   "outputs": [
    {
     "data": {
      "text/html": [
       "<div>\n",
       "<style scoped>\n",
       "    .dataframe tbody tr th:only-of-type {\n",
       "        vertical-align: middle;\n",
       "    }\n",
       "\n",
       "    .dataframe tbody tr th {\n",
       "        vertical-align: top;\n",
       "    }\n",
       "\n",
       "    .dataframe thead th {\n",
       "        text-align: right;\n",
       "    }\n",
       "</style>\n",
       "<table border=\"1\" class=\"dataframe\">\n",
       "  <thead>\n",
       "    <tr style=\"text-align: right;\">\n",
       "      <th></th>\n",
       "      <th>CustomerType</th>\n",
       "      <th>Revenue</th>\n",
       "    </tr>\n",
       "  </thead>\n",
       "  <tbody>\n",
       "    <tr>\n",
       "      <th>0</th>\n",
       "      <td>New</td>\n",
       "      <td>12027000</td>\n",
       "    </tr>\n",
       "    <tr>\n",
       "      <th>1</th>\n",
       "      <td>Returning</td>\n",
       "      <td>17494000</td>\n",
       "    </tr>\n",
       "  </tbody>\n",
       "</table>\n",
       "</div>"
      ],
      "text/plain": [
       "  CustomerType   Revenue\n",
       "0          New  12027000\n",
       "1    Returning  17494000"
      ]
     },
     "execution_count": 60,
     "metadata": {},
     "output_type": "execute_result"
    }
   ],
   "source": [
    "# --- 10. Revenue split between New and Returning customers ---\n",
    "rev_split = invent.groupby('CustomerType')['Revenue'].sum().reset_index()\n",
    "rev_split"
   ]
  },
  {
   "cell_type": "code",
   "execution_count": 29,
   "id": "86a1adda-c4a6-45e2-a95f-ddbe942cc1ab",
   "metadata": {},
   "outputs": [
    {
     "data": {
      "application/vnd.plotly.v1+json": {
       "config": {
        "plotlyServerURL": "https://plot.ly"
       },
       "data": [
        {
         "alignmentgroup": "True",
         "hovertemplate": "Category=%{x}<br>Revenue=%{marker.color}<extra></extra>",
         "legendgroup": "",
         "marker": {
          "color": [
           19149000,
           9623000,
           749000
          ],
          "coloraxis": "coloraxis",
          "pattern": {
           "shape": ""
          }
         },
         "name": "",
         "offsetgroup": "",
         "orientation": "v",
         "showlegend": false,
         "text": [
          19149000,
          9623000,
          749000
         ],
         "textposition": "outside",
         "texttemplate": "₦%{text:,.0f}",
         "type": "bar",
         "x": [
          "Electronics",
          "Appliances",
          "Accessories"
         ],
         "xaxis": "x",
         "y": [
          19149000,
          9623000,
          749000
         ],
         "yaxis": "y"
        }
       ],
       "layout": {
        "barmode": "relative",
        "coloraxis": {
         "colorbar": {
          "title": {
           "text": "Revenue"
          }
         },
         "colorscale": [
          [
           0,
           "#440154"
          ],
          [
           0.1111111111111111,
           "#482878"
          ],
          [
           0.2222222222222222,
           "#3e4989"
          ],
          [
           0.3333333333333333,
           "#31688e"
          ],
          [
           0.4444444444444444,
           "#26828e"
          ],
          [
           0.5555555555555556,
           "#1f9e89"
          ],
          [
           0.6666666666666666,
           "#35b779"
          ],
          [
           0.7777777777777778,
           "#6ece58"
          ],
          [
           0.8888888888888888,
           "#b5de2b"
          ],
          [
           1,
           "#fde725"
          ]
         ]
        },
        "legend": {
         "tracegroupgap": 0
        },
        "template": {
         "data": {
          "bar": [
           {
            "error_x": {
             "color": "#2a3f5f"
            },
            "error_y": {
             "color": "#2a3f5f"
            },
            "marker": {
             "line": {
              "color": "#E5ECF6",
              "width": 0.5
             },
             "pattern": {
              "fillmode": "overlay",
              "size": 10,
              "solidity": 0.2
             }
            },
            "type": "bar"
           }
          ],
          "barpolar": [
           {
            "marker": {
             "line": {
              "color": "#E5ECF6",
              "width": 0.5
             },
             "pattern": {
              "fillmode": "overlay",
              "size": 10,
              "solidity": 0.2
             }
            },
            "type": "barpolar"
           }
          ],
          "carpet": [
           {
            "aaxis": {
             "endlinecolor": "#2a3f5f",
             "gridcolor": "white",
             "linecolor": "white",
             "minorgridcolor": "white",
             "startlinecolor": "#2a3f5f"
            },
            "baxis": {
             "endlinecolor": "#2a3f5f",
             "gridcolor": "white",
             "linecolor": "white",
             "minorgridcolor": "white",
             "startlinecolor": "#2a3f5f"
            },
            "type": "carpet"
           }
          ],
          "choropleth": [
           {
            "colorbar": {
             "outlinewidth": 0,
             "ticks": ""
            },
            "type": "choropleth"
           }
          ],
          "contour": [
           {
            "colorbar": {
             "outlinewidth": 0,
             "ticks": ""
            },
            "colorscale": [
             [
              0,
              "#0d0887"
             ],
             [
              0.1111111111111111,
              "#46039f"
             ],
             [
              0.2222222222222222,
              "#7201a8"
             ],
             [
              0.3333333333333333,
              "#9c179e"
             ],
             [
              0.4444444444444444,
              "#bd3786"
             ],
             [
              0.5555555555555556,
              "#d8576b"
             ],
             [
              0.6666666666666666,
              "#ed7953"
             ],
             [
              0.7777777777777778,
              "#fb9f3a"
             ],
             [
              0.8888888888888888,
              "#fdca26"
             ],
             [
              1,
              "#f0f921"
             ]
            ],
            "type": "contour"
           }
          ],
          "contourcarpet": [
           {
            "colorbar": {
             "outlinewidth": 0,
             "ticks": ""
            },
            "type": "contourcarpet"
           }
          ],
          "heatmap": [
           {
            "colorbar": {
             "outlinewidth": 0,
             "ticks": ""
            },
            "colorscale": [
             [
              0,
              "#0d0887"
             ],
             [
              0.1111111111111111,
              "#46039f"
             ],
             [
              0.2222222222222222,
              "#7201a8"
             ],
             [
              0.3333333333333333,
              "#9c179e"
             ],
             [
              0.4444444444444444,
              "#bd3786"
             ],
             [
              0.5555555555555556,
              "#d8576b"
             ],
             [
              0.6666666666666666,
              "#ed7953"
             ],
             [
              0.7777777777777778,
              "#fb9f3a"
             ],
             [
              0.8888888888888888,
              "#fdca26"
             ],
             [
              1,
              "#f0f921"
             ]
            ],
            "type": "heatmap"
           }
          ],
          "heatmapgl": [
           {
            "colorbar": {
             "outlinewidth": 0,
             "ticks": ""
            },
            "colorscale": [
             [
              0,
              "#0d0887"
             ],
             [
              0.1111111111111111,
              "#46039f"
             ],
             [
              0.2222222222222222,
              "#7201a8"
             ],
             [
              0.3333333333333333,
              "#9c179e"
             ],
             [
              0.4444444444444444,
              "#bd3786"
             ],
             [
              0.5555555555555556,
              "#d8576b"
             ],
             [
              0.6666666666666666,
              "#ed7953"
             ],
             [
              0.7777777777777778,
              "#fb9f3a"
             ],
             [
              0.8888888888888888,
              "#fdca26"
             ],
             [
              1,
              "#f0f921"
             ]
            ],
            "type": "heatmapgl"
           }
          ],
          "histogram": [
           {
            "marker": {
             "pattern": {
              "fillmode": "overlay",
              "size": 10,
              "solidity": 0.2
             }
            },
            "type": "histogram"
           }
          ],
          "histogram2d": [
           {
            "colorbar": {
             "outlinewidth": 0,
             "ticks": ""
            },
            "colorscale": [
             [
              0,
              "#0d0887"
             ],
             [
              0.1111111111111111,
              "#46039f"
             ],
             [
              0.2222222222222222,
              "#7201a8"
             ],
             [
              0.3333333333333333,
              "#9c179e"
             ],
             [
              0.4444444444444444,
              "#bd3786"
             ],
             [
              0.5555555555555556,
              "#d8576b"
             ],
             [
              0.6666666666666666,
              "#ed7953"
             ],
             [
              0.7777777777777778,
              "#fb9f3a"
             ],
             [
              0.8888888888888888,
              "#fdca26"
             ],
             [
              1,
              "#f0f921"
             ]
            ],
            "type": "histogram2d"
           }
          ],
          "histogram2dcontour": [
           {
            "colorbar": {
             "outlinewidth": 0,
             "ticks": ""
            },
            "colorscale": [
             [
              0,
              "#0d0887"
             ],
             [
              0.1111111111111111,
              "#46039f"
             ],
             [
              0.2222222222222222,
              "#7201a8"
             ],
             [
              0.3333333333333333,
              "#9c179e"
             ],
             [
              0.4444444444444444,
              "#bd3786"
             ],
             [
              0.5555555555555556,
              "#d8576b"
             ],
             [
              0.6666666666666666,
              "#ed7953"
             ],
             [
              0.7777777777777778,
              "#fb9f3a"
             ],
             [
              0.8888888888888888,
              "#fdca26"
             ],
             [
              1,
              "#f0f921"
             ]
            ],
            "type": "histogram2dcontour"
           }
          ],
          "mesh3d": [
           {
            "colorbar": {
             "outlinewidth": 0,
             "ticks": ""
            },
            "type": "mesh3d"
           }
          ],
          "parcoords": [
           {
            "line": {
             "colorbar": {
              "outlinewidth": 0,
              "ticks": ""
             }
            },
            "type": "parcoords"
           }
          ],
          "pie": [
           {
            "automargin": true,
            "type": "pie"
           }
          ],
          "scatter": [
           {
            "fillpattern": {
             "fillmode": "overlay",
             "size": 10,
             "solidity": 0.2
            },
            "type": "scatter"
           }
          ],
          "scatter3d": [
           {
            "line": {
             "colorbar": {
              "outlinewidth": 0,
              "ticks": ""
             }
            },
            "marker": {
             "colorbar": {
              "outlinewidth": 0,
              "ticks": ""
             }
            },
            "type": "scatter3d"
           }
          ],
          "scattercarpet": [
           {
            "marker": {
             "colorbar": {
              "outlinewidth": 0,
              "ticks": ""
             }
            },
            "type": "scattercarpet"
           }
          ],
          "scattergeo": [
           {
            "marker": {
             "colorbar": {
              "outlinewidth": 0,
              "ticks": ""
             }
            },
            "type": "scattergeo"
           }
          ],
          "scattergl": [
           {
            "marker": {
             "colorbar": {
              "outlinewidth": 0,
              "ticks": ""
             }
            },
            "type": "scattergl"
           }
          ],
          "scattermapbox": [
           {
            "marker": {
             "colorbar": {
              "outlinewidth": 0,
              "ticks": ""
             }
            },
            "type": "scattermapbox"
           }
          ],
          "scatterpolar": [
           {
            "marker": {
             "colorbar": {
              "outlinewidth": 0,
              "ticks": ""
             }
            },
            "type": "scatterpolar"
           }
          ],
          "scatterpolargl": [
           {
            "marker": {
             "colorbar": {
              "outlinewidth": 0,
              "ticks": ""
             }
            },
            "type": "scatterpolargl"
           }
          ],
          "scatterternary": [
           {
            "marker": {
             "colorbar": {
              "outlinewidth": 0,
              "ticks": ""
             }
            },
            "type": "scatterternary"
           }
          ],
          "surface": [
           {
            "colorbar": {
             "outlinewidth": 0,
             "ticks": ""
            },
            "colorscale": [
             [
              0,
              "#0d0887"
             ],
             [
              0.1111111111111111,
              "#46039f"
             ],
             [
              0.2222222222222222,
              "#7201a8"
             ],
             [
              0.3333333333333333,
              "#9c179e"
             ],
             [
              0.4444444444444444,
              "#bd3786"
             ],
             [
              0.5555555555555556,
              "#d8576b"
             ],
             [
              0.6666666666666666,
              "#ed7953"
             ],
             [
              0.7777777777777778,
              "#fb9f3a"
             ],
             [
              0.8888888888888888,
              "#fdca26"
             ],
             [
              1,
              "#f0f921"
             ]
            ],
            "type": "surface"
           }
          ],
          "table": [
           {
            "cells": {
             "fill": {
              "color": "#EBF0F8"
             },
             "line": {
              "color": "white"
             }
            },
            "header": {
             "fill": {
              "color": "#C8D4E3"
             },
             "line": {
              "color": "white"
             }
            },
            "type": "table"
           }
          ]
         },
         "layout": {
          "annotationdefaults": {
           "arrowcolor": "#2a3f5f",
           "arrowhead": 0,
           "arrowwidth": 1
          },
          "autotypenumbers": "strict",
          "coloraxis": {
           "colorbar": {
            "outlinewidth": 0,
            "ticks": ""
           }
          },
          "colorscale": {
           "diverging": [
            [
             0,
             "#8e0152"
            ],
            [
             0.1,
             "#c51b7d"
            ],
            [
             0.2,
             "#de77ae"
            ],
            [
             0.3,
             "#f1b6da"
            ],
            [
             0.4,
             "#fde0ef"
            ],
            [
             0.5,
             "#f7f7f7"
            ],
            [
             0.6,
             "#e6f5d0"
            ],
            [
             0.7,
             "#b8e186"
            ],
            [
             0.8,
             "#7fbc41"
            ],
            [
             0.9,
             "#4d9221"
            ],
            [
             1,
             "#276419"
            ]
           ],
           "sequential": [
            [
             0,
             "#0d0887"
            ],
            [
             0.1111111111111111,
             "#46039f"
            ],
            [
             0.2222222222222222,
             "#7201a8"
            ],
            [
             0.3333333333333333,
             "#9c179e"
            ],
            [
             0.4444444444444444,
             "#bd3786"
            ],
            [
             0.5555555555555556,
             "#d8576b"
            ],
            [
             0.6666666666666666,
             "#ed7953"
            ],
            [
             0.7777777777777778,
             "#fb9f3a"
            ],
            [
             0.8888888888888888,
             "#fdca26"
            ],
            [
             1,
             "#f0f921"
            ]
           ],
           "sequentialminus": [
            [
             0,
             "#0d0887"
            ],
            [
             0.1111111111111111,
             "#46039f"
            ],
            [
             0.2222222222222222,
             "#7201a8"
            ],
            [
             0.3333333333333333,
             "#9c179e"
            ],
            [
             0.4444444444444444,
             "#bd3786"
            ],
            [
             0.5555555555555556,
             "#d8576b"
            ],
            [
             0.6666666666666666,
             "#ed7953"
            ],
            [
             0.7777777777777778,
             "#fb9f3a"
            ],
            [
             0.8888888888888888,
             "#fdca26"
            ],
            [
             1,
             "#f0f921"
            ]
           ]
          },
          "colorway": [
           "#636efa",
           "#EF553B",
           "#00cc96",
           "#ab63fa",
           "#FFA15A",
           "#19d3f3",
           "#FF6692",
           "#B6E880",
           "#FF97FF",
           "#FECB52"
          ],
          "font": {
           "color": "#2a3f5f"
          },
          "geo": {
           "bgcolor": "white",
           "lakecolor": "white",
           "landcolor": "#E5ECF6",
           "showlakes": true,
           "showland": true,
           "subunitcolor": "white"
          },
          "hoverlabel": {
           "align": "left"
          },
          "hovermode": "closest",
          "mapbox": {
           "style": "light"
          },
          "paper_bgcolor": "white",
          "plot_bgcolor": "#E5ECF6",
          "polar": {
           "angularaxis": {
            "gridcolor": "white",
            "linecolor": "white",
            "ticks": ""
           },
           "bgcolor": "#E5ECF6",
           "radialaxis": {
            "gridcolor": "white",
            "linecolor": "white",
            "ticks": ""
           }
          },
          "scene": {
           "xaxis": {
            "backgroundcolor": "#E5ECF6",
            "gridcolor": "white",
            "gridwidth": 2,
            "linecolor": "white",
            "showbackground": true,
            "ticks": "",
            "zerolinecolor": "white"
           },
           "yaxis": {
            "backgroundcolor": "#E5ECF6",
            "gridcolor": "white",
            "gridwidth": 2,
            "linecolor": "white",
            "showbackground": true,
            "ticks": "",
            "zerolinecolor": "white"
           },
           "zaxis": {
            "backgroundcolor": "#E5ECF6",
            "gridcolor": "white",
            "gridwidth": 2,
            "linecolor": "white",
            "showbackground": true,
            "ticks": "",
            "zerolinecolor": "white"
           }
          },
          "shapedefaults": {
           "line": {
            "color": "#2a3f5f"
           }
          },
          "ternary": {
           "aaxis": {
            "gridcolor": "white",
            "linecolor": "white",
            "ticks": ""
           },
           "baxis": {
            "gridcolor": "white",
            "linecolor": "white",
            "ticks": ""
           },
           "bgcolor": "#E5ECF6",
           "caxis": {
            "gridcolor": "white",
            "linecolor": "white",
            "ticks": ""
           }
          },
          "title": {
           "x": 0.05
          },
          "xaxis": {
           "automargin": true,
           "gridcolor": "white",
           "linecolor": "white",
           "ticks": "",
           "title": {
            "standoff": 15
           },
           "zerolinecolor": "white",
           "zerolinewidth": 2
          },
          "yaxis": {
           "automargin": true,
           "gridcolor": "white",
           "linecolor": "white",
           "ticks": "",
           "title": {
            "standoff": 15
           },
           "zerolinecolor": "white",
           "zerolinewidth": 2
          }
         }
        },
        "title": {
         "text": "Revenue by Product Category"
        },
        "xaxis": {
         "anchor": "y",
         "domain": [
          0,
          1
         ],
         "tickangle": -45,
         "title": {
          "text": "Category"
         }
        },
        "yaxis": {
         "anchor": "x",
         "domain": [
          0,
          1
         ],
         "title": {
          "text": "Revenue"
         }
        }
       }
      },
      "image/png": "[encoded data removed]",
      "text/html": [
       "<div>                            <div id=\"c67d545e-781e-472f-a4d5-d21964185de7\" class=\"plotly-graph-div\" style=\"height:525px; width:100%;\"></div>            <script type=\"text/javascript\">                require([\"plotly\"], function(Plotly) {                    window.PLOTLYENV=window.PLOTLYENV || {};                                    if (document.getElementById(\"c67d545e-781e-472f-a4d5-d21964185de7\")) {                    Plotly.newPlot(                        \"c67d545e-781e-472f-a4d5-d21964185de7\",                        [{\"alignmentgroup\":\"True\",\"hovertemplate\":\"Category=%{x}\\u003cbr\\u003eRevenue=%{marker.color}\\u003cextra\\u003e\\u003c\\u002fextra\\u003e\",\"legendgroup\":\"\",\"marker\":{\"color\":[19149000,9623000,749000],\"coloraxis\":\"coloraxis\",\"pattern\":{\"shape\":\"\"}},\"name\":\"\",\"offsetgroup\":\"\",\"orientation\":\"v\",\"showlegend\":false,\"text\":[19149000.0,9623000.0,749000.0],\"textposition\":\"outside\",\"x\":[\"Electronics\",\"Appliances\",\"Accessories\"],\"xaxis\":\"x\",\"y\":[19149000,9623000,749000],\"yaxis\":\"y\",\"type\":\"bar\",\"texttemplate\":\"\\u20a6%{text:,.0f}\"}],                        {\"template\":{\"data\":{\"histogram2dcontour\":[{\"type\":\"histogram2dcontour\",\"colorbar\":{\"outlinewidth\":0,\"ticks\":\"\"},\"colorscale\":[[0.0,\"#0d0887\"],[0.1111111111111111,\"#46039f\"],[0.2222222222222222,\"#7201a8\"],[0.3333333333333333,\"#9c179e\"],[0.4444444444444444,\"#bd3786\"],[0.5555555555555556,\"#d8576b\"],[0.6666666666666666,\"#ed7953\"],[0.7777777777777778,\"#fb9f3a\"],[0.8888888888888888,\"#fdca26\"],[1.0,\"#f0f921\"]]}],\"choropleth\":[{\"type\":\"choropleth\",\"colorbar\":{\"outlinewidth\":0,\"ticks\":\"\"}}],\"histogram2d\":[{\"type\":\"histogram2d\",\"colorbar\":{\"outlinewidth\":0,\"ticks\":\"\"},\"colorscale\":[[0.0,\"#0d0887\"],[0.1111111111111111,\"#46039f\"],[0.2222222222222222,\"#7201a8\"],[0.3333333333333333,\"#9c179e\"],[0.4444444444444444,\"#bd3786\"],[0.5555555555555556,\"#d8576b\"],[0.6666666666666666,\"#ed7953\"],[0.7777777777777778,\"#fb9f3a\"],[0.8888888888888888,\"#fdca26\"],[1.0,\"#f0f921\"]]}],\"heatmap\":[{\"type\":\"heatmap\",\"colorbar\":{\"outlinewidth\":0,\"ticks\":\"\"},\"colorscale\":[[0.0,\"#0d0887\"],[0.1111111111111111,\"#46039f\"],[0.2222222222222222,\"#7201a8\"],[0.3333333333333333,\"#9c179e\"],[0.4444444444444444,\"#bd3786\"],[0.5555555555555556,\"#d8576b\"],[0.6666666666666666,\"#ed7953\"],[0.7777777777777778,\"#fb9f3a\"],[0.8888888888888888,\"#fdca26\"],[1.0,\"#f0f921\"]]}],\"heatmapgl\":[{\"type\":\"heatmapgl\",\"colorbar\":{\"outlinewidth\":0,\"ticks\":\"\"},\"colorscale\":[[0.0,\"#0d0887\"],[0.1111111111111111,\"#46039f\"],[0.2222222222222222,\"#7201a8\"],[0.3333333333333333,\"#9c179e\"],[0.4444444444444444,\"#bd3786\"],[0.5555555555555556,\"#d8576b\"],[0.6666666666666666,\"#ed7953\"],[0.7777777777777778,\"#fb9f3a\"],[0.8888888888888888,\"#fdca26\"],[1.0,\"#f0f921\"]]}],\"contourcarpet\":[{\"type\":\"contourcarpet\",\"colorbar\":{\"outlinewidth\":0,\"ticks\":\"\"}}],\"contour\":[{\"type\":\"contour\",\"colorbar\":{\"outlinewidth\":0,\"ticks\":\"\"},\"colorscale\":[[0.0,\"#0d0887\"],[0.1111111111111111,\"#46039f\"],[0.2222222222222222,\"#7201a8\"],[0.3333333333333333,\"#9c179e\"],[0.4444444444444444,\"#bd3786\"],[0.5555555555555556,\"#d8576b\"],[0.6666666666666666,\"#ed7953\"],[0.7777777777777778,\"#fb9f3a\"],[0.8888888888888888,\"#fdca26\"],[1.0,\"#f0f921\"]]}],\"surface\":[{\"type\":\"surface\",\"colorbar\":{\"outlinewidth\":0,\"ticks\":\"\"},\"colorscale\":[[0.0,\"#0d0887\"],[0.1111111111111111,\"#46039f\"],[0.2222222222222222,\"#7201a8\"],[0.3333333333333333,\"#9c179e\"],[0.4444444444444444,\"#bd3786\"],[0.5555555555555556,\"#d8576b\"],[0.6666666666666666,\"#ed7953\"],[0.7777777777777778,\"#fb9f3a\"],[0.8888888888888888,\"#fdca26\"],[1.0,\"#f0f921\"]]}],\"mesh3d\":[{\"type\":\"mesh3d\",\"colorbar\":{\"outlinewidth\":0,\"ticks\":\"\"}}],\"scatter\":[{\"fillpattern\":{\"fillmode\":\"overlay\",\"size\":10,\"solidity\":0.2},\"type\":\"scatter\"}],\"parcoords\":[{\"type\":\"parcoords\",\"line\":{\"colorbar\":{\"outlinewidth\":0,\"ticks\":\"\"}}}],\"scatterpolargl\":[{\"type\":\"scatterpolargl\",\"marker\":{\"colorbar\":{\"outlinewidth\":0,\"ticks\":\"\"}}}],\"bar\":[{\"error_x\":{\"color\":\"#2a3f5f\"},\"error_y\":{\"color\":\"#2a3f5f\"},\"marker\":{\"line\":{\"color\":\"#E5ECF6\",\"width\":0.5},\"pattern\":{\"fillmode\":\"overlay\",\"size\":10,\"solidity\":0.2}},\"type\":\"bar\"}],\"scattergeo\":[{\"type\":\"scattergeo\",\"marker\":{\"colorbar\":{\"outlinewidth\":0,\"ticks\":\"\"}}}],\"scatterpolar\":[{\"type\":\"scatterpolar\",\"marker\":{\"colorbar\":{\"outlinewidth\":0,\"ticks\":\"\"}}}],\"histogram\":[{\"marker\":{\"pattern\":{\"fillmode\":\"overlay\",\"size\":10,\"solidity\":0.2}},\"type\":\"histogram\"}],\"scattergl\":[{\"type\":\"scattergl\",\"marker\":{\"colorbar\":{\"outlinewidth\":0,\"ticks\":\"\"}}}],\"scatter3d\":[{\"type\":\"scatter3d\",\"line\":{\"colorbar\":{\"outlinewidth\":0,\"ticks\":\"\"}},\"marker\":{\"colorbar\":{\"outlinewidth\":0,\"ticks\":\"\"}}}],\"scattermapbox\":[{\"type\":\"scattermapbox\",\"marker\":{\"colorbar\":{\"outlinewidth\":0,\"ticks\":\"\"}}}],\"scatterternary\":[{\"type\":\"scatterternary\",\"marker\":{\"colorbar\":{\"outlinewidth\":0,\"ticks\":\"\"}}}],\"scattercarpet\":[{\"type\":\"scattercarpet\",\"marker\":{\"colorbar\":{\"outlinewidth\":0,\"ticks\":\"\"}}}],\"carpet\":[{\"aaxis\":{\"endlinecolor\":\"#2a3f5f\",\"gridcolor\":\"white\",\"linecolor\":\"white\",\"minorgridcolor\":\"white\",\"startlinecolor\":\"#2a3f5f\"},\"baxis\":{\"endlinecolor\":\"#2a3f5f\",\"gridcolor\":\"white\",\"linecolor\":\"white\",\"minorgridcolor\":\"white\",\"startlinecolor\":\"#2a3f5f\"},\"type\":\"carpet\"}],\"table\":[{\"cells\":{\"fill\":{\"color\":\"#EBF0F8\"},\"line\":{\"color\":\"white\"}},\"header\":{\"fill\":{\"color\":\"#C8D4E3\"},\"line\":{\"color\":\"white\"}},\"type\":\"table\"}],\"barpolar\":[{\"marker\":{\"line\":{\"color\":\"#E5ECF6\",\"width\":0.5},\"pattern\":{\"fillmode\":\"overlay\",\"size\":10,\"solidity\":0.2}},\"type\":\"barpolar\"}],\"pie\":[{\"automargin\":true,\"type\":\"pie\"}]},\"layout\":{\"autotypenumbers\":\"strict\",\"colorway\":[\"#636efa\",\"#EF553B\",\"#00cc96\",\"#ab63fa\",\"#FFA15A\",\"#19d3f3\",\"#FF6692\",\"#B6E880\",\"#FF97FF\",\"#FECB52\"],\"font\":{\"color\":\"#2a3f5f\"},\"hovermode\":\"closest\",\"hoverlabel\":{\"align\":\"left\"},\"paper_bgcolor\":\"white\",\"plot_bgcolor\":\"#E5ECF6\",\"polar\":{\"bgcolor\":\"#E5ECF6\",\"angularaxis\":{\"gridcolor\":\"white\",\"linecolor\":\"white\",\"ticks\":\"\"},\"radialaxis\":{\"gridcolor\":\"white\",\"linecolor\":\"white\",\"ticks\":\"\"}},\"ternary\":{\"bgcolor\":\"#E5ECF6\",\"aaxis\":{\"gridcolor\":\"white\",\"linecolor\":\"white\",\"ticks\":\"\"},\"baxis\":{\"gridcolor\":\"white\",\"linecolor\":\"white\",\"ticks\":\"\"},\"caxis\":{\"gridcolor\":\"white\",\"linecolor\":\"white\",\"ticks\":\"\"}},\"coloraxis\":{\"colorbar\":{\"outlinewidth\":0,\"ticks\":\"\"}},\"colorscale\":{\"sequential\":[[0.0,\"#0d0887\"],[0.1111111111111111,\"#46039f\"],[0.2222222222222222,\"#7201a8\"],[0.3333333333333333,\"#9c179e\"],[0.4444444444444444,\"#bd3786\"],[0.5555555555555556,\"#d8576b\"],[0.6666666666666666,\"#ed7953\"],[0.7777777777777778,\"#fb9f3a\"],[0.8888888888888888,\"#fdca26\"],[1.0,\"#f0f921\"]],\"sequentialminus\":[[0.0,\"#0d0887\"],[0.1111111111111111,\"#46039f\"],[0.2222222222222222,\"#7201a8\"],[0.3333333333333333,\"#9c179e\"],[0.4444444444444444,\"#bd3786\"],[0.5555555555555556,\"#d8576b\"],[0.6666666666666666,\"#ed7953\"],[0.7777777777777778,\"#fb9f3a\"],[0.8888888888888888,\"#fdca26\"],[1.0,\"#f0f921\"]],\"diverging\":[[0,\"#8e0152\"],[0.1,\"#c51b7d\"],[0.2,\"#de77ae\"],[0.3,\"#f1b6da\"],[0.4,\"#fde0ef\"],[0.5,\"#f7f7f7\"],[0.6,\"#e6f5d0\"],[0.7,\"#b8e186\"],[0.8,\"#7fbc41\"],[0.9,\"#4d9221\"],[1,\"#276419\"]]},\"xaxis\":{\"gridcolor\":\"white\",\"linecolor\":\"white\",\"ticks\":\"\",\"title\":{\"standoff\":15},\"zerolinecolor\":\"white\",\"automargin\":true,\"zerolinewidth\":2},\"yaxis\":{\"gridcolor\":\"white\",\"linecolor\":\"white\",\"ticks\":\"\",\"title\":{\"standoff\":15},\"zerolinecolor\":\"white\",\"automargin\":true,\"zerolinewidth\":2},\"scene\":{\"xaxis\":{\"backgroundcolor\":\"#E5ECF6\",\"gridcolor\":\"white\",\"linecolor\":\"white\",\"showbackground\":true,\"ticks\":\"\",\"zerolinecolor\":\"white\",\"gridwidth\":2},\"yaxis\":{\"backgroundcolor\":\"#E5ECF6\",\"gridcolor\":\"white\",\"linecolor\":\"white\",\"showbackground\":true,\"ticks\":\"\",\"zerolinecolor\":\"white\",\"gridwidth\":2},\"zaxis\":{\"backgroundcolor\":\"#E5ECF6\",\"gridcolor\":\"white\",\"linecolor\":\"white\",\"showbackground\":true,\"ticks\":\"\",\"zerolinecolor\":\"white\",\"gridwidth\":2}},\"shapedefaults\":{\"line\":{\"color\":\"#2a3f5f\"}},\"annotationdefaults\":{\"arrowcolor\":\"#2a3f5f\",\"arrowhead\":0,\"arrowwidth\":1},\"geo\":{\"bgcolor\":\"white\",\"landcolor\":\"#E5ECF6\",\"subunitcolor\":\"white\",\"showland\":true,\"showlakes\":true,\"lakecolor\":\"white\"},\"title\":{\"x\":0.05},\"mapbox\":{\"style\":\"light\"}}},\"xaxis\":{\"anchor\":\"y\",\"domain\":[0.0,1.0],\"title\":{\"text\":\"Category\"},\"tickangle\":-45},\"yaxis\":{\"anchor\":\"x\",\"domain\":[0.0,1.0],\"title\":{\"text\":\"Revenue\"}},\"coloraxis\":{\"colorbar\":{\"title\":{\"text\":\"Revenue\"}},\"colorscale\":[[0.0,\"#440154\"],[0.1111111111111111,\"#482878\"],[0.2222222222222222,\"#3e4989\"],[0.3333333333333333,\"#31688e\"],[0.4444444444444444,\"#26828e\"],[0.5555555555555556,\"#1f9e89\"],[0.6666666666666666,\"#35b779\"],[0.7777777777777778,\"#6ece58\"],[0.8888888888888888,\"#b5de2b\"],[1.0,\"#fde725\"]]},\"legend\":{\"tracegroupgap\":0},\"title\":{\"text\":\"Revenue by Product Category\"},\"barmode\":\"relative\"},                        {\"responsive\": true}                    ).then(function(){\n",
       "                            \n",
       "var gd = document.getElementById('c67d545e-781e-472f-a4d5-d21964185de7');\n",
       "var x = new MutationObserver(function (mutations, observer) {{\n",
       "        var display = window.getComputedStyle(gd).display;\n",
       "        if (!display || display === 'none') {{\n",
       "            console.log([gd, 'removed!']);\n",
       "            Plotly.purge(gd);\n",
       "            observer.disconnect();\n",
       "        }}\n",
       "}});\n",
       "\n",
       "// Listen for the removal of the full notebook cells\n",
       "var notebookContainer = gd.closest('#notebook-container');\n",
       "if (notebookContainer) {{\n",
       "    x.observe(notebookContainer, {childList: true});\n",
       "}}\n",
       "\n",
       "// Listen for the clearing of the current output cell\n",
       "var outputEl = gd.closest('.output');\n",
       "if (outputEl) {{\n",
       "    x.observe(outputEl, {childList: true});\n",
       "}}\n",
       "\n",
       "                        })                };                });            </script>        </div>"
      ]
     },
     "metadata": {},
     "output_type": "display_data"
    }
   ],
   "source": [
    "\n",
    "cat_rev = (\n",
    "    invent.groupby('Category')['Revenue']\n",
    "    .sum()\n",
    "    .reset_index()\n",
    "    .sort_values('Revenue', ascending=False)\n",
    ")\n",
    "\n",
    "fig = px.bar(\n",
    "    cat_rev,\n",
    "    x='Category',\n",
    "    y='Revenue',\n",
    "    title='Revenue by Product Category',\n",
    "    text='Revenue',\n",
    "    color='Revenue',\n",
    "    color_continuous_scale='Viridis'\n",
    ")\n",
    "\n",
    "fig.update_traces(texttemplate='₦%{text:,.0f}', textposition='outside')\n",
    "fig.update_layout(xaxis_tickangle=-45)\n",
    "fig.show()\n"
   ]
  },
  {
   "cell_type": "code",
   "execution_count": 61,
   "id": "85fe37ee-14d9-486e-a8ec-74cba574a3c8",
   "metadata": {},
   "outputs": [
    {
     "name": "stderr",
     "output_type": "stream",
     "text": [
      "C:\\Users\\Admin\\AppData\\Local\\Temp\\ipykernel_42864\\3631824425.py:5: FutureWarning:\n",
      "\n",
      "\n",
      "\n",
      "Passing `palette` without assigning `hue` is deprecated and will be removed in v0.14.0. Assign the `x` variable to `hue` and set `legend=False` for the same effect.\n",
      "\n",
      "\n"
     ]
    },
    {
     "data": {
      "image/png": "[encoded data removed]",
      "text/plain": [
       "<Figure size 1000x600 with 1 Axes>"
      ]
     },
     "metadata": {},
     "output_type": "display_data"
    }
   ],
   "source": [
    "# --- 15. Revenue by Sales Rep ---\n",
    "rep_rev = invent.groupby('SalesRep')['Revenue'].sum().reset_index().sort_values('Revenue', ascending=False)\n",
    "\n",
    "plt.figure(figsize=(10,6))\n",
    "sns.barplot(data=rep_rev, x='SalesRep', y='Revenue', palette='mako')\n",
    "plt.title('Revenue by Sales Rep')\n",
    "plt.xticks(rotation=45)\n",
    "plt.tight_layout()\n",
    "plt.show()\n"
   ]
  },
  {
   "cell_type": "code",
   "execution_count": 32,
   "id": "056b2662-0040-408d-9e59-d7b091d4bd09",
   "metadata": {},
   "outputs": [
    {
     "name": "stderr",
     "output_type": "stream",
     "text": [
      "C:\\Users\\Admin\\AppData\\Local\\Temp\\ipykernel_532\\1653350683.py:10: FutureWarning:\n",
      "\n",
      "\n",
      "\n",
      "Passing `palette` without assigning `hue` is deprecated and will be removed in v0.14.0. Assign the `x` variable to `hue` and set `legend=False` for the same effect.\n",
      "\n",
      "\n"
     ]
    },
    {
     "data": {
      "image/png": "[encoded data removed]",
      "text/plain": [
       "<Figure size 1000x600 with 1 Axes>"
      ]
     },
     "metadata": {},
     "output_type": "display_data"
    }
   ],
   "source": [
    "\n",
    "rep_rev = (\n",
    "    invent.groupby('SalesRep')['Revenue']\n",
    "    .sum()\n",
    "    .reset_index()\n",
    "    .sort_values('Revenue', ascending=False)\n",
    ")\n",
    "\n",
    "# Plot\n",
    "plt.figure(figsize=(10,6))\n",
    "sns.barplot(data=rep_rev, x='SalesRep', y='Revenue', palette='mako')\n",
    "\n",
    "# Add value labels on top of bars\n",
    "for index, row in enumerate(rep_rev['Revenue']):\n",
    "    plt.text(index, row + (row * 0.01), f\"₦{row:,.0f}\", ha='center', fontsize=14)\n",
    "plt.title('Revenue by Sales Representative', fontsize=16, fontweight='bold', color='#333333')\n",
    "plt.xlabel('Sales Representative', fontsize=12)\n",
    "plt.ylabel('Total Revenue (₦)', fontsize=12)\n",
    "plt.xticks(rotation=45, ha='right')\n",
    "plt.tight_layout()\n",
    "plt.show()\n"
   ]
  },
  {
   "cell_type": "code",
   "execution_count": 57,
   "id": "a3debf88-e466-4b53-aca8-72f9b1aa917a",
   "metadata": {},
   "outputs": [
    {
     "name": "stderr",
     "output_type": "stream",
     "text": [
      "C:\\Users\\Admin\\AppData\\Local\\Temp\\ipykernel_42864\\3931805231.py:5: FutureWarning:\n",
      "\n",
      "\n",
      "\n",
      "Passing `palette` without assigning `hue` is deprecated and will be removed in v0.14.0. Assign the `x` variable to `hue` and set `legend=False` for the same effect.\n",
      "\n",
      "\n"
     ]
    },
    {
     "data": {
      "image/png": "[encoded data removed]",
      "text/plain": [
       "<Figure size 1000x600 with 1 Axes>"
      ]
     },
     "metadata": {},
     "output_type": "display_data"
    }
   ],
   "source": [
    "# --- 16. Units sold by each Sales Rep ---\n",
    "rep_units = invent.groupby('SalesRep')['UnitsSold'].sum().reset_index().sort_values('UnitsSold', ascending=False)\n",
    "\n",
    "plt.figure(figsize=(10,6))\n",
    "sns.barplot(data=rep_units, x='SalesRep', y='UnitsSold', palette='cool')\n",
    "plt.title('Units Sold by Each Sales Rep')\n",
    "plt.xticks(rotation=45)\n",
    "plt.tight_layout()\n",
    "plt.show()\n"
   ]
  },
  {
   "cell_type": "code",
   "execution_count": 84,
   "id": "167f5db8-b033-49f7-8de9-4de526dce0cc",
   "metadata": {},
   "outputs": [
    {
     "data": {
      "image/png": "[encoded data removed]",
      "text/plain": [
       "<Figure size 800x500 with 1 Axes>"
      ]
     },
     "metadata": {},
     "output_type": "display_data"
    }
   ],
   "source": [
    "# --- 19. Distribution of Units per Transaction ---\n",
    "units_per_trans = invent.groupby('TransactionID')['UnitsSold'].sum().reset_index()\n",
    "\n",
    "plt.figure(figsize=(8,5))\n",
    "sns.histplot(units_per_trans['UnitsSold'], bins=20, kde=True, color='orange')\n",
    "plt.title('Distribution: Units per Transaction')\n",
    "plt.xlabel('Units per Transaction')\n",
    "plt.ylabel('Frequency')\n",
    "plt.tight_layout()\n",
    "plt.show()"
   ]
  },
  {
   "cell_type": "code",
   "execution_count": 33,
   "id": "60ebe0e1-6e39-4d98-8277-7aaa6c93e8ee",
   "metadata": {},
   "outputs": [
    {
     "data": {
      "image/png": "[encoded data removed]",
      "text/plain": [
       "<Figure size 1000x600 with 1 Axes>"
      ]
     },
     "metadata": {},
     "output_type": "display_data"
    }
   ],
   "source": [
    "\n",
    "sns.set_style(\"whitegrid\")\n",
    "\n",
    "# 1. Total Revenue by City\n",
    "city_revenue = invent.groupby(\"City\")[\"Revenue\"].sum().reset_index()\n",
    "plt.figure(figsize=(10,6))\n",
    "sns.barplot(x=\"City\", y=\"Revenue\", color=\"purple\", data=city_revenue)\n",
    "plt.title(\"Total Revenue by City\")\n",
    "plt.show()"
   ]
  },
  {
   "cell_type": "code",
   "execution_count": 35,
   "id": "5de10462-8dbc-4215-a4cf-49f5bc780b72",
   "metadata": {},
   "outputs": [
    {
     "data": {
      "application/vnd.plotly.v1+json": {
       "config": {
        "plotlyServerURL": "https://plot.ly"
       },
       "data": [
        {
         "alignmentgroup": "True",
         "hovertemplate": "Category=Accessories<br>City=%{x}<br>Revenue=%{y}<extra></extra>",
         "legendgroup": "Accessories",
         "marker": {
          "color": "#636efa",
          "pattern": {
           "shape": ""
          }
         },
         "name": "Accessories",
         "offsetgroup": "Accessories",
         "orientation": "v",
         "showlegend": true,
         "textposition": "auto",
         "texttemplate": "%{y:.2s}",
         "type": "bar",
         "x": [
          "Abuja",
          "Kano",
          "Lagos",
          "Port Harcourt"
         ],
         "xaxis": "x",
         "y": [
          139500,
          129000,
          166500,
          314000
         ],
         "yaxis": "y"
        },
        {
         "alignmentgroup": "True",
         "hovertemplate": "Category=Appliances<br>City=%{x}<br>Revenue=%{y}<extra></extra>",
         "legendgroup": "Appliances",
         "marker": {
          "color": "#EF553B",
          "pattern": {
           "shape": ""
          }
         },
         "name": "Appliances",
         "offsetgroup": "Appliances",
         "orientation": "v",
         "showlegend": true,
         "textposition": "auto",
         "texttemplate": "%{y:.2s}",
         "type": "bar",
         "x": [
          "Abuja",
          "Kano",
          "Lagos",
          "Port Harcourt"
         ],
         "xaxis": "x",
         "y": [
          2117000,
          3201000,
          2827000,
          1478000
         ],
         "yaxis": "y"
        },
        {
         "alignmentgroup": "True",
         "hovertemplate": "Category=Electronics<br>City=%{x}<br>Revenue=%{y}<extra></extra>",
         "legendgroup": "Electronics",
         "marker": {
          "color": "#00cc96",
          "pattern": {
           "shape": ""
          }
         },
         "name": "Electronics",
         "offsetgroup": "Electronics",
         "orientation": "v",
         "showlegend": true,
         "textposition": "auto",
         "texttemplate": "%{y:.2s}",
         "type": "bar",
         "x": [
          "Abuja",
          "Kano",
          "Lagos",
          "Port Harcourt"
         ],
         "xaxis": "x",
         "y": [
          2075000,
          5612000,
          6292000,
          5170000
         ],
         "yaxis": "y"
        }
       ],
       "layout": {
        "barmode": "stack",
        "legend": {
         "title": {
          "text": "Category"
         },
         "tracegroupgap": 0
        },
        "template": {
         "data": {
          "bar": [
           {
            "error_x": {
             "color": "#2a3f5f"
            },
            "error_y": {
             "color": "#2a3f5f"
            },
            "marker": {
             "line": {
              "color": "#E5ECF6",
              "width": 0.5
             },
             "pattern": {
              "fillmode": "overlay",
              "size": 10,
              "solidity": 0.2
             }
            },
            "type": "bar"
           }
          ],
          "barpolar": [
           {
            "marker": {
             "line": {
              "color": "#E5ECF6",
              "width": 0.5
             },
             "pattern": {
              "fillmode": "overlay",
              "size": 10,
              "solidity": 0.2
             }
            },
            "type": "barpolar"
           }
          ],
          "carpet": [
           {
            "aaxis": {
             "endlinecolor": "#2a3f5f",
             "gridcolor": "white",
             "linecolor": "white",
             "minorgridcolor": "white",
             "startlinecolor": "#2a3f5f"
            },
            "baxis": {
             "endlinecolor": "#2a3f5f",
             "gridcolor": "white",
             "linecolor": "white",
             "minorgridcolor": "white",
             "startlinecolor": "#2a3f5f"
            },
            "type": "carpet"
           }
          ],
          "choropleth": [
           {
            "colorbar": {
             "outlinewidth": 0,
             "ticks": ""
            },
            "type": "choropleth"
           }
          ],
          "contour": [
           {
            "colorbar": {
             "outlinewidth": 0,
             "ticks": ""
            },
            "colorscale": [
             [
              0,
              "#0d0887"
             ],
             [
              0.1111111111111111,
              "#46039f"
             ],
             [
              0.2222222222222222,
              "#7201a8"
             ],
             [
              0.3333333333333333,
              "#9c179e"
             ],
             [
              0.4444444444444444,
              "#bd3786"
             ],
             [
              0.5555555555555556,
              "#d8576b"
             ],
             [
              0.6666666666666666,
              "#ed7953"
             ],
             [
              0.7777777777777778,
              "#fb9f3a"
             ],
             [
              0.8888888888888888,
              "#fdca26"
             ],
             [
              1,
              "#f0f921"
             ]
            ],
            "type": "contour"
           }
          ],
          "contourcarpet": [
           {
            "colorbar": {
             "outlinewidth": 0,
             "ticks": ""
            },
            "type": "contourcarpet"
           }
          ],
          "heatmap": [
           {
            "colorbar": {
             "outlinewidth": 0,
             "ticks": ""
            },
            "colorscale": [
             [
              0,
              "#0d0887"
             ],
             [
              0.1111111111111111,
              "#46039f"
             ],
             [
              0.2222222222222222,
              "#7201a8"
             ],
             [
              0.3333333333333333,
              "#9c179e"
             ],
             [
              0.4444444444444444,
              "#bd3786"
             ],
             [
              0.5555555555555556,
              "#d8576b"
             ],
             [
              0.6666666666666666,
              "#ed7953"
             ],
             [
              0.7777777777777778,
              "#fb9f3a"
             ],
             [
              0.8888888888888888,
              "#fdca26"
             ],
             [
              1,
              "#f0f921"
             ]
            ],
            "type": "heatmap"
           }
          ],
          "heatmapgl": [
           {
            "colorbar": {
             "outlinewidth": 0,
             "ticks": ""
            },
            "colorscale": [
             [
              0,
              "#0d0887"
             ],
             [
              0.1111111111111111,
              "#46039f"
             ],
             [
              0.2222222222222222,
              "#7201a8"
             ],
             [
              0.3333333333333333,
              "#9c179e"
             ],
             [
              0.4444444444444444,
              "#bd3786"
             ],
             [
              0.5555555555555556,
              "#d8576b"
             ],
             [
              0.6666666666666666,
              "#ed7953"
             ],
             [
              0.7777777777777778,
              "#fb9f3a"
             ],
             [
              0.8888888888888888,
              "#fdca26"
             ],
             [
              1,
              "#f0f921"
             ]
            ],
            "type": "heatmapgl"
           }
          ],
          "histogram": [
           {
            "marker": {
             "pattern": {
              "fillmode": "overlay",
              "size": 10,
              "solidity": 0.2
             }
            },
            "type": "histogram"
           }
          ],
          "histogram2d": [
           {
            "colorbar": {
             "outlinewidth": 0,
             "ticks": ""
            },
            "colorscale": [
             [
              0,
              "#0d0887"
             ],
             [
              0.1111111111111111,
              "#46039f"
             ],
             [
              0.2222222222222222,
              "#7201a8"
             ],
             [
              0.3333333333333333,
              "#9c179e"
             ],
             [
              0.4444444444444444,
              "#bd3786"
             ],
             [
              0.5555555555555556,
              "#d8576b"
             ],
             [
              0.6666666666666666,
              "#ed7953"
             ],
             [
              0.7777777777777778,
              "#fb9f3a"
             ],
             [
              0.8888888888888888,
              "#fdca26"
             ],
             [
              1,
              "#f0f921"
             ]
            ],
            "type": "histogram2d"
           }
          ],
          "histogram2dcontour": [
           {
            "colorbar": {
             "outlinewidth": 0,
             "ticks": ""
            },
            "colorscale": [
             [
              0,
              "#0d0887"
             ],
             [
              0.1111111111111111,
              "#46039f"
             ],
             [
              0.2222222222222222,
              "#7201a8"
             ],
             [
              0.3333333333333333,
              "#9c179e"
             ],
             [
              0.4444444444444444,
              "#bd3786"
             ],
             [
              0.5555555555555556,
              "#d8576b"
             ],
             [
              0.6666666666666666,
              "#ed7953"
             ],
             [
              0.7777777777777778,
              "#fb9f3a"
             ],
             [
              0.8888888888888888,
              "#fdca26"
             ],
             [
              1,
              "#f0f921"
             ]
            ],
            "type": "histogram2dcontour"
           }
          ],
          "mesh3d": [
           {
            "colorbar": {
             "outlinewidth": 0,
             "ticks": ""
            },
            "type": "mesh3d"
           }
          ],
          "parcoords": [
           {
            "line": {
             "colorbar": {
              "outlinewidth": 0,
              "ticks": ""
             }
            },
            "type": "parcoords"
           }
          ],
          "pie": [
           {
            "automargin": true,
            "type": "pie"
           }
          ],
          "scatter": [
           {
            "fillpattern": {
             "fillmode": "overlay",
             "size": 10,
             "solidity": 0.2
            },
            "type": "scatter"
           }
          ],
          "scatter3d": [
           {
            "line": {
             "colorbar": {
              "outlinewidth": 0,
              "ticks": ""
             }
            },
            "marker": {
             "colorbar": {
              "outlinewidth": 0,
              "ticks": ""
             }
            },
            "type": "scatter3d"
           }
          ],
          "scattercarpet": [
           {
            "marker": {
             "colorbar": {
              "outlinewidth": 0,
              "ticks": ""
             }
            },
            "type": "scattercarpet"
           }
          ],
          "scattergeo": [
           {
            "marker": {
             "colorbar": {
              "outlinewidth": 0,
              "ticks": ""
             }
            },
            "type": "scattergeo"
           }
          ],
          "scattergl": [
           {
            "marker": {
             "colorbar": {
              "outlinewidth": 0,
              "ticks": ""
             }
            },
            "type": "scattergl"
           }
          ],
          "scattermapbox": [
           {
            "marker": {
             "colorbar": {
              "outlinewidth": 0,
              "ticks": ""
             }
            },
            "type": "scattermapbox"
           }
          ],
          "scatterpolar": [
           {
            "marker": {
             "colorbar": {
              "outlinewidth": 0,
              "ticks": ""
             }
            },
            "type": "scatterpolar"
           }
          ],
          "scatterpolargl": [
           {
            "marker": {
             "colorbar": {
              "outlinewidth": 0,
              "ticks": ""
             }
            },
            "type": "scatterpolargl"
           }
          ],
          "scatterternary": [
           {
            "marker": {
             "colorbar": {
              "outlinewidth": 0,
              "ticks": ""
             }
            },
            "type": "scatterternary"
           }
          ],
          "surface": [
           {
            "colorbar": {
             "outlinewidth": 0,
             "ticks": ""
            },
            "colorscale": [
             [
              0,
              "#0d0887"
             ],
             [
              0.1111111111111111,
              "#46039f"
             ],
             [
              0.2222222222222222,
              "#7201a8"
             ],
             [
              0.3333333333333333,
              "#9c179e"
             ],
             [
              0.4444444444444444,
              "#bd3786"
             ],
             [
              0.5555555555555556,
              "#d8576b"
             ],
             [
              0.6666666666666666,
              "#ed7953"
             ],
             [
              0.7777777777777778,
              "#fb9f3a"
             ],
             [
              0.8888888888888888,
              "#fdca26"
             ],
             [
              1,
              "#f0f921"
             ]
            ],
            "type": "surface"
           }
          ],
          "table": [
           {
            "cells": {
             "fill": {
              "color": "#EBF0F8"
             },
             "line": {
              "color": "white"
             }
            },
            "header": {
             "fill": {
              "color": "#C8D4E3"
             },
             "line": {
              "color": "white"
             }
            },
            "type": "table"
           }
          ]
         },
         "layout": {
          "annotationdefaults": {
           "arrowcolor": "#2a3f5f",
           "arrowhead": 0,
           "arrowwidth": 1
          },
          "autotypenumbers": "strict",
          "coloraxis": {
           "colorbar": {
            "outlinewidth": 0,
            "ticks": ""
           }
          },
          "colorscale": {
           "diverging": [
            [
             0,
             "#8e0152"
            ],
            [
             0.1,
             "#c51b7d"
            ],
            [
             0.2,
             "#de77ae"
            ],
            [
             0.3,
             "#f1b6da"
            ],
            [
             0.4,
             "#fde0ef"
            ],
            [
             0.5,
             "#f7f7f7"
            ],
            [
             0.6,
             "#e6f5d0"
            ],
            [
             0.7,
             "#b8e186"
            ],
            [
             0.8,
             "#7fbc41"
            ],
            [
             0.9,
             "#4d9221"
            ],
            [
             1,
             "#276419"
            ]
           ],
           "sequential": [
            [
             0,
             "#0d0887"
            ],
            [
             0.1111111111111111,
             "#46039f"
            ],
            [
             0.2222222222222222,
             "#7201a8"
            ],
            [
             0.3333333333333333,
             "#9c179e"
            ],
            [
             0.4444444444444444,
             "#bd3786"
            ],
            [
             0.5555555555555556,
             "#d8576b"
            ],
            [
             0.6666666666666666,
             "#ed7953"
            ],
            [
             0.7777777777777778,
             "#fb9f3a"
            ],
            [
             0.8888888888888888,
             "#fdca26"
            ],
            [
             1,
             "#f0f921"
            ]
           ],
           "sequentialminus": [
            [
             0,
             "#0d0887"
            ],
            [
             0.1111111111111111,
             "#46039f"
            ],
            [
             0.2222222222222222,
             "#7201a8"
            ],
            [
             0.3333333333333333,
             "#9c179e"
            ],
            [
             0.4444444444444444,
             "#bd3786"
            ],
            [
             0.5555555555555556,
             "#d8576b"
            ],
            [
             0.6666666666666666,
             "#ed7953"
            ],
            [
             0.7777777777777778,
             "#fb9f3a"
            ],
            [
             0.8888888888888888,
             "#fdca26"
            ],
            [
             1,
             "#f0f921"
            ]
           ]
          },
          "colorway": [
           "#636efa",
           "#EF553B",
           "#00cc96",
           "#ab63fa",
           "#FFA15A",
           "#19d3f3",
           "#FF6692",
           "#B6E880",
           "#FF97FF",
           "#FECB52"
          ],
          "font": {
           "color": "#2a3f5f"
          },
          "geo": {
           "bgcolor": "white",
           "lakecolor": "white",
           "landcolor": "#E5ECF6",
           "showlakes": true,
           "showland": true,
           "subunitcolor": "white"
          },
          "hoverlabel": {
           "align": "left"
          },
          "hovermode": "closest",
          "mapbox": {
           "style": "light"
          },
          "paper_bgcolor": "white",
          "plot_bgcolor": "#E5ECF6",
          "polar": {
           "angularaxis": {
            "gridcolor": "white",
            "linecolor": "white",
            "ticks": ""
           },
           "bgcolor": "#E5ECF6",
           "radialaxis": {
            "gridcolor": "white",
            "linecolor": "white",
            "ticks": ""
           }
          },
          "scene": {
           "xaxis": {
            "backgroundcolor": "#E5ECF6",
            "gridcolor": "white",
            "gridwidth": 2,
            "linecolor": "white",
            "showbackground": true,
            "ticks": "",
            "zerolinecolor": "white"
           },
           "yaxis": {
            "backgroundcolor": "#E5ECF6",
            "gridcolor": "white",
            "gridwidth": 2,
            "linecolor": "white",
            "showbackground": true,
            "ticks": "",
            "zerolinecolor": "white"
           },
           "zaxis": {
            "backgroundcolor": "#E5ECF6",
            "gridcolor": "white",
            "gridwidth": 2,
            "linecolor": "white",
            "showbackground": true,
            "ticks": "",
            "zerolinecolor": "white"
           }
          },
          "shapedefaults": {
           "line": {
            "color": "#2a3f5f"
           }
          },
          "ternary": {
           "aaxis": {
            "gridcolor": "white",
            "linecolor": "white",
            "ticks": ""
           },
           "baxis": {
            "gridcolor": "white",
            "linecolor": "white",
            "ticks": ""
           },
           "bgcolor": "#E5ECF6",
           "caxis": {
            "gridcolor": "white",
            "linecolor": "white",
            "ticks": ""
           }
          },
          "title": {
           "x": 0.05
          },
          "xaxis": {
           "automargin": true,
           "gridcolor": "white",
           "linecolor": "white",
           "ticks": "",
           "title": {
            "standoff": 15
           },
           "zerolinecolor": "white",
           "zerolinewidth": 2
          },
          "yaxis": {
           "automargin": true,
           "gridcolor": "white",
           "linecolor": "white",
           "ticks": "",
           "title": {
            "standoff": 15
           },
           "zerolinecolor": "white",
           "zerolinewidth": 2
          }
         }
        },
        "title": {
         "text": "Revenue by City and Product Category"
        },
        "xaxis": {
         "anchor": "y",
         "domain": [
          0,
          1
         ],
         "tickangle": -45,
         "title": {
          "text": "City"
         }
        },
        "yaxis": {
         "anchor": "x",
         "domain": [
          0,
          1
         ],
         "title": {
          "text": "Revenue"
         }
        }
       }
      },
      "image/png": "[encoded data removed]",
      "text/html": [
       "<div>                            <div id=\"d193bbfa-15f7-4f52-a3af-17ca61aac4a1\" class=\"plotly-graph-div\" style=\"height:525px; width:100%;\"></div>            <script type=\"text/javascript\">                require([\"plotly\"], function(Plotly) {                    window.PLOTLYENV=window.PLOTLYENV || {};                                    if (document.getElementById(\"d193bbfa-15f7-4f52-a3af-17ca61aac4a1\")) {                    Plotly.newPlot(                        \"d193bbfa-15f7-4f52-a3af-17ca61aac4a1\",                        [{\"alignmentgroup\":\"True\",\"hovertemplate\":\"Category=Accessories\\u003cbr\\u003eCity=%{x}\\u003cbr\\u003eRevenue=%{y}\\u003cextra\\u003e\\u003c\\u002fextra\\u003e\",\"legendgroup\":\"Accessories\",\"marker\":{\"color\":\"#636efa\",\"pattern\":{\"shape\":\"\"}},\"name\":\"Accessories\",\"offsetgroup\":\"Accessories\",\"orientation\":\"v\",\"showlegend\":true,\"textposition\":\"auto\",\"texttemplate\":\"%{y:.2s}\",\"x\":[\"Abuja\",\"Kano\",\"Lagos\",\"Port Harcourt\"],\"xaxis\":\"x\",\"y\":[139500,129000,166500,314000],\"yaxis\":\"y\",\"type\":\"bar\"},{\"alignmentgroup\":\"True\",\"hovertemplate\":\"Category=Appliances\\u003cbr\\u003eCity=%{x}\\u003cbr\\u003eRevenue=%{y}\\u003cextra\\u003e\\u003c\\u002fextra\\u003e\",\"legendgroup\":\"Appliances\",\"marker\":{\"color\":\"#EF553B\",\"pattern\":{\"shape\":\"\"}},\"name\":\"Appliances\",\"offsetgroup\":\"Appliances\",\"orientation\":\"v\",\"showlegend\":true,\"textposition\":\"auto\",\"texttemplate\":\"%{y:.2s}\",\"x\":[\"Abuja\",\"Kano\",\"Lagos\",\"Port Harcourt\"],\"xaxis\":\"x\",\"y\":[2117000,3201000,2827000,1478000],\"yaxis\":\"y\",\"type\":\"bar\"},{\"alignmentgroup\":\"True\",\"hovertemplate\":\"Category=Electronics\\u003cbr\\u003eCity=%{x}\\u003cbr\\u003eRevenue=%{y}\\u003cextra\\u003e\\u003c\\u002fextra\\u003e\",\"legendgroup\":\"Electronics\",\"marker\":{\"color\":\"#00cc96\",\"pattern\":{\"shape\":\"\"}},\"name\":\"Electronics\",\"offsetgroup\":\"Electronics\",\"orientation\":\"v\",\"showlegend\":true,\"textposition\":\"auto\",\"texttemplate\":\"%{y:.2s}\",\"x\":[\"Abuja\",\"Kano\",\"Lagos\",\"Port Harcourt\"],\"xaxis\":\"x\",\"y\":[2075000,5612000,6292000,5170000],\"yaxis\":\"y\",\"type\":\"bar\"}],                        {\"template\":{\"data\":{\"histogram2dcontour\":[{\"type\":\"histogram2dcontour\",\"colorbar\":{\"outlinewidth\":0,\"ticks\":\"\"},\"colorscale\":[[0.0,\"#0d0887\"],[0.1111111111111111,\"#46039f\"],[0.2222222222222222,\"#7201a8\"],[0.3333333333333333,\"#9c179e\"],[0.4444444444444444,\"#bd3786\"],[0.5555555555555556,\"#d8576b\"],[0.6666666666666666,\"#ed7953\"],[0.7777777777777778,\"#fb9f3a\"],[0.8888888888888888,\"#fdca26\"],[1.0,\"#f0f921\"]]}],\"choropleth\":[{\"type\":\"choropleth\",\"colorbar\":{\"outlinewidth\":0,\"ticks\":\"\"}}],\"histogram2d\":[{\"type\":\"histogram2d\",\"colorbar\":{\"outlinewidth\":0,\"ticks\":\"\"},\"colorscale\":[[0.0,\"#0d0887\"],[0.1111111111111111,\"#46039f\"],[0.2222222222222222,\"#7201a8\"],[0.3333333333333333,\"#9c179e\"],[0.4444444444444444,\"#bd3786\"],[0.5555555555555556,\"#d8576b\"],[0.6666666666666666,\"#ed7953\"],[0.7777777777777778,\"#fb9f3a\"],[0.8888888888888888,\"#fdca26\"],[1.0,\"#f0f921\"]]}],\"heatmap\":[{\"type\":\"heatmap\",\"colorbar\":{\"outlinewidth\":0,\"ticks\":\"\"},\"colorscale\":[[0.0,\"#0d0887\"],[0.1111111111111111,\"#46039f\"],[0.2222222222222222,\"#7201a8\"],[0.3333333333333333,\"#9c179e\"],[0.4444444444444444,\"#bd3786\"],[0.5555555555555556,\"#d8576b\"],[0.6666666666666666,\"#ed7953\"],[0.7777777777777778,\"#fb9f3a\"],[0.8888888888888888,\"#fdca26\"],[1.0,\"#f0f921\"]]}],\"heatmapgl\":[{\"type\":\"heatmapgl\",\"colorbar\":{\"outlinewidth\":0,\"ticks\":\"\"},\"colorscale\":[[0.0,\"#0d0887\"],[0.1111111111111111,\"#46039f\"],[0.2222222222222222,\"#7201a8\"],[0.3333333333333333,\"#9c179e\"],[0.4444444444444444,\"#bd3786\"],[0.5555555555555556,\"#d8576b\"],[0.6666666666666666,\"#ed7953\"],[0.7777777777777778,\"#fb9f3a\"],[0.8888888888888888,\"#fdca26\"],[1.0,\"#f0f921\"]]}],\"contourcarpet\":[{\"type\":\"contourcarpet\",\"colorbar\":{\"outlinewidth\":0,\"ticks\":\"\"}}],\"contour\":[{\"type\":\"contour\",\"colorbar\":{\"outlinewidth\":0,\"ticks\":\"\"},\"colorscale\":[[0.0,\"#0d0887\"],[0.1111111111111111,\"#46039f\"],[0.2222222222222222,\"#7201a8\"],[0.3333333333333333,\"#9c179e\"],[0.4444444444444444,\"#bd3786\"],[0.5555555555555556,\"#d8576b\"],[0.6666666666666666,\"#ed7953\"],[0.7777777777777778,\"#fb9f3a\"],[0.8888888888888888,\"#fdca26\"],[1.0,\"#f0f921\"]]}],\"surface\":[{\"type\":\"surface\",\"colorbar\":{\"outlinewidth\":0,\"ticks\":\"\"},\"colorscale\":[[0.0,\"#0d0887\"],[0.1111111111111111,\"#46039f\"],[0.2222222222222222,\"#7201a8\"],[0.3333333333333333,\"#9c179e\"],[0.4444444444444444,\"#bd3786\"],[0.5555555555555556,\"#d8576b\"],[0.6666666666666666,\"#ed7953\"],[0.7777777777777778,\"#fb9f3a\"],[0.8888888888888888,\"#fdca26\"],[1.0,\"#f0f921\"]]}],\"mesh3d\":[{\"type\":\"mesh3d\",\"colorbar\":{\"outlinewidth\":0,\"ticks\":\"\"}}],\"scatter\":[{\"fillpattern\":{\"fillmode\":\"overlay\",\"size\":10,\"solidity\":0.2},\"type\":\"scatter\"}],\"parcoords\":[{\"type\":\"parcoords\",\"line\":{\"colorbar\":{\"outlinewidth\":0,\"ticks\":\"\"}}}],\"scatterpolargl\":[{\"type\":\"scatterpolargl\",\"marker\":{\"colorbar\":{\"outlinewidth\":0,\"ticks\":\"\"}}}],\"bar\":[{\"error_x\":{\"color\":\"#2a3f5f\"},\"error_y\":{\"color\":\"#2a3f5f\"},\"marker\":{\"line\":{\"color\":\"#E5ECF6\",\"width\":0.5},\"pattern\":{\"fillmode\":\"overlay\",\"size\":10,\"solidity\":0.2}},\"type\":\"bar\"}],\"scattergeo\":[{\"type\":\"scattergeo\",\"marker\":{\"colorbar\":{\"outlinewidth\":0,\"ticks\":\"\"}}}],\"scatterpolar\":[{\"type\":\"scatterpolar\",\"marker\":{\"colorbar\":{\"outlinewidth\":0,\"ticks\":\"\"}}}],\"histogram\":[{\"marker\":{\"pattern\":{\"fillmode\":\"overlay\",\"size\":10,\"solidity\":0.2}},\"type\":\"histogram\"}],\"scattergl\":[{\"type\":\"scattergl\",\"marker\":{\"colorbar\":{\"outlinewidth\":0,\"ticks\":\"\"}}}],\"scatter3d\":[{\"type\":\"scatter3d\",\"line\":{\"colorbar\":{\"outlinewidth\":0,\"ticks\":\"\"}},\"marker\":{\"colorbar\":{\"outlinewidth\":0,\"ticks\":\"\"}}}],\"scattermapbox\":[{\"type\":\"scattermapbox\",\"marker\":{\"colorbar\":{\"outlinewidth\":0,\"ticks\":\"\"}}}],\"scatterternary\":[{\"type\":\"scatterternary\",\"marker\":{\"colorbar\":{\"outlinewidth\":0,\"ticks\":\"\"}}}],\"scattercarpet\":[{\"type\":\"scattercarpet\",\"marker\":{\"colorbar\":{\"outlinewidth\":0,\"ticks\":\"\"}}}],\"carpet\":[{\"aaxis\":{\"endlinecolor\":\"#2a3f5f\",\"gridcolor\":\"white\",\"linecolor\":\"white\",\"minorgridcolor\":\"white\",\"startlinecolor\":\"#2a3f5f\"},\"baxis\":{\"endlinecolor\":\"#2a3f5f\",\"gridcolor\":\"white\",\"linecolor\":\"white\",\"minorgridcolor\":\"white\",\"startlinecolor\":\"#2a3f5f\"},\"type\":\"carpet\"}],\"table\":[{\"cells\":{\"fill\":{\"color\":\"#EBF0F8\"},\"line\":{\"color\":\"white\"}},\"header\":{\"fill\":{\"color\":\"#C8D4E3\"},\"line\":{\"color\":\"white\"}},\"type\":\"table\"}],\"barpolar\":[{\"marker\":{\"line\":{\"color\":\"#E5ECF6\",\"width\":0.5},\"pattern\":{\"fillmode\":\"overlay\",\"size\":10,\"solidity\":0.2}},\"type\":\"barpolar\"}],\"pie\":[{\"automargin\":true,\"type\":\"pie\"}]},\"layout\":{\"autotypenumbers\":\"strict\",\"colorway\":[\"#636efa\",\"#EF553B\",\"#00cc96\",\"#ab63fa\",\"#FFA15A\",\"#19d3f3\",\"#FF6692\",\"#B6E880\",\"#FF97FF\",\"#FECB52\"],\"font\":{\"color\":\"#2a3f5f\"},\"hovermode\":\"closest\",\"hoverlabel\":{\"align\":\"left\"},\"paper_bgcolor\":\"white\",\"plot_bgcolor\":\"#E5ECF6\",\"polar\":{\"bgcolor\":\"#E5ECF6\",\"angularaxis\":{\"gridcolor\":\"white\",\"linecolor\":\"white\",\"ticks\":\"\"},\"radialaxis\":{\"gridcolor\":\"white\",\"linecolor\":\"white\",\"ticks\":\"\"}},\"ternary\":{\"bgcolor\":\"#E5ECF6\",\"aaxis\":{\"gridcolor\":\"white\",\"linecolor\":\"white\",\"ticks\":\"\"},\"baxis\":{\"gridcolor\":\"white\",\"linecolor\":\"white\",\"ticks\":\"\"},\"caxis\":{\"gridcolor\":\"white\",\"linecolor\":\"white\",\"ticks\":\"\"}},\"coloraxis\":{\"colorbar\":{\"outlinewidth\":0,\"ticks\":\"\"}},\"colorscale\":{\"sequential\":[[0.0,\"#0d0887\"],[0.1111111111111111,\"#46039f\"],[0.2222222222222222,\"#7201a8\"],[0.3333333333333333,\"#9c179e\"],[0.4444444444444444,\"#bd3786\"],[0.5555555555555556,\"#d8576b\"],[0.6666666666666666,\"#ed7953\"],[0.7777777777777778,\"#fb9f3a\"],[0.8888888888888888,\"#fdca26\"],[1.0,\"#f0f921\"]],\"sequentialminus\":[[0.0,\"#0d0887\"],[0.1111111111111111,\"#46039f\"],[0.2222222222222222,\"#7201a8\"],[0.3333333333333333,\"#9c179e\"],[0.4444444444444444,\"#bd3786\"],[0.5555555555555556,\"#d8576b\"],[0.6666666666666666,\"#ed7953\"],[0.7777777777777778,\"#fb9f3a\"],[0.8888888888888888,\"#fdca26\"],[1.0,\"#f0f921\"]],\"diverging\":[[0,\"#8e0152\"],[0.1,\"#c51b7d\"],[0.2,\"#de77ae\"],[0.3,\"#f1b6da\"],[0.4,\"#fde0ef\"],[0.5,\"#f7f7f7\"],[0.6,\"#e6f5d0\"],[0.7,\"#b8e186\"],[0.8,\"#7fbc41\"],[0.9,\"#4d9221\"],[1,\"#276419\"]]},\"xaxis\":{\"gridcolor\":\"white\",\"linecolor\":\"white\",\"ticks\":\"\",\"title\":{\"standoff\":15},\"zerolinecolor\":\"white\",\"automargin\":true,\"zerolinewidth\":2},\"yaxis\":{\"gridcolor\":\"white\",\"linecolor\":\"white\",\"ticks\":\"\",\"title\":{\"standoff\":15},\"zerolinecolor\":\"white\",\"automargin\":true,\"zerolinewidth\":2},\"scene\":{\"xaxis\":{\"backgroundcolor\":\"#E5ECF6\",\"gridcolor\":\"white\",\"linecolor\":\"white\",\"showbackground\":true,\"ticks\":\"\",\"zerolinecolor\":\"white\",\"gridwidth\":2},\"yaxis\":{\"backgroundcolor\":\"#E5ECF6\",\"gridcolor\":\"white\",\"linecolor\":\"white\",\"showbackground\":true,\"ticks\":\"\",\"zerolinecolor\":\"white\",\"gridwidth\":2},\"zaxis\":{\"backgroundcolor\":\"#E5ECF6\",\"gridcolor\":\"white\",\"linecolor\":\"white\",\"showbackground\":true,\"ticks\":\"\",\"zerolinecolor\":\"white\",\"gridwidth\":2}},\"shapedefaults\":{\"line\":{\"color\":\"#2a3f5f\"}},\"annotationdefaults\":{\"arrowcolor\":\"#2a3f5f\",\"arrowhead\":0,\"arrowwidth\":1},\"geo\":{\"bgcolor\":\"white\",\"landcolor\":\"#E5ECF6\",\"subunitcolor\":\"white\",\"showland\":true,\"showlakes\":true,\"lakecolor\":\"white\"},\"title\":{\"x\":0.05},\"mapbox\":{\"style\":\"light\"}}},\"xaxis\":{\"anchor\":\"y\",\"domain\":[0.0,1.0],\"title\":{\"text\":\"City\"},\"tickangle\":-45},\"yaxis\":{\"anchor\":\"x\",\"domain\":[0.0,1.0],\"title\":{\"text\":\"Revenue\"}},\"legend\":{\"title\":{\"text\":\"Category\"},\"tracegroupgap\":0},\"title\":{\"text\":\"Revenue by City and Product Category\"},\"barmode\":\"stack\"},                        {\"responsive\": true}                    ).then(function(){\n",
       "                            \n",
       "var gd = document.getElementById('d193bbfa-15f7-4f52-a3af-17ca61aac4a1');\n",
       "var x = new MutationObserver(function (mutations, observer) {{\n",
       "        var display = window.getComputedStyle(gd).display;\n",
       "        if (!display || display === 'none') {{\n",
       "            console.log([gd, 'removed!']);\n",
       "            Plotly.purge(gd);\n",
       "            observer.disconnect();\n",
       "        }}\n",
       "}});\n",
       "\n",
       "// Listen for the removal of the full notebook cells\n",
       "var notebookContainer = gd.closest('#notebook-container');\n",
       "if (notebookContainer) {{\n",
       "    x.observe(notebookContainer, {childList: true});\n",
       "}}\n",
       "\n",
       "// Listen for the clearing of the current output cell\n",
       "var outputEl = gd.closest('.output');\n",
       "if (outputEl) {{\n",
       "    x.observe(outputEl, {childList: true});\n",
       "}}\n",
       "\n",
       "                        })                };                });            </script>        </div>"
      ]
     },
     "metadata": {},
     "output_type": "display_data"
    }
   ],
   "source": [
    "\n",
    "\n",
    "city_cat_rev = invent.groupby([\"City\", \"Category\"])[\"Revenue\"].sum().reset_index()\n",
    "\n",
    "fig = px.bar(\n",
    "    city_cat_rev,\n",
    "    x=\"City\",\n",
    "    y=\"Revenue\",\n",
    "    color=\"Category\",\n",
    "    title=\"Revenue by City and Product Category\",\n",
    "    text_auto='.2s'\n",
    ")\n",
    "\n",
    "fig.update_layout(barmode='stack', xaxis_tickangle=-45)\n",
    "fig.show()\n"
   ]
  },
  {
   "cell_type": "code",
   "execution_count": 27,
   "id": "fa3a5b5d-2c8b-4088-8ef6-da4c43ad9c32",
   "metadata": {},
   "outputs": [
    {
     "data": {
      "image/png": "[encoded data removed]",
      "text/plain": [
       "<Figure size 400x300 with 1 Axes>"
      ]
     },
     "metadata": {},
     "output_type": "display_data"
    }
   ],
   "source": [
    "\n",
    "Distinct_customer = invent[\"CustomerID\"].nunique()\n",
    "\n",
    "\n",
    "fig, ax = plt.subplots(figsize=(4,3))\n",
    "ax.set_facecolor(\"#F8F9FA\")  # light grey background\n",
    "fig.patch.set_facecolor(\"#F8F9FA\")\n",
    "\n",
    "ax.text(0.5, 0.6, f\"{Distinct_customer:,}\", \n",
    "        fontsize=40, fontweight='bold', color='#2E86AB', \n",
    "        ha='center', va='center')\n",
    "\n",
    "ax.text(0.5, 0.25, \"Distinct Customers\", \n",
    "        fontsize=12, color='#555555', ha='center')\n",
    "\n",
    "ax.axis(\"off\")\n",
    "\n",
    "for spine in ax.spines.values():\n",
    "    spine.set_visible(False)\n",
    "\n",
    "plt.show()\n"
   ]
  },
  {
   "cell_type": "code",
   "execution_count": 24,
   "id": "58e34ccc-342b-4ae6-8984-34ff4d730c04",
   "metadata": {},
   "outputs": [
    {
     "data": {
      "image/png": "[encoded data removed]",
      "text/plain": [
       "<Figure size 400x300 with 1 Axes>"
      ]
     },
     "metadata": {},
     "output_type": "display_data"
    }
   ],
   "source": [
    "import matplotlib.pyplot as plt\n",
    "\n",
    "customer_counts = invent[\"CustomerID\"].value_counts()\n",
    "customers_more_than_once = (customer_counts > 1).sum()\n",
    "\n",
    "fig, ax = plt.subplots(figsize=(4,3))\n",
    "ax.text(0.5, 0.5, f\"{customers_more_than_once:,}\", fontsize=36, ha='center', va='center', color='teal')\n",
    "ax.text(0.5, 0.2, \"Customers Who Bought More Than Once\", fontsize=10, ha='center')\n",
    "ax.axis(\"off\")\n",
    "plt.show()\n"
   ]
  },
  {
   "cell_type": "code",
   "execution_count": 85,
   "id": "724d218c-544a-4fc0-ba23-93644b406650",
   "metadata": {},
   "outputs": [
    {
     "name": "stdout",
     "output_type": "stream",
     "text": [
      "Defaulting to user installation because normal site-packages is not writeable\n",
      "Requirement already satisfied: dash in c:\\users\\admin\\appdata\\roaming\\python\\python313\\site-packages (3.2.0)\n",
      "Requirement already satisfied: Flask<3.2,>=1.0.4 in c:\\programdata\\anaconda3\\lib\\site-packages (from dash) (3.1.0)\n",
      "Requirement already satisfied: Werkzeug<3.2 in c:\\programdata\\anaconda3\\lib\\site-packages (from dash) (3.1.3)\n",
      "Requirement already satisfied: plotly>=5.0.0 in c:\\programdata\\anaconda3\\lib\\site-packages (from dash) (5.24.1)\n",
      "Requirement already satisfied: importlib-metadata in c:\\programdata\\anaconda3\\lib\\site-packages (from dash) (8.5.0)\n",
      "Requirement already satisfied: typing-extensions>=4.1.1 in c:\\programdata\\anaconda3\\lib\\site-packages (from dash) (4.12.2)\n",
      "Requirement already satisfied: requests in c:\\programdata\\anaconda3\\lib\\site-packages (from dash) (2.32.3)\n",
      "Requirement already satisfied: retrying in c:\\users\\admin\\appdata\\roaming\\python\\python313\\site-packages (from dash) (1.4.2)\n",
      "Requirement already satisfied: nest-asyncio in c:\\programdata\\anaconda3\\lib\\site-packages (from dash) (1.6.0)\n",
      "Requirement already satisfied: setuptools in c:\\programdata\\anaconda3\\lib\\site-packages (from dash) (72.1.0)\n",
      "Requirement already satisfied: Jinja2>=3.1.2 in c:\\programdata\\anaconda3\\lib\\site-packages (from Flask<3.2,>=1.0.4->dash) (3.1.6)\n",
      "Requirement already satisfied: itsdangerous>=2.2 in c:\\programdata\\anaconda3\\lib\\site-packages (from Flask<3.2,>=1.0.4->dash) (2.2.0)\n",
      "Requirement already satisfied: click>=8.1.3 in c:\\programdata\\anaconda3\\lib\\site-packages (from Flask<3.2,>=1.0.4->dash) (8.1.8)\n",
      "Requirement already satisfied: blinker>=1.9 in c:\\programdata\\anaconda3\\lib\\site-packages (from Flask<3.2,>=1.0.4->dash) (1.9.0)\n",
      "Requirement already satisfied: MarkupSafe>=2.1.1 in c:\\programdata\\anaconda3\\lib\\site-packages (from Werkzeug<3.2->dash) (3.0.2)\n",
      "Requirement already satisfied: colorama in c:\\programdata\\anaconda3\\lib\\site-packages (from click>=8.1.3->Flask<3.2,>=1.0.4->dash) (0.4.6)\n",
      "Requirement already satisfied: tenacity>=6.2.0 in c:\\programdata\\anaconda3\\lib\\site-packages (from plotly>=5.0.0->dash) (9.0.0)\n",
      "Requirement already satisfied: packaging in c:\\programdata\\anaconda3\\lib\\site-packages (from plotly>=5.0.0->dash) (24.2)\n",
      "Requirement already satisfied: zipp>=3.20 in c:\\programdata\\anaconda3\\lib\\site-packages (from importlib-metadata->dash) (3.21.0)\n",
      "Requirement already satisfied: charset-normalizer<4,>=2 in c:\\programdata\\anaconda3\\lib\\site-packages (from requests->dash) (3.3.2)\n",
      "Requirement already satisfied: idna<4,>=2.5 in c:\\programdata\\anaconda3\\lib\\site-packages (from requests->dash) (3.7)\n",
      "Requirement already satisfied: urllib3<3,>=1.21.1 in c:\\programdata\\anaconda3\\lib\\site-packages (from requests->dash) (2.3.0)\n",
      "Requirement already satisfied: certifi>=2017.4.17 in c:\\programdata\\anaconda3\\lib\\site-packages (from requests->dash) (2025.4.26)\n",
      "Note: you may need to restart the kernel to use updated packages.\n"
     ]
    }
   ],
   "source": [
    "pip install dash\n"
   ]
  },
  {
   "cell_type": "code",
   "execution_count": 86,
   "id": "bc5e3810-1da4-4b3e-b790-ae37ab13fe23",
   "metadata": {},
   "outputs": [
    {
     "name": "stdout",
     "output_type": "stream",
     "text": [
      "Defaulting to user installation because normal site-packages is not writeable\n",
      "Requirement already satisfied: plotly in c:\\programdata\\anaconda3\\lib\\site-packages (5.24.1)\n",
      "Requirement already satisfied: tenacity>=6.2.0 in c:\\programdata\\anaconda3\\lib\\site-packages (from plotly) (9.0.0)\n",
      "Requirement already satisfied: packaging in c:\\programdata\\anaconda3\\lib\\site-packages (from plotly) (24.2)\n",
      "Note: you may need to restart the kernel to use updated packages.\n"
     ]
    }
   ],
   "source": [
    "pip install plotly\n"
   ]
  },
  {
   "cell_type": "code",
   "execution_count": 87,
   "id": "099b32cb-dcfa-4b84-80ef-528ab7c22e40",
   "metadata": {},
   "outputs": [
    {
     "name": "stdout",
     "output_type": "stream",
     "text": [
      "Name: dash\n",
      "Version: 3.2.0\n",
      "Summary: A Python framework for building reactive web-apps. Developed by Plotly.\n",
      "Home-page: https://plotly.com/dash\n",
      "Author: Chris Parmer\n",
      "Author-email: chris@plotly.com\n",
      "License: MIT\n",
      "Location: C:\\Users\\Admin\\AppData\\Roaming\\Python\\Python313\\site-packages\n",
      "Requires: Flask, importlib-metadata, nest-asyncio, plotly, requests, retrying, setuptools, typing-extensions, Werkzeug\n",
      "Required-by: \n",
      "Note: you may need to restart the kernel to use updated packages.\n"
     ]
    }
   ],
   "source": [
    "pip show dash"
   ]
  },
  {
   "cell_type": "code",
   "execution_count": null,
   "id": "3dd3fc52-05ec-4f98-9750-c017afb2f1b1",
   "metadata": {},
   "outputs": [],
   "source": [
    "import dash\n",
    "from dash import html\n",
    "\n",
    "app = dash.Dash(__name__)\n",
    "app.layout = html.Div(children=[html.H1('Hello Dash!')])\n",
    "\n",
    "if __name__ == '__main__':\n",
    "    app.run_server(debug=True)\n"
   ]
  },
  {
   "cell_type": "code",
   "execution_count": 17,
   "id": "bf520faf-30be-441d-8fd5-4808f0171833",
   "metadata": {},
   "outputs": [
    {
     "name": "stdout",
     "output_type": "stream",
     "text": [
      "Defaulting to user installation because normal site-packages is not writeableNote: you may need to restart the kernel to use updated packages.\n",
      "\n",
      "Collecting dash-bootstrap-components\n",
      "  Downloading dash_bootstrap_components-2.0.4-py3-none-any.whl.metadata (18 kB)\n",
      "Requirement already satisfied: dash>=3.0.4 in c:\\users\\admin\\appdata\\roaming\\python\\python313\\site-packages (from dash-bootstrap-components) (3.2.0)\n",
      "Requirement already satisfied: Flask<3.2,>=1.0.4 in c:\\programdata\\anaconda3\\lib\\site-packages (from dash>=3.0.4->dash-bootstrap-components) (3.1.0)\n",
      "Requirement already satisfied: Werkzeug<3.2 in c:\\programdata\\anaconda3\\lib\\site-packages (from dash>=3.0.4->dash-bootstrap-components) (3.1.3)\n",
      "Requirement already satisfied: plotly>=5.0.0 in c:\\programdata\\anaconda3\\lib\\site-packages (from dash>=3.0.4->dash-bootstrap-components) (5.24.1)\n",
      "Requirement already satisfied: importlib-metadata in c:\\programdata\\anaconda3\\lib\\site-packages (from dash>=3.0.4->dash-bootstrap-components) (8.5.0)\n",
      "Requirement already satisfied: typing-extensions>=4.1.1 in c:\\programdata\\anaconda3\\lib\\site-packages (from dash>=3.0.4->dash-bootstrap-components) (4.12.2)\n",
      "Requirement already satisfied: requests in c:\\programdata\\anaconda3\\lib\\site-packages (from dash>=3.0.4->dash-bootstrap-components) (2.32.3)\n",
      "Requirement already satisfied: retrying in c:\\users\\admin\\appdata\\roaming\\python\\python313\\site-packages (from dash>=3.0.4->dash-bootstrap-components) (1.4.2)\n",
      "Requirement already satisfied: nest-asyncio in c:\\programdata\\anaconda3\\lib\\site-packages (from dash>=3.0.4->dash-bootstrap-components) (1.6.0)\n",
      "Requirement already satisfied: setuptools in c:\\programdata\\anaconda3\\lib\\site-packages (from dash>=3.0.4->dash-bootstrap-components) (72.1.0)\n",
      "Requirement already satisfied: Jinja2>=3.1.2 in c:\\programdata\\anaconda3\\lib\\site-packages (from Flask<3.2,>=1.0.4->dash>=3.0.4->dash-bootstrap-components) (3.1.6)\n",
      "Requirement already satisfied: itsdangerous>=2.2 in c:\\programdata\\anaconda3\\lib\\site-packages (from Flask<3.2,>=1.0.4->dash>=3.0.4->dash-bootstrap-components) (2.2.0)\n",
      "Requirement already satisfied: click>=8.1.3 in c:\\programdata\\anaconda3\\lib\\site-packages (from Flask<3.2,>=1.0.4->dash>=3.0.4->dash-bootstrap-components) (8.1.8)\n",
      "Requirement already satisfied: blinker>=1.9 in c:\\programdata\\anaconda3\\lib\\site-packages (from Flask<3.2,>=1.0.4->dash>=3.0.4->dash-bootstrap-components) (1.9.0)\n",
      "Requirement already satisfied: MarkupSafe>=2.1.1 in c:\\programdata\\anaconda3\\lib\\site-packages (from Werkzeug<3.2->dash>=3.0.4->dash-bootstrap-components) (3.0.2)\n",
      "Requirement already satisfied: colorama in c:\\programdata\\anaconda3\\lib\\site-packages (from click>=8.1.3->Flask<3.2,>=1.0.4->dash>=3.0.4->dash-bootstrap-components) (0.4.6)\n",
      "Requirement already satisfied: tenacity>=6.2.0 in c:\\programdata\\anaconda3\\lib\\site-packages (from plotly>=5.0.0->dash>=3.0.4->dash-bootstrap-components) (9.0.0)\n",
      "Requirement already satisfied: packaging in c:\\programdata\\anaconda3\\lib\\site-packages (from plotly>=5.0.0->dash>=3.0.4->dash-bootstrap-components) (24.2)\n",
      "Requirement already satisfied: zipp>=3.20 in c:\\programdata\\anaconda3\\lib\\site-packages (from importlib-metadata->dash>=3.0.4->dash-bootstrap-components) (3.21.0)\n",
      "Requirement already satisfied: charset-normalizer<4,>=2 in c:\\programdata\\anaconda3\\lib\\site-packages (from requests->dash>=3.0.4->dash-bootstrap-components) (3.3.2)\n",
      "Requirement already satisfied: idna<4,>=2.5 in c:\\programdata\\anaconda3\\lib\\site-packages (from requests->dash>=3.0.4->dash-bootstrap-components) (3.7)\n",
      "Requirement already satisfied: urllib3<3,>=1.21.1 in c:\\programdata\\anaconda3\\lib\\site-packages (from requests->dash>=3.0.4->dash-bootstrap-components) (2.3.0)\n",
      "Requirement already satisfied: certifi>=2017.4.17 in c:\\programdata\\anaconda3\\lib\\site-packages (from requests->dash>=3.0.4->dash-bootstrap-components) (2025.4.26)\n",
      "Downloading dash_bootstrap_components-2.0.4-py3-none-any.whl (204 kB)\n",
      "Installing collected packages: dash-bootstrap-components\n",
      "Successfully installed dash-bootstrap-components-2.0.4\n"
     ]
    }
   ],
   "source": [
    "pip install dash-bootstrap-components"
   ]
  }
 ],
 "metadata": {
  "kernelspec": {
   "display_name": "Python 3 (ipykernel)",
   "language": "python",
   "name": "python3"
  },
  "language_info": {
   "codemirror_mode": {
    "name": "ipython",
    "version": 3
   },
   "file_extension": ".py",
   "mimetype": "text/x-python",
   "name": "python",
   "nbconvert_exporter": "python",
   "pygments_lexer": "ipython3",
   "version": "3.13.5"
  }
 },
 "nbformat": 4,
 "nbformat_minor": 5
}
